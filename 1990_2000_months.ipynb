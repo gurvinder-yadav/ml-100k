{
 "metadata": {
  "language_info": {
   "codemirror_mode": {
    "name": "ipython",
    "version": 3
   },
   "file_extension": ".py",
   "mimetype": "text/x-python",
   "name": "python",
   "nbconvert_exporter": "python",
   "pygments_lexer": "ipython3",
   "version": "3.8.8"
  },
  "orig_nbformat": 4,
  "kernelspec": {
   "name": "python3",
   "display_name": "Python 3.8.8 64-bit ('base': conda)"
  },
  "interpreter": {
   "hash": "13eb042686c59d5277c9538bf70a17f9b47295d55c76e0e5ec7181df9397203d"
  }
 },
 "nbformat": 4,
 "nbformat_minor": 2,
 "cells": [
  {
   "cell_type": "code",
   "execution_count": 1,
   "metadata": {},
   "outputs": [],
   "source": [
    "import numpy as np \n",
    "import pandas as pd "
   ]
  },
  {
   "cell_type": "code",
   "execution_count": 2,
   "metadata": {},
   "outputs": [],
   "source": [
    "u_genre = pd.read_csv('u.genre',delimiter='|')"
   ]
  },
  {
   "cell_type": "code",
   "execution_count": 3,
   "metadata": {},
   "outputs": [],
   "source": [
    "u_genre_np = u_genre.to_numpy(dtype=object)\n",
    "l1 = []\n",
    "for i in range(18):\n",
    "    l1.append(str(u_genre_np[i][0])) \n",
    "l2 = ['movieId','movie_name','release_date','blank','url']\n",
    "l0 = l2+['unknown']+l1\n",
    "k0 = ['userId','movieId','rating','timestamp']"
   ]
  },
  {
   "cell_type": "code",
   "execution_count": 4,
   "metadata": {},
   "outputs": [
    {
     "output_type": "execute_result",
     "data": {
      "text/plain": [
       "      movieId                                 movie_name release_date  blank  \\\n",
       "0           1                           Toy Story (1995)  01-Jan-1995    NaN   \n",
       "1           2                           GoldenEye (1995)  01-Jan-1995    NaN   \n",
       "2           3                          Four Rooms (1995)  01-Jan-1995    NaN   \n",
       "3           4                          Get Shorty (1995)  01-Jan-1995    NaN   \n",
       "4           5                             Copycat (1995)  01-Jan-1995    NaN   \n",
       "...       ...                                        ...          ...    ...   \n",
       "1677     1678                          Mat' i syn (1997)  06-Feb-1998    NaN   \n",
       "1678     1679                           B. Monkey (1998)  06-Feb-1998    NaN   \n",
       "1679     1680                       Sliding Doors (1998)  01-Jan-1998    NaN   \n",
       "1680     1681                        You So Crazy (1994)  01-Jan-1994    NaN   \n",
       "1681     1682  Scream of Stone (Schrei aus Stein) (1991)  08-Mar-1996    NaN   \n",
       "\n",
       "                                                    url  unknown  Action  \\\n",
       "0     http://us.imdb.com/M/title-exact?Toy%20Story%2...        0       0   \n",
       "1     http://us.imdb.com/M/title-exact?GoldenEye%20(...        0       1   \n",
       "2     http://us.imdb.com/M/title-exact?Four%20Rooms%...        0       0   \n",
       "3     http://us.imdb.com/M/title-exact?Get%20Shorty%...        0       1   \n",
       "4     http://us.imdb.com/M/title-exact?Copycat%20(1995)        0       0   \n",
       "...                                                 ...      ...     ...   \n",
       "1677  http://us.imdb.com/M/title-exact?Mat%27+i+syn+...        0       0   \n",
       "1678  http://us.imdb.com/M/title-exact?B%2E+Monkey+(...        0       0   \n",
       "1679      http://us.imdb.com/Title?Sliding+Doors+(1998)        0       0   \n",
       "1680  http://us.imdb.com/M/title-exact?You%20So%20Cr...        0       0   \n",
       "1681  http://us.imdb.com/M/title-exact?Schrei%20aus%...        0       0   \n",
       "\n",
       "      Adventure  Animation  Children's  ...  Fantasy  Film-Noir  Horror  \\\n",
       "0             0          1           1  ...        0          0       0   \n",
       "1             1          0           0  ...        0          0       0   \n",
       "2             0          0           0  ...        0          0       0   \n",
       "3             0          0           0  ...        0          0       0   \n",
       "4             0          0           0  ...        0          0       0   \n",
       "...         ...        ...         ...  ...      ...        ...     ...   \n",
       "1677          0          0           0  ...        0          0       0   \n",
       "1678          0          0           0  ...        0          0       0   \n",
       "1679          0          0           0  ...        0          0       0   \n",
       "1680          0          0           0  ...        0          0       0   \n",
       "1681          0          0           0  ...        0          0       0   \n",
       "\n",
       "      Musical  Mystery  Romance  Sci-Fi  Thriller  War  Western  \n",
       "0           0        0        0       0         0    0        0  \n",
       "1           0        0        0       0         1    0        0  \n",
       "2           0        0        0       0         1    0        0  \n",
       "3           0        0        0       0         0    0        0  \n",
       "4           0        0        0       0         1    0        0  \n",
       "...       ...      ...      ...     ...       ...  ...      ...  \n",
       "1677        0        0        0       0         0    0        0  \n",
       "1678        0        0        1       0         1    0        0  \n",
       "1679        0        0        1       0         0    0        0  \n",
       "1680        0        0        0       0         0    0        0  \n",
       "1681        0        0        0       0         0    0        0  \n",
       "\n",
       "[1681 rows x 24 columns]"
      ],
      "text/html": "<div>\n<style scoped>\n    .dataframe tbody tr th:only-of-type {\n        vertical-align: middle;\n    }\n\n    .dataframe tbody tr th {\n        vertical-align: top;\n    }\n\n    .dataframe thead th {\n        text-align: right;\n    }\n</style>\n<table border=\"1\" class=\"dataframe\">\n  <thead>\n    <tr style=\"text-align: right;\">\n      <th></th>\n      <th>movieId</th>\n      <th>movie_name</th>\n      <th>release_date</th>\n      <th>blank</th>\n      <th>url</th>\n      <th>unknown</th>\n      <th>Action</th>\n      <th>Adventure</th>\n      <th>Animation</th>\n      <th>Children's</th>\n      <th>...</th>\n      <th>Fantasy</th>\n      <th>Film-Noir</th>\n      <th>Horror</th>\n      <th>Musical</th>\n      <th>Mystery</th>\n      <th>Romance</th>\n      <th>Sci-Fi</th>\n      <th>Thriller</th>\n      <th>War</th>\n      <th>Western</th>\n    </tr>\n  </thead>\n  <tbody>\n    <tr>\n      <th>0</th>\n      <td>1</td>\n      <td>Toy Story (1995)</td>\n      <td>01-Jan-1995</td>\n      <td>NaN</td>\n      <td>http://us.imdb.com/M/title-exact?Toy%20Story%2...</td>\n      <td>0</td>\n      <td>0</td>\n      <td>0</td>\n      <td>1</td>\n      <td>1</td>\n      <td>...</td>\n      <td>0</td>\n      <td>0</td>\n      <td>0</td>\n      <td>0</td>\n      <td>0</td>\n      <td>0</td>\n      <td>0</td>\n      <td>0</td>\n      <td>0</td>\n      <td>0</td>\n    </tr>\n    <tr>\n      <th>1</th>\n      <td>2</td>\n      <td>GoldenEye (1995)</td>\n      <td>01-Jan-1995</td>\n      <td>NaN</td>\n      <td>http://us.imdb.com/M/title-exact?GoldenEye%20(...</td>\n      <td>0</td>\n      <td>1</td>\n      <td>1</td>\n      <td>0</td>\n      <td>0</td>\n      <td>...</td>\n      <td>0</td>\n      <td>0</td>\n      <td>0</td>\n      <td>0</td>\n      <td>0</td>\n      <td>0</td>\n      <td>0</td>\n      <td>1</td>\n      <td>0</td>\n      <td>0</td>\n    </tr>\n    <tr>\n      <th>2</th>\n      <td>3</td>\n      <td>Four Rooms (1995)</td>\n      <td>01-Jan-1995</td>\n      <td>NaN</td>\n      <td>http://us.imdb.com/M/title-exact?Four%20Rooms%...</td>\n      <td>0</td>\n      <td>0</td>\n      <td>0</td>\n      <td>0</td>\n      <td>0</td>\n      <td>...</td>\n      <td>0</td>\n      <td>0</td>\n      <td>0</td>\n      <td>0</td>\n      <td>0</td>\n      <td>0</td>\n      <td>0</td>\n      <td>1</td>\n      <td>0</td>\n      <td>0</td>\n    </tr>\n    <tr>\n      <th>3</th>\n      <td>4</td>\n      <td>Get Shorty (1995)</td>\n      <td>01-Jan-1995</td>\n      <td>NaN</td>\n      <td>http://us.imdb.com/M/title-exact?Get%20Shorty%...</td>\n      <td>0</td>\n      <td>1</td>\n      <td>0</td>\n      <td>0</td>\n      <td>0</td>\n      <td>...</td>\n      <td>0</td>\n      <td>0</td>\n      <td>0</td>\n      <td>0</td>\n      <td>0</td>\n      <td>0</td>\n      <td>0</td>\n      <td>0</td>\n      <td>0</td>\n      <td>0</td>\n    </tr>\n    <tr>\n      <th>4</th>\n      <td>5</td>\n      <td>Copycat (1995)</td>\n      <td>01-Jan-1995</td>\n      <td>NaN</td>\n      <td>http://us.imdb.com/M/title-exact?Copycat%20(1995)</td>\n      <td>0</td>\n      <td>0</td>\n      <td>0</td>\n      <td>0</td>\n      <td>0</td>\n      <td>...</td>\n      <td>0</td>\n      <td>0</td>\n      <td>0</td>\n      <td>0</td>\n      <td>0</td>\n      <td>0</td>\n      <td>0</td>\n      <td>1</td>\n      <td>0</td>\n      <td>0</td>\n    </tr>\n    <tr>\n      <th>...</th>\n      <td>...</td>\n      <td>...</td>\n      <td>...</td>\n      <td>...</td>\n      <td>...</td>\n      <td>...</td>\n      <td>...</td>\n      <td>...</td>\n      <td>...</td>\n      <td>...</td>\n      <td>...</td>\n      <td>...</td>\n      <td>...</td>\n      <td>...</td>\n      <td>...</td>\n      <td>...</td>\n      <td>...</td>\n      <td>...</td>\n      <td>...</td>\n      <td>...</td>\n      <td>...</td>\n    </tr>\n    <tr>\n      <th>1677</th>\n      <td>1678</td>\n      <td>Mat' i syn (1997)</td>\n      <td>06-Feb-1998</td>\n      <td>NaN</td>\n      <td>http://us.imdb.com/M/title-exact?Mat%27+i+syn+...</td>\n      <td>0</td>\n      <td>0</td>\n      <td>0</td>\n      <td>0</td>\n      <td>0</td>\n      <td>...</td>\n      <td>0</td>\n      <td>0</td>\n      <td>0</td>\n      <td>0</td>\n      <td>0</td>\n      <td>0</td>\n      <td>0</td>\n      <td>0</td>\n      <td>0</td>\n      <td>0</td>\n    </tr>\n    <tr>\n      <th>1678</th>\n      <td>1679</td>\n      <td>B. Monkey (1998)</td>\n      <td>06-Feb-1998</td>\n      <td>NaN</td>\n      <td>http://us.imdb.com/M/title-exact?B%2E+Monkey+(...</td>\n      <td>0</td>\n      <td>0</td>\n      <td>0</td>\n      <td>0</td>\n      <td>0</td>\n      <td>...</td>\n      <td>0</td>\n      <td>0</td>\n      <td>0</td>\n      <td>0</td>\n      <td>0</td>\n      <td>1</td>\n      <td>0</td>\n      <td>1</td>\n      <td>0</td>\n      <td>0</td>\n    </tr>\n    <tr>\n      <th>1679</th>\n      <td>1680</td>\n      <td>Sliding Doors (1998)</td>\n      <td>01-Jan-1998</td>\n      <td>NaN</td>\n      <td>http://us.imdb.com/Title?Sliding+Doors+(1998)</td>\n      <td>0</td>\n      <td>0</td>\n      <td>0</td>\n      <td>0</td>\n      <td>0</td>\n      <td>...</td>\n      <td>0</td>\n      <td>0</td>\n      <td>0</td>\n      <td>0</td>\n      <td>0</td>\n      <td>1</td>\n      <td>0</td>\n      <td>0</td>\n      <td>0</td>\n      <td>0</td>\n    </tr>\n    <tr>\n      <th>1680</th>\n      <td>1681</td>\n      <td>You So Crazy (1994)</td>\n      <td>01-Jan-1994</td>\n      <td>NaN</td>\n      <td>http://us.imdb.com/M/title-exact?You%20So%20Cr...</td>\n      <td>0</td>\n      <td>0</td>\n      <td>0</td>\n      <td>0</td>\n      <td>0</td>\n      <td>...</td>\n      <td>0</td>\n      <td>0</td>\n      <td>0</td>\n      <td>0</td>\n      <td>0</td>\n      <td>0</td>\n      <td>0</td>\n      <td>0</td>\n      <td>0</td>\n      <td>0</td>\n    </tr>\n    <tr>\n      <th>1681</th>\n      <td>1682</td>\n      <td>Scream of Stone (Schrei aus Stein) (1991)</td>\n      <td>08-Mar-1996</td>\n      <td>NaN</td>\n      <td>http://us.imdb.com/M/title-exact?Schrei%20aus%...</td>\n      <td>0</td>\n      <td>0</td>\n      <td>0</td>\n      <td>0</td>\n      <td>0</td>\n      <td>...</td>\n      <td>0</td>\n      <td>0</td>\n      <td>0</td>\n      <td>0</td>\n      <td>0</td>\n      <td>0</td>\n      <td>0</td>\n      <td>0</td>\n      <td>0</td>\n      <td>0</td>\n    </tr>\n  </tbody>\n</table>\n<p>1681 rows × 24 columns</p>\n</div>"
     },
     "metadata": {},
     "execution_count": 4
    }
   ],
   "source": [
    "u_data = pd.read_csv('u.data',delimiter='\\t',names=k0)\n",
    "u_item = pd.read_csv('u.item',delimiter='|',names=l0)\n",
    "u_item.movieId.astype(int)\n",
    "u_item[u_item.release_date.notnull()]"
   ]
  },
  {
   "cell_type": "code",
   "execution_count": 5,
   "metadata": {},
   "outputs": [
    {
     "output_type": "execute_result",
     "data": {
      "text/plain": [
       "       userId  movieId  rating  timestamp  \\\n",
       "0         196      242       3  881250949   \n",
       "1          63      242       3  875747190   \n",
       "2         226      242       5  883888671   \n",
       "3         154      242       3  879138235   \n",
       "4         306      242       5  876503793   \n",
       "...       ...      ...     ...        ...   \n",
       "99995     840     1674       4  891211682   \n",
       "99996     655     1640       3  888474646   \n",
       "99997     655     1637       3  888984255   \n",
       "99998     655     1630       3  887428735   \n",
       "99999     655     1641       3  887427810   \n",
       "\n",
       "                                              movie_name release_date  blank  \\\n",
       "0                                           Kolya (1996)  24-Jan-1997    NaN   \n",
       "1                                           Kolya (1996)  24-Jan-1997    NaN   \n",
       "2                                           Kolya (1996)  24-Jan-1997    NaN   \n",
       "3                                           Kolya (1996)  24-Jan-1997    NaN   \n",
       "4                                           Kolya (1996)  24-Jan-1997    NaN   \n",
       "...                                                  ...          ...    ...   \n",
       "99995                                  Mamma Roma (1962)  01-Jan-1962    NaN   \n",
       "99996                             Eighth Day, The (1996)  01-Nov-1996    NaN   \n",
       "99997                                  Girls Town (1996)  23-Aug-1996    NaN   \n",
       "99998  Silence of the Palace, The (Saimt el Qusur) (1...  02-Feb-1996    NaN   \n",
       "99999                                    Dadetown (1995)  18-Sep-1996    NaN   \n",
       "\n",
       "                                                     url  unknown  Action  \\\n",
       "0        http://us.imdb.com/M/title-exact?Kolya%20(1996)        0       0   \n",
       "1        http://us.imdb.com/M/title-exact?Kolya%20(1996)        0       0   \n",
       "2        http://us.imdb.com/M/title-exact?Kolya%20(1996)        0       0   \n",
       "3        http://us.imdb.com/M/title-exact?Kolya%20(1996)        0       0   \n",
       "4        http://us.imdb.com/M/title-exact?Kolya%20(1996)        0       0   \n",
       "...                                                  ...      ...     ...   \n",
       "99995  http://us.imdb.com/M/title-exact?Mamma%20Roma%...        0       0   \n",
       "99996  http://us.imdb.com/Title?Huiti%E8me+jour,+Le+(...        0       0   \n",
       "99997  http://us.imdb.com/M/title-exact?Girls%20Town%...        0       0   \n",
       "99998  http://us.imdb.com/M/title-exact?Saimt%20el%20...        0       0   \n",
       "99999  http://us.imdb.com/M/title-exact?Dadetown%20(1...        0       0   \n",
       "\n",
       "       ...  Fantasy  Film-Noir  Horror  Musical  Mystery  Romance  Sci-Fi  \\\n",
       "0      ...        0          0       0        0        0        0       0   \n",
       "1      ...        0          0       0        0        0        0       0   \n",
       "2      ...        0          0       0        0        0        0       0   \n",
       "3      ...        0          0       0        0        0        0       0   \n",
       "4      ...        0          0       0        0        0        0       0   \n",
       "...    ...      ...        ...     ...      ...      ...      ...     ...   \n",
       "99995  ...        0          0       0        0        0        0       0   \n",
       "99996  ...        0          0       0        0        0        0       0   \n",
       "99997  ...        0          0       0        0        0        0       0   \n",
       "99998  ...        0          0       0        0        0        0       0   \n",
       "99999  ...        0          0       0        0        0        0       0   \n",
       "\n",
       "       Thriller  War  Western  \n",
       "0             0    0        0  \n",
       "1             0    0        0  \n",
       "2             0    0        0  \n",
       "3             0    0        0  \n",
       "4             0    0        0  \n",
       "...         ...  ...      ...  \n",
       "99995         0    0        0  \n",
       "99996         0    0        0  \n",
       "99997         0    0        0  \n",
       "99998         0    0        0  \n",
       "99999         0    0        0  \n",
       "\n",
       "[99991 rows x 27 columns]"
      ],
      "text/html": "<div>\n<style scoped>\n    .dataframe tbody tr th:only-of-type {\n        vertical-align: middle;\n    }\n\n    .dataframe tbody tr th {\n        vertical-align: top;\n    }\n\n    .dataframe thead th {\n        text-align: right;\n    }\n</style>\n<table border=\"1\" class=\"dataframe\">\n  <thead>\n    <tr style=\"text-align: right;\">\n      <th></th>\n      <th>userId</th>\n      <th>movieId</th>\n      <th>rating</th>\n      <th>timestamp</th>\n      <th>movie_name</th>\n      <th>release_date</th>\n      <th>blank</th>\n      <th>url</th>\n      <th>unknown</th>\n      <th>Action</th>\n      <th>...</th>\n      <th>Fantasy</th>\n      <th>Film-Noir</th>\n      <th>Horror</th>\n      <th>Musical</th>\n      <th>Mystery</th>\n      <th>Romance</th>\n      <th>Sci-Fi</th>\n      <th>Thriller</th>\n      <th>War</th>\n      <th>Western</th>\n    </tr>\n  </thead>\n  <tbody>\n    <tr>\n      <th>0</th>\n      <td>196</td>\n      <td>242</td>\n      <td>3</td>\n      <td>881250949</td>\n      <td>Kolya (1996)</td>\n      <td>24-Jan-1997</td>\n      <td>NaN</td>\n      <td>http://us.imdb.com/M/title-exact?Kolya%20(1996)</td>\n      <td>0</td>\n      <td>0</td>\n      <td>...</td>\n      <td>0</td>\n      <td>0</td>\n      <td>0</td>\n      <td>0</td>\n      <td>0</td>\n      <td>0</td>\n      <td>0</td>\n      <td>0</td>\n      <td>0</td>\n      <td>0</td>\n    </tr>\n    <tr>\n      <th>1</th>\n      <td>63</td>\n      <td>242</td>\n      <td>3</td>\n      <td>875747190</td>\n      <td>Kolya (1996)</td>\n      <td>24-Jan-1997</td>\n      <td>NaN</td>\n      <td>http://us.imdb.com/M/title-exact?Kolya%20(1996)</td>\n      <td>0</td>\n      <td>0</td>\n      <td>...</td>\n      <td>0</td>\n      <td>0</td>\n      <td>0</td>\n      <td>0</td>\n      <td>0</td>\n      <td>0</td>\n      <td>0</td>\n      <td>0</td>\n      <td>0</td>\n      <td>0</td>\n    </tr>\n    <tr>\n      <th>2</th>\n      <td>226</td>\n      <td>242</td>\n      <td>5</td>\n      <td>883888671</td>\n      <td>Kolya (1996)</td>\n      <td>24-Jan-1997</td>\n      <td>NaN</td>\n      <td>http://us.imdb.com/M/title-exact?Kolya%20(1996)</td>\n      <td>0</td>\n      <td>0</td>\n      <td>...</td>\n      <td>0</td>\n      <td>0</td>\n      <td>0</td>\n      <td>0</td>\n      <td>0</td>\n      <td>0</td>\n      <td>0</td>\n      <td>0</td>\n      <td>0</td>\n      <td>0</td>\n    </tr>\n    <tr>\n      <th>3</th>\n      <td>154</td>\n      <td>242</td>\n      <td>3</td>\n      <td>879138235</td>\n      <td>Kolya (1996)</td>\n      <td>24-Jan-1997</td>\n      <td>NaN</td>\n      <td>http://us.imdb.com/M/title-exact?Kolya%20(1996)</td>\n      <td>0</td>\n      <td>0</td>\n      <td>...</td>\n      <td>0</td>\n      <td>0</td>\n      <td>0</td>\n      <td>0</td>\n      <td>0</td>\n      <td>0</td>\n      <td>0</td>\n      <td>0</td>\n      <td>0</td>\n      <td>0</td>\n    </tr>\n    <tr>\n      <th>4</th>\n      <td>306</td>\n      <td>242</td>\n      <td>5</td>\n      <td>876503793</td>\n      <td>Kolya (1996)</td>\n      <td>24-Jan-1997</td>\n      <td>NaN</td>\n      <td>http://us.imdb.com/M/title-exact?Kolya%20(1996)</td>\n      <td>0</td>\n      <td>0</td>\n      <td>...</td>\n      <td>0</td>\n      <td>0</td>\n      <td>0</td>\n      <td>0</td>\n      <td>0</td>\n      <td>0</td>\n      <td>0</td>\n      <td>0</td>\n      <td>0</td>\n      <td>0</td>\n    </tr>\n    <tr>\n      <th>...</th>\n      <td>...</td>\n      <td>...</td>\n      <td>...</td>\n      <td>...</td>\n      <td>...</td>\n      <td>...</td>\n      <td>...</td>\n      <td>...</td>\n      <td>...</td>\n      <td>...</td>\n      <td>...</td>\n      <td>...</td>\n      <td>...</td>\n      <td>...</td>\n      <td>...</td>\n      <td>...</td>\n      <td>...</td>\n      <td>...</td>\n      <td>...</td>\n      <td>...</td>\n      <td>...</td>\n    </tr>\n    <tr>\n      <th>99995</th>\n      <td>840</td>\n      <td>1674</td>\n      <td>4</td>\n      <td>891211682</td>\n      <td>Mamma Roma (1962)</td>\n      <td>01-Jan-1962</td>\n      <td>NaN</td>\n      <td>http://us.imdb.com/M/title-exact?Mamma%20Roma%...</td>\n      <td>0</td>\n      <td>0</td>\n      <td>...</td>\n      <td>0</td>\n      <td>0</td>\n      <td>0</td>\n      <td>0</td>\n      <td>0</td>\n      <td>0</td>\n      <td>0</td>\n      <td>0</td>\n      <td>0</td>\n      <td>0</td>\n    </tr>\n    <tr>\n      <th>99996</th>\n      <td>655</td>\n      <td>1640</td>\n      <td>3</td>\n      <td>888474646</td>\n      <td>Eighth Day, The (1996)</td>\n      <td>01-Nov-1996</td>\n      <td>NaN</td>\n      <td>http://us.imdb.com/Title?Huiti%E8me+jour,+Le+(...</td>\n      <td>0</td>\n      <td>0</td>\n      <td>...</td>\n      <td>0</td>\n      <td>0</td>\n      <td>0</td>\n      <td>0</td>\n      <td>0</td>\n      <td>0</td>\n      <td>0</td>\n      <td>0</td>\n      <td>0</td>\n      <td>0</td>\n    </tr>\n    <tr>\n      <th>99997</th>\n      <td>655</td>\n      <td>1637</td>\n      <td>3</td>\n      <td>888984255</td>\n      <td>Girls Town (1996)</td>\n      <td>23-Aug-1996</td>\n      <td>NaN</td>\n      <td>http://us.imdb.com/M/title-exact?Girls%20Town%...</td>\n      <td>0</td>\n      <td>0</td>\n      <td>...</td>\n      <td>0</td>\n      <td>0</td>\n      <td>0</td>\n      <td>0</td>\n      <td>0</td>\n      <td>0</td>\n      <td>0</td>\n      <td>0</td>\n      <td>0</td>\n      <td>0</td>\n    </tr>\n    <tr>\n      <th>99998</th>\n      <td>655</td>\n      <td>1630</td>\n      <td>3</td>\n      <td>887428735</td>\n      <td>Silence of the Palace, The (Saimt el Qusur) (1...</td>\n      <td>02-Feb-1996</td>\n      <td>NaN</td>\n      <td>http://us.imdb.com/M/title-exact?Saimt%20el%20...</td>\n      <td>0</td>\n      <td>0</td>\n      <td>...</td>\n      <td>0</td>\n      <td>0</td>\n      <td>0</td>\n      <td>0</td>\n      <td>0</td>\n      <td>0</td>\n      <td>0</td>\n      <td>0</td>\n      <td>0</td>\n      <td>0</td>\n    </tr>\n    <tr>\n      <th>99999</th>\n      <td>655</td>\n      <td>1641</td>\n      <td>3</td>\n      <td>887427810</td>\n      <td>Dadetown (1995)</td>\n      <td>18-Sep-1996</td>\n      <td>NaN</td>\n      <td>http://us.imdb.com/M/title-exact?Dadetown%20(1...</td>\n      <td>0</td>\n      <td>0</td>\n      <td>...</td>\n      <td>0</td>\n      <td>0</td>\n      <td>0</td>\n      <td>0</td>\n      <td>0</td>\n      <td>0</td>\n      <td>0</td>\n      <td>0</td>\n      <td>0</td>\n      <td>0</td>\n    </tr>\n  </tbody>\n</table>\n<p>99991 rows × 27 columns</p>\n</div>"
     },
     "metadata": {},
     "execution_count": 5
    }
   ],
   "source": [
    "data = pd.merge(left=u_data,right=u_item)\n",
    "data[data.release_date.notnull()]"
   ]
  },
  {
   "cell_type": "code",
   "execution_count": 6,
   "metadata": {},
   "outputs": [
    {
     "output_type": "execute_result",
     "data": {
      "text/plain": [
       "(100000,)"
      ]
     },
     "metadata": {},
     "execution_count": 6
    }
   ],
   "source": [
    "data_np = data['release_date'].to_numpy()\n",
    "release_year = np.zeros(100000,dtype=int)\n",
    "release_month = np.zeros(100000,dtype=object)\n",
    "np.shape(data_np)"
   ]
  },
  {
   "cell_type": "code",
   "execution_count": 7,
   "metadata": {
    "tags": []
   },
   "outputs": [
    {
     "output_type": "stream",
     "name": "stdout",
     "text": [
      "0\n"
     ]
    },
    {
     "output_type": "error",
     "ename": "IndexError",
     "evalue": "list index out of range",
     "traceback": [
      "\u001b[1;31m---------------------------------------------------------------------------\u001b[0m",
      "\u001b[1;31mIndexError\u001b[0m                                Traceback (most recent call last)",
      "\u001b[1;32m<ipython-input-7-c19d03ebbf10>\u001b[0m in \u001b[0;36m<module>\u001b[1;34m\u001b[0m\n\u001b[0;32m      3\u001b[0m     \u001b[0mtemp\u001b[0m \u001b[1;33m=\u001b[0m \u001b[0mstr\u001b[0m\u001b[1;33m(\u001b[0m\u001b[0mdata_np\u001b[0m\u001b[1;33m[\u001b[0m\u001b[0mindex\u001b[0m\u001b[1;33m]\u001b[0m\u001b[1;33m)\u001b[0m\u001b[1;33m\u001b[0m\u001b[1;33m\u001b[0m\u001b[0m\n\u001b[0;32m      4\u001b[0m     \u001b[0mtemp1\u001b[0m \u001b[1;33m=\u001b[0m \u001b[0mtemp\u001b[0m\u001b[1;33m.\u001b[0m\u001b[0msplit\u001b[0m\u001b[1;33m(\u001b[0m\u001b[1;33m)\u001b[0m\u001b[1;33m\u001b[0m\u001b[1;33m\u001b[0m\u001b[0m\n\u001b[1;32m----> 5\u001b[1;33m     \u001b[0mrelease_year\u001b[0m\u001b[1;33m[\u001b[0m\u001b[0mindex\u001b[0m\u001b[1;33m]\u001b[0m\u001b[1;33m=\u001b[0m\u001b[0mint\u001b[0m\u001b[1;33m(\u001b[0m\u001b[0mtemp1\u001b[0m\u001b[1;33m[\u001b[0m\u001b[1;36m2\u001b[0m\u001b[1;33m]\u001b[0m\u001b[1;33m)\u001b[0m\u001b[1;33m\u001b[0m\u001b[1;33m\u001b[0m\u001b[0m\n\u001b[0m\u001b[0;32m      6\u001b[0m     \u001b[0mrelease_month\u001b[0m\u001b[1;33m[\u001b[0m\u001b[0mindex\u001b[0m\u001b[1;33m]\u001b[0m\u001b[1;33m=\u001b[0m\u001b[0mstr\u001b[0m\u001b[1;33m(\u001b[0m\u001b[0mtemp1\u001b[0m\u001b[1;33m[\u001b[0m\u001b[1;36m1\u001b[0m\u001b[1;33m]\u001b[0m\u001b[1;33m)\u001b[0m\u001b[1;33m\u001b[0m\u001b[1;33m\u001b[0m\u001b[0m\n",
      "\u001b[1;31mIndexError\u001b[0m: list index out of range"
     ]
    }
   ],
   "source": [
    "for index in range(0,100000,1):\n",
    "    print(index)\n",
    "    temp = str(data_np[index])\n",
    "    temp1 = temp.split()\n",
    "    release_year[index]=int(temp1[2])\n",
    "    release_month[index]=str(temp1[1])\n"
   ]
  },
  {
   "cell_type": "code",
   "execution_count": 17,
   "metadata": {},
   "outputs": [
    {
     "output_type": "execute_result",
     "data": {
      "text/plain": [
       "array([list(['24-Jan-1997']), list(['24-Jan-1997']),\n",
       "       list(['24-Jan-1997']), ..., list(['23-Aug-1996']),\n",
       "       list(['02-Feb-1996']), list(['18-Sep-1996'])], dtype=object)"
      ]
     },
     "metadata": {},
     "execution_count": 17
    }
   ],
   "source": [
    "data_np"
   ]
  },
  {
   "cell_type": "code",
   "execution_count": null,
   "metadata": {},
   "outputs": [],
   "source": []
  }
 ]
}