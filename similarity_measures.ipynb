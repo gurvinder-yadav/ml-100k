{
 "metadata": {
  "language_info": {
   "codemirror_mode": {
    "name": "ipython",
    "version": 3
   },
   "file_extension": ".py",
   "mimetype": "text/x-python",
   "name": "python",
   "nbconvert_exporter": "python",
   "pygments_lexer": "ipython3",
   "version": "3.8.8"
  },
  "orig_nbformat": 4,
  "kernelspec": {
   "name": "python3",
   "display_name": "Python 3.8.8 64-bit ('base': conda)"
  },
  "interpreter": {
   "hash": "13eb042686c59d5277c9538bf70a17f9b47295d55c76e0e5ec7181df9397203d"
  }
 },
 "nbformat": 4,
 "nbformat_minor": 2,
 "cells": [
  {
   "cell_type": "code",
   "execution_count": 1,
   "metadata": {},
   "outputs": [],
   "source": [
    "import pandas as pd\n",
    "import numpy as np\n",
    "from scipy.spatial.distance import cosine\n",
    "from scipy.spatial.distance import jaccard \n",
    "import statistics"
   ]
  },
  {
   "cell_type": "code",
   "execution_count": 2,
   "metadata": {},
   "outputs": [],
   "source": [
    "def jacc(l1,l2):\n",
    "    intersection = len(list(set(l1).intersection(l2)))\n",
    "    union = (len(l1)+len(l2))-intersection\n",
    "    return float (intersection/union)\n",
    "def cos(l1,l2):\n",
    "    xy = [l1[i]*l2[i] for i in range(6)]\n",
    "    l1 = [l1[i]*l1[i] for i in range(6)]\n",
    "    l2 = [l2[i]*l2[i] for i in range(6)]\n",
    "    return float (sum(xy)/(((sum(l1))**(0.5))*((sum(l2))**(0.5))))\n",
    "def coeff(l1,l2):\n",
    "    l1_mean = statistics.mean(l1)\n",
    "    l2_mean = statistics.mean(l2)\n",
    "    xy = [(l1[i]-l1_mean)*(l2[i]-l2_mean) for i in range(6)]\n",
    "    l1 = [(l1[i]-l1_mean)**2 for i in range(6)]\n",
    "    l2 = [(l2[i]-l2_mean)**2 for i in range(6)]\n",
    "    denominator = (sum(l1)**(0.5))*(sum(l2)**0.5)\n",
    "    numerator = sum(xy)\n",
    "    return float (numerator/denominator)"
   ]
  },
  {
   "cell_type": "code",
   "execution_count": 3,
   "metadata": {},
   "outputs": [
    {
     "output_type": "execute_result",
     "data": {
      "text/plain": [
       "array([[5, 4, 1, 3, 1, 0],\n",
       "       [5, 4, 2, 3, 1, 2],\n",
       "       [2, 3, 5, 4, 3, 4],\n",
       "       [5, 3, 4, 1, 2, 4]], dtype=int64)"
      ]
     },
     "metadata": {},
     "execution_count": 3
    }
   ],
   "source": [
    "file = pd.read_excel('user data.xlsx',names=['a','b','c','d','e','f'])\n",
    "file_np = file.to_numpy()\n",
    "file_np"
   ]
  },
  {
   "cell_type": "code",
   "execution_count": 4,
   "metadata": {},
   "outputs": [
    {
     "output_type": "stream",
     "name": "stdout",
     "text": [
      "cosine similarity between user 1 and user 2 = 0.9568595416932074\njaccard similarity between user 1 and user 2 = 0.3333333333333333\npearson correlation coefficient between user 1 and user 2 = 0.9213068794097572\ncosine similarity between user 1 and user 3 = 0.6552908033850116\njaccard similarity between user 1 and user 3 = 1.0\npearson correlation coefficient between user 1 and user 3 = -0.6788335930269978\ncosine similarity between user 1 and user 4 = 0.7570542214781283\njaccard similarity between user 1 and user 4 = 0.8333333333333334\npearson correlation coefficient between user 1 and user 4 = 0.11516335992621962\ncosine similarity between user 2 and user 3 = 0.8056068271859306\njaccard similarity between user 2 and user 3 = 1.0\npearson correlation coefficient between user 2 and user 3 = -0.582975248068166\ncosine similarity between user 2 and user 4 = 0.8961337075831898\njaccard similarity between user 2 and user 4 = 0.8333333333333334\npearson correlation coefficient between user 2 and user 4 = 0.3846153846153846\ncosine similarity between user 3 and user 4 = 0.8679018950386386\njaccard similarity between user 3 and user 4 = 0.6666666666666666\npearson correlation coefficient between user 3 and user 4 = -0.19432508268938872\n"
     ]
    }
   ],
   "source": [
    "for i in range(4):\n",
    "    for j in range(i,4):\n",
    "        if i!=j:\n",
    "            print(f'cosine similarity between user {i+1} and user {j+1} =',1-cosine(file_np[i],file_np[j]))\n",
    "            print(f'jaccard similarity between user {i+1} and user {j+1} =',jaccard(file_np[i],file_np[j]))\n",
    "            print(f'pearson correlation coefficient between user {i+1} and user {j+1} =',np.corrcoef(file_np[i],file_np[j])[0][1])"
   ]
  },
  {
   "cell_type": "code",
   "execution_count": 5,
   "metadata": {},
   "outputs": [
    {
     "output_type": "stream",
     "name": "stdout",
     "text": [
      "cosine  similarity between user 1 and user 2 = 0.9568595416932076\njaccard similarity between user 1 and user 2 = 0.5\nPCC     similarity between user 1 and user 2 = 0.8660254037844386\ncosine  similarity between user 1 and user 3 = 0.6552908033850116\njaccard similarity between user 1 and user 3 = 0.3333333333333333\nPCC     similarity between user 1 and user 3 = -0.5070925528371099\ncosine  similarity between user 1 and user 4 = 0.7570542214781282\njaccard similarity between user 1 and user 4 = 0.5\nPCC     similarity between user 1 and user 4 = 0.13483997249264842\ncosine  similarity between user 2 and user 3 = 0.8056068271859307\njaccard similarity between user 2 and user 3 = 0.5\nPCC     similarity between user 2 and user 3 = -0.1951800145897066\ncosine  similarity between user 2 and user 4 = 0.8961337075831898\njaccard similarity between user 2 and user 4 = 0.7142857142857143\nPCC     similarity between user 2 and user 4 = 0.3892494720807615\ncosine  similarity between user 3 and user 4 = 0.8679018950386385\njaccard similarity between user 3 and user 4 = 0.5\nPCC     similarity between user 3 and user 4 = -0.11396057645963795\n"
     ]
    }
   ],
   "source": [
    "file_list = list(file_np)\n",
    "for i in range(4):\n",
    "    for j in range(i,4):\n",
    "        if i!=j:\n",
    "            print(f'cosine  similarity between user {i+1} and user {j+1} =',cos(file_list[i],file_list[j]))\n",
    "            print(f'jaccard similarity between user {i+1} and user {j+1} =',jacc(file_list[i],file_list[j]))\n",
    "            print(f'PCC     similarity between user {i+1} and user {j+1} =',coeff(file_list[i],file_list[j]))"
   ]
  },
  {
   "cell_type": "code",
   "execution_count": 6,
   "metadata": {},
   "outputs": [
    {
     "output_type": "stream",
     "name": "stdout",
     "text": [
      "cosine distance between user 1 and user 2 = 0.043140458306792584\ncosine distance between user 1 and user 3 = 0.34470919661498844\ncosine distance between user 1 and user 4 = 0.2429457785218717\ncosine distance between user 2 and user 3 = 0.19439317281406943\ncosine distance between user 2 and user 4 = 0.10386629241681022\ncosine distance between user 3 and user 4 = 0.13209810496136143\n"
     ]
    }
   ],
   "source": [
    "for i in range(4):\n",
    "    for j in range(i,4):\n",
    "        if i!=j:\n",
    "            print(f'cosine distance between user {i+1} and user {j+1} =',cosine(file_np[i],file_np[j]))"
   ]
  }
 ]
}