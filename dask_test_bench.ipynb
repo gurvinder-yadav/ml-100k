{
 "metadata": {
  "language_info": {
   "codemirror_mode": {
    "name": "ipython",
    "version": 3
   },
   "file_extension": ".py",
   "mimetype": "text/x-python",
   "name": "python",
   "nbconvert_exporter": "python",
   "pygments_lexer": "ipython3",
   "version": "3.8.10"
  },
  "orig_nbformat": 4,
  "kernelspec": {
   "name": "python3",
   "display_name": "Python 3.8.10 64-bit ('base': conda)"
  },
  "interpreter": {
   "hash": "3de2d02b11921545bf1816bc45552ddc366ed99bb60e73ad62fb9cbd6f53e5b0"
  }
 },
 "nbformat": 4,
 "nbformat_minor": 2,
 "cells": [
  {
   "cell_type": "code",
   "execution_count": 3,
   "metadata": {},
   "outputs": [],
   "source": [
    "import dask.dataframe as dd\n",
    "import numpy"
   ]
  },
  {
   "cell_type": "code",
   "execution_count": 16,
   "metadata": {},
   "outputs": [],
   "source": [
    "df = dd.read_csv('cosine.csv')"
   ]
  },
  {
   "cell_type": "code",
   "execution_count": 14,
   "metadata": {},
   "outputs": [
    {
     "output_type": "execute_result",
     "data": {
      "text/plain": [
       "        1.0  0.11958186451359087  0.050788403766058976  0.08308729744733989  \\\n",
       "0  0.119582             1.000000              0.104092             0.164484   \n",
       "1  0.050788             0.104092              1.000000             0.307379   \n",
       "2  0.083087             0.164484              0.307379             1.000000   \n",
       "3  0.290050             0.072657              0.026295             0.040403   \n",
       "4  0.328319             0.175854              0.062776             0.060083   \n",
       "\n",
       "   0.2900498381909672  0.3283190490311336  0.3236942787221089  \\\n",
       "0            0.072657            0.175854            0.096470   \n",
       "1            0.026295            0.062776            0.077204   \n",
       "2            0.040403            0.060083            0.062088   \n",
       "3            1.000000            0.195667            0.297408   \n",
       "4            0.195667            1.000000            0.401021   \n",
       "\n",
       "   0.20519274920879238  0.08375032197501475  0.3001891414685356  ...  \\\n",
       "0             0.075242             0.087820            0.131937  ...   \n",
       "1             0.039315             0.077869            0.050313  ...   \n",
       "2             0.101174             0.132611            0.077921  ...   \n",
       "3             0.204108             0.035924            0.183979  ...   \n",
       "4             0.178790             0.174847            0.453544  ...   \n",
       "\n",
       "   0.13107951714881128  0.25407353409196  0.17035430547833053  \\\n",
       "0             0.149250          0.198495             0.394685   \n",
       "1             0.052537          0.147268             0.034371   \n",
       "2             0.046393          0.120529             0.196116   \n",
       "3             0.096143          0.095891             0.087433   \n",
       "4             0.092333          0.139118             0.220937   \n",
       "\n",
       "   0.1527366831606597  0.13338472575636762  0.22866490251057103  \\\n",
       "0            0.259404             0.202697             0.191010   \n",
       "1            0.138783             0.000000             0.155616   \n",
       "2            0.140597             0.039379             0.167981   \n",
       "3            0.126871             0.045124             0.229951   \n",
       "4            0.126834             0.109428             0.254636   \n",
       "\n",
       "   0.1311486823722008  0.13783448216916472  0.3053756651345927  Unnamed: 943  \n",
       "0            0.138802             0.170524            0.087974           NaN  \n",
       "1            0.049118             0.153153            0.032688           NaN  \n",
       "2            0.130120             0.215374            0.074224           NaN  \n",
       "3            0.103104             0.153093            0.258780           NaN  \n",
       "4            0.141702             0.197637            0.248531           NaN  \n",
       "\n",
       "[5 rows x 944 columns]"
      ],
      "text/html": "<div>\n<style scoped>\n    .dataframe tbody tr th:only-of-type {\n        vertical-align: middle;\n    }\n\n    .dataframe tbody tr th {\n        vertical-align: top;\n    }\n\n    .dataframe thead th {\n        text-align: right;\n    }\n</style>\n<table border=\"1\" class=\"dataframe\">\n  <thead>\n    <tr style=\"text-align: right;\">\n      <th></th>\n      <th>1.0</th>\n      <th>0.11958186451359087</th>\n      <th>0.050788403766058976</th>\n      <th>0.08308729744733989</th>\n      <th>0.2900498381909672</th>\n      <th>0.3283190490311336</th>\n      <th>0.3236942787221089</th>\n      <th>0.20519274920879238</th>\n      <th>0.08375032197501475</th>\n      <th>0.3001891414685356</th>\n      <th>...</th>\n      <th>0.13107951714881128</th>\n      <th>0.25407353409196</th>\n      <th>0.17035430547833053</th>\n      <th>0.1527366831606597</th>\n      <th>0.13338472575636762</th>\n      <th>0.22866490251057103</th>\n      <th>0.1311486823722008</th>\n      <th>0.13783448216916472</th>\n      <th>0.3053756651345927</th>\n      <th>Unnamed: 943</th>\n    </tr>\n  </thead>\n  <tbody>\n    <tr>\n      <th>0</th>\n      <td>0.119582</td>\n      <td>1.000000</td>\n      <td>0.104092</td>\n      <td>0.164484</td>\n      <td>0.072657</td>\n      <td>0.175854</td>\n      <td>0.096470</td>\n      <td>0.075242</td>\n      <td>0.087820</td>\n      <td>0.131937</td>\n      <td>...</td>\n      <td>0.149250</td>\n      <td>0.198495</td>\n      <td>0.394685</td>\n      <td>0.259404</td>\n      <td>0.202697</td>\n      <td>0.191010</td>\n      <td>0.138802</td>\n      <td>0.170524</td>\n      <td>0.087974</td>\n      <td>NaN</td>\n    </tr>\n    <tr>\n      <th>1</th>\n      <td>0.050788</td>\n      <td>0.104092</td>\n      <td>1.000000</td>\n      <td>0.307379</td>\n      <td>0.026295</td>\n      <td>0.062776</td>\n      <td>0.077204</td>\n      <td>0.039315</td>\n      <td>0.077869</td>\n      <td>0.050313</td>\n      <td>...</td>\n      <td>0.052537</td>\n      <td>0.147268</td>\n      <td>0.034371</td>\n      <td>0.138783</td>\n      <td>0.000000</td>\n      <td>0.155616</td>\n      <td>0.049118</td>\n      <td>0.153153</td>\n      <td>0.032688</td>\n      <td>NaN</td>\n    </tr>\n    <tr>\n      <th>2</th>\n      <td>0.083087</td>\n      <td>0.164484</td>\n      <td>0.307379</td>\n      <td>1.000000</td>\n      <td>0.040403</td>\n      <td>0.060083</td>\n      <td>0.062088</td>\n      <td>0.101174</td>\n      <td>0.132611</td>\n      <td>0.077921</td>\n      <td>...</td>\n      <td>0.046393</td>\n      <td>0.120529</td>\n      <td>0.196116</td>\n      <td>0.140597</td>\n      <td>0.039379</td>\n      <td>0.167981</td>\n      <td>0.130120</td>\n      <td>0.215374</td>\n      <td>0.074224</td>\n      <td>NaN</td>\n    </tr>\n    <tr>\n      <th>3</th>\n      <td>0.290050</td>\n      <td>0.072657</td>\n      <td>0.026295</td>\n      <td>0.040403</td>\n      <td>1.000000</td>\n      <td>0.195667</td>\n      <td>0.297408</td>\n      <td>0.204108</td>\n      <td>0.035924</td>\n      <td>0.183979</td>\n      <td>...</td>\n      <td>0.096143</td>\n      <td>0.095891</td>\n      <td>0.087433</td>\n      <td>0.126871</td>\n      <td>0.045124</td>\n      <td>0.229951</td>\n      <td>0.103104</td>\n      <td>0.153093</td>\n      <td>0.258780</td>\n      <td>NaN</td>\n    </tr>\n    <tr>\n      <th>4</th>\n      <td>0.328319</td>\n      <td>0.175854</td>\n      <td>0.062776</td>\n      <td>0.060083</td>\n      <td>0.195667</td>\n      <td>1.000000</td>\n      <td>0.401021</td>\n      <td>0.178790</td>\n      <td>0.174847</td>\n      <td>0.453544</td>\n      <td>...</td>\n      <td>0.092333</td>\n      <td>0.139118</td>\n      <td>0.220937</td>\n      <td>0.126834</td>\n      <td>0.109428</td>\n      <td>0.254636</td>\n      <td>0.141702</td>\n      <td>0.197637</td>\n      <td>0.248531</td>\n      <td>NaN</td>\n    </tr>\n  </tbody>\n</table>\n<p>5 rows × 944 columns</p>\n</div>"
     },
     "metadata": {},
     "execution_count": 14
    }
   ],
   "source": []
  },
  {
   "cell_type": "code",
   "execution_count": null,
   "metadata": {},
   "outputs": [],
   "source": []
  }
 ]
}