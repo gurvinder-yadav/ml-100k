{
  "nbformat": 4,
  "nbformat_minor": 2,
  "metadata": {
    "orig_nbformat": 4,
    "language_info": {
      "name": "python",
      "version": "3.8.8",
      "mimetype": "text/x-python",
      "codemirror_mode": {
        "name": "ipython",
        "version": 3
      },
      "pygments_lexer": "ipython3",
      "nbconvert_exporter": "python",
      "file_extension": ".py"
    },
    "kernelspec": {
      "name": "python3",
      "display_name": "Python 3.8.8 64-bit ('base': conda)"
    },
    "interpreter": {
      "hash": "3de2d02b11921545bf1816bc45552ddc366ed99bb60e73ad62fb9cbd6f53e5b0"
    },
    "colab": {
      "name": "1.ipynb",
      "provenance": []
    },
    "accelerator": "GPU"
  },
  "cells": [
    {
      "cell_type": "code",
      "execution_count": null,
      "source": [
        "import numpy as np\r\n",
        "import pandas as pd\r\n",
        "import sklearn.metrics as skm\r\n",
        "from sklearn.preprocessing import MinMaxScaler\r\n",
        "from time import time"
      ],
      "outputs": [],
      "metadata": {
        "id": "tHk4iR1Gaycx"
      }
    },
    {
      "cell_type": "code",
      "execution_count": null,
      "source": [
        "t1 = pd.read_csv('cosine.csv')"
      ],
      "outputs": [],
      "metadata": {
        "id": "8c4Pf1O-aycz"
      }
    },
    {
      "cell_type": "code",
      "execution_count": null,
      "source": [
        "# scaler = MinMaxScaler()\r\n",
        "# scaler.fit(t1)"
      ],
      "outputs": [],
      "metadata": {
        "id": "BLko5mkRayc0"
      }
    },
    {
      "cell_type": "code",
      "execution_count": null,
      "source": [
        "# print(scaler.transform(t1))"
      ],
      "outputs": [],
      "metadata": {
        "id": "9C3AXNiZayc1"
      }
    },
    {
      "cell_type": "code",
      "execution_count": null,
      "source": [
        "test = pd.read_csv('test.csv')\r\n",
        "train = pd.read_csv('train.csv')"
      ],
      "outputs": [],
      "metadata": {
        "id": "856o3Yynayc1",
        "colab": {
          "base_uri": "https://localhost:8080/",
          "height": 178
        },
        "outputId": "b0a93fb8-b20a-4713-959b-4514a48a73c0"
      }
    },
    {
      "cell_type": "code",
      "execution_count": null,
      "source": [
        "test['rating'] = test['rating'].round().astype(int)\r\n",
        "test['uId'] = test['uId'].round().astype(int)\r\n",
        "test['iId'] = test['iId'].round().astype(int)\r\n",
        "train['rating'] = train['rating'].round().astype(int)\r\n",
        "train = train.to_numpy()\r\n",
        "test = test.to_numpy()\r\n"
      ],
      "outputs": [],
      "metadata": {
        "id": "eoyzI9kiayc2"
      }
    },
    {
      "cell_type": "code",
      "execution_count": null,
      "source": [
        "matrix = np.zeros((943,1683),dtype=int)\r\n",
        "for i in train:\r\n",
        "        matrix[i[1]-1,i[0]-1] = i[2]"
      ],
      "outputs": [],
      "metadata": {
        "id": "cXAwzumPayc2"
      }
    },
    {
      "cell_type": "code",
      "execution_count": null,
      "source": [
        "def PredRating(user,item,similarity):\r\n",
        "    try:\r\n",
        "        top = similarity[user].argsort()[1:100]\r\n",
        "    except IndexError:\r\n",
        "        sum,count = 0,0\r\n",
        "        for j in range(1682):\r\n",
        "            if matrix[user,j] != 0:\r\n",
        "                count+=1\r\n",
        "                sum+=1\r\n",
        "        return sum/count\r\n",
        "    temp,avgUh,simi = [],[],[]\r\n",
        "    for i in top:\r\n",
        "        if matrix[i,item] !=0:\r\n",
        "            temp.append(i)\r\n",
        "            simi.append(similarity[user,i])\r\n",
        "    temp.append(user)\r\n",
        "    for i in temp:\r\n",
        "        sum,count = 0,0\r\n",
        "        for j in range(1682):\r\n",
        "            if matrix[i,j] != 0:\r\n",
        "                count+=1\r\n",
        "                sum+=matrix[i,j]\r\n",
        "        avgUh.append(sum/count)\r\n",
        "    avgU = np.nan_to_num(np.array(avgUh.pop()))\r\n",
        "    temp.pop()\r\n",
        "    if len(temp)==0:\r\n",
        "        return avgU\r\n",
        "    simi = np.nan_to_num(np.array(simi))\r\n",
        "    num = (simi*(avgUh-avgU)).sum()\r\n",
        "    den = simi.sum()\r\n",
        "    # for i in range(len(temp)):\r\n",
        "    #     num+=similarity[user,temp[i]]*avgUh[i]\r\n",
        "    #     den+=similarity[user,temp[i]]\r\n",
        "    try:\r\n",
        "        result = int(round((avgU+num/den),0))\r\n",
        "    except ZeroDivisionError:\r\n",
        "        result = 0\r\n",
        "    return result\r\n",
        "\r\n"
      ],
      "outputs": [],
      "metadata": {
        "id": "SHgNtOl6ayc2"
      }
    },
    {
      "cell_type": "code",
      "execution_count": null,
      "source": [
        "cosine = pd.read_csv('cosine.csv').to_numpy()\r\n",
        "cosinePred = np.zeros(len(test),dtype=int)"
      ],
      "outputs": [],
      "metadata": {
        "id": "9YTOu80sayc3"
      }
    },
    {
      "cell_type": "code",
      "execution_count": null,
      "source": [
        "# %%time\r\n",
        "j = 0\r\n",
        "for i in test:\r\n",
        "    cosinePred[j] = PredRating(i[1]-1,i[0]-1,cosine)\r\n",
        "    j+=1\r\n",
        "    # if j==100:\r\n",
        "    #   break\r\n",
        "test = pd.read_csv('test.csv')\r\n",
        "cosinePred = pd.DataFrame({'cosine':cosinePred})\r\n",
        "frames = [test,cosinePred]\r\n",
        "t = pd.concat(frames,axis=1)\r\n",
        "t.to_csv('cosinePred.csv',sep=',',index=False)\r\n",
        "# from google.colab import files\r\n",
        "# files.download('cosinePred.csv')"
      ],
      "outputs": [],
      "metadata": {
        "id": "fM8rjSEuayc4"
      }
    },
    {
      "cell_type": "code",
      "execution_count": null,
      "source": [],
      "outputs": [],
      "metadata": {
        "colab": {
          "base_uri": "https://localhost:8080/"
        },
        "id": "wW39KLz7ayc4",
        "outputId": "2933131d-85ef-412a-84cf-1e12f9ca98fe"
      }
    },
    {
      "cell_type": "code",
      "execution_count": null,
      "source": [],
      "outputs": [],
      "metadata": {
        "id": "IkosxM3Nayc4"
      }
    },
    {
      "cell_type": "code",
      "execution_count": null,
      "source": [],
      "outputs": [],
      "metadata": {
        "id": "uBcb3ve1ayc5"
      }
    },
    {
      "cell_type": "code",
      "execution_count": null,
      "source": [],
      "outputs": [],
      "metadata": {
        "id": "w5AfI6dCayc5"
      }
    },
    {
      "cell_type": "code",
      "execution_count": null,
      "source": [],
      "outputs": [],
      "metadata": {
        "id": "iLxpolPm7HlK"
      }
    },
    {
      "cell_type": "code",
      "execution_count": null,
      "source": [],
      "outputs": [],
      "metadata": {
        "id": "4qpOhcd27Z_3"
      }
    }
  ]
}