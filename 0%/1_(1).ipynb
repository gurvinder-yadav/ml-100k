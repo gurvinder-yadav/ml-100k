{
  "nbformat": 4,
  "nbformat_minor": 2,
  "metadata": {
    "orig_nbformat": 4,
    "language_info": {
      "name": "python",
      "version": "3.8.8",
      "mimetype": "text/x-python",
      "codemirror_mode": {
        "name": "ipython",
        "version": 3
      },
      "pygments_lexer": "ipython3",
      "nbconvert_exporter": "python",
      "file_extension": ".py"
    },
    "kernelspec": {
      "name": "python3",
      "display_name": "Python 3.8.8 64-bit ('base': conda)"
    },
    "interpreter": {
      "hash": "3de2d02b11921545bf1816bc45552ddc366ed99bb60e73ad62fb9cbd6f53e5b0"
    },
    "colab": {
      "name": "1 (1).ipynb",
      "provenance": []
    },
    "accelerator": "GPU"
  },
  "cells": [
    {
      "cell_type": "code",
      "execution_count": 1,
      "source": [
        "import numpy as np\r\n",
        "import pandas as pd\r\n",
        "import sklearn.metrics as skm\r\n",
        "from sklearn.preprocessing import MinMaxScaler\r\n",
        "from time import time"
      ],
      "outputs": [],
      "metadata": {
        "id": "0IBBKla-bs2i"
      }
    },
    {
      "cell_type": "code",
      "execution_count": 2,
      "source": [
        "# t1 = pd.read_csv('pearson.csv')"
      ],
      "outputs": [],
      "metadata": {
        "id": "1nBodia5bs2l"
      }
    },
    {
      "cell_type": "code",
      "execution_count": 3,
      "source": [
        "# scaler = MinMaxScaler()\r\n",
        "# scaler.fit(t1)"
      ],
      "outputs": [],
      "metadata": {
        "id": "1AaYZ1ndbs2m"
      }
    },
    {
      "cell_type": "code",
      "execution_count": 4,
      "source": [
        "# print(scaler.transform(t1))"
      ],
      "outputs": [],
      "metadata": {
        "id": "9KB0eW-Hbs2n"
      }
    },
    {
      "cell_type": "code",
      "execution_count": 5,
      "source": [
        "test = pd.read_csv('test.csv',dtype=int)\r\n",
        "train = pd.read_csv('train.csv')\r\n",
        "test"
      ],
      "outputs": [
        {
          "output_type": "execute_result",
          "data": {
            "text/plain": [
              "         iId  uId  rating\n",
              "0       1460  303       3\n",
              "1        660  633       3\n",
              "2        274  502       3\n",
              "3        553   35       3\n",
              "4       1351  377       4\n",
              "...      ...  ...     ...\n",
              "317221  1323  861       4\n",
              "317222  1126   98       4\n",
              "317223  1602  561       3\n",
              "317224  1122  890       4\n",
              "317225   819  500       3\n",
              "\n",
              "[317226 rows x 3 columns]"
            ],
            "text/html": [
              "<div>\n",
              "<style scoped>\n",
              "    .dataframe tbody tr th:only-of-type {\n",
              "        vertical-align: middle;\n",
              "    }\n",
              "\n",
              "    .dataframe tbody tr th {\n",
              "        vertical-align: top;\n",
              "    }\n",
              "\n",
              "    .dataframe thead th {\n",
              "        text-align: right;\n",
              "    }\n",
              "</style>\n",
              "<table border=\"1\" class=\"dataframe\">\n",
              "  <thead>\n",
              "    <tr style=\"text-align: right;\">\n",
              "      <th></th>\n",
              "      <th>iId</th>\n",
              "      <th>uId</th>\n",
              "      <th>rating</th>\n",
              "    </tr>\n",
              "  </thead>\n",
              "  <tbody>\n",
              "    <tr>\n",
              "      <th>0</th>\n",
              "      <td>1460</td>\n",
              "      <td>303</td>\n",
              "      <td>3</td>\n",
              "    </tr>\n",
              "    <tr>\n",
              "      <th>1</th>\n",
              "      <td>660</td>\n",
              "      <td>633</td>\n",
              "      <td>3</td>\n",
              "    </tr>\n",
              "    <tr>\n",
              "      <th>2</th>\n",
              "      <td>274</td>\n",
              "      <td>502</td>\n",
              "      <td>3</td>\n",
              "    </tr>\n",
              "    <tr>\n",
              "      <th>3</th>\n",
              "      <td>553</td>\n",
              "      <td>35</td>\n",
              "      <td>3</td>\n",
              "    </tr>\n",
              "    <tr>\n",
              "      <th>4</th>\n",
              "      <td>1351</td>\n",
              "      <td>377</td>\n",
              "      <td>4</td>\n",
              "    </tr>\n",
              "    <tr>\n",
              "      <th>...</th>\n",
              "      <td>...</td>\n",
              "      <td>...</td>\n",
              "      <td>...</td>\n",
              "    </tr>\n",
              "    <tr>\n",
              "      <th>317221</th>\n",
              "      <td>1323</td>\n",
              "      <td>861</td>\n",
              "      <td>4</td>\n",
              "    </tr>\n",
              "    <tr>\n",
              "      <th>317222</th>\n",
              "      <td>1126</td>\n",
              "      <td>98</td>\n",
              "      <td>4</td>\n",
              "    </tr>\n",
              "    <tr>\n",
              "      <th>317223</th>\n",
              "      <td>1602</td>\n",
              "      <td>561</td>\n",
              "      <td>3</td>\n",
              "    </tr>\n",
              "    <tr>\n",
              "      <th>317224</th>\n",
              "      <td>1122</td>\n",
              "      <td>890</td>\n",
              "      <td>4</td>\n",
              "    </tr>\n",
              "    <tr>\n",
              "      <th>317225</th>\n",
              "      <td>819</td>\n",
              "      <td>500</td>\n",
              "      <td>3</td>\n",
              "    </tr>\n",
              "  </tbody>\n",
              "</table>\n",
              "<p>317226 rows × 3 columns</p>\n",
              "</div>"
            ]
          },
          "metadata": {},
          "execution_count": 5
        }
      ],
      "metadata": {
        "id": "mkUCv50Jbs2o"
      }
    },
    {
      "cell_type": "code",
      "execution_count": 6,
      "source": [
        "# test['rating'] = test['rating'].round().astype(int)\r\n",
        "train['uId'] = train['uId'].round().astype(int)\r\n",
        "train['iId'] = train['iId'].round().astype(int)\r\n",
        "train['rating'] = train['rating'].round().astype(int)\r\n",
        "train = train.to_numpy()\r\n",
        "test = test.to_numpy()\r\n"
      ],
      "outputs": [],
      "metadata": {
        "id": "0nj_UkAbbs2o"
      }
    },
    {
      "cell_type": "code",
      "execution_count": 7,
      "source": [
        "matrix = np.zeros((943,1683),dtype=int)\r\n",
        "for i in train:\r\n",
        "        matrix[i[1]-1,i[0]-1] = i[2]"
      ],
      "outputs": [],
      "metadata": {
        "id": "GVOFom7Sbs2p"
      }
    },
    {
      "cell_type": "code",
      "execution_count": 8,
      "source": [
        "def PredRating(user,item,similarity):\r\n",
        "    try:\r\n",
        "        top = similarity[user].argsort()[1:100]\r\n",
        "    except IndexError:\r\n",
        "        sum,count = 0,0\r\n",
        "        for j in range(1682):\r\n",
        "            if matrix[user,j] != 0:\r\n",
        "                count+=1\r\n",
        "                sum+=1\r\n",
        "        return sum/count\r\n",
        "    temp,avgUh,simi = [],[],[]\r\n",
        "    for i in top:\r\n",
        "        if matrix[i,item] !=0:\r\n",
        "            temp.append(i)\r\n",
        "            simi.append(similarity[user,i])\r\n",
        "    temp.append(user)\r\n",
        "    for i in temp:\r\n",
        "        sum,count = 0,0\r\n",
        "        for j in range(1682):\r\n",
        "            if matrix[i,j] != 0:\r\n",
        "                count+=1\r\n",
        "                sum+=matrix[i,j]\r\n",
        "        avgUh.append(sum/count)\r\n",
        "    avgU = np.nan_to_num(np.array(avgUh.pop()))\r\n",
        "    temp.pop()\r\n",
        "    if len(temp)==0:\r\n",
        "        return avgU\r\n",
        "    simi = np.nan_to_num(np.array(simi))\r\n",
        "    num = (simi*(avgUh-avgU)).sum()\r\n",
        "    den = simi.sum()\r\n",
        "    # for i in range(len(temp)):\r\n",
        "    #     num+=similarity[user,temp[i]]*avgUh[i]\r\n",
        "    #     den+=similarity[user,temp[i]]\r\n",
        "    try:\r\n",
        "        result = int(round((avgU+num/den),0))\r\n",
        "    except ZeroDivisionError:\r\n",
        "        result = 0\r\n",
        "    return result\r\n",
        "\r\n"
      ],
      "outputs": [],
      "metadata": {
        "id": "o1xEmex9bs2q"
      }
    },
    {
      "cell_type": "code",
      "execution_count": 9,
      "source": [
        "pip = pd.read_csv('mpip.csv').to_numpy()\r\n",
        "pipPred = np.zeros(len(test),dtype=int)"
      ],
      "outputs": [],
      "metadata": {
        "id": "U_YRmr6kbs2r"
      }
    },
    {
      "cell_type": "code",
      "execution_count": 10,
      "source": [
        "# %%time\r\n",
        "j = 0\r\n",
        "for i in test:\r\n",
        "    pipPred[j] = PredRating(i[1]-1,i[0]-1,pip)\r\n",
        "    j+=1\r\n",
        "    # if j==100:\r\n",
        "    #     break\r\n"
      ],
      "outputs": [],
      "metadata": {
        "id": "VWLJOGuZbs2s"
      }
    },
    {
      "cell_type": "code",
      "execution_count": 18,
      "source": [
        "test = pd.read_csv('test.csv')\r\n",
        "pipPred = pd.DataFrame(pipPred)\r\n",
        "pipPred.columns = ['mpip']\r\n",
        "frames = [test,pipPred]\r\n",
        "t = pd.concat(frames,axis=1)\r\n",
        "t.to_csv('mpipRatings1.csv',sep=',',index=False)"
      ],
      "outputs": [],
      "metadata": {
        "id": "igeLDoicbs2t"
      }
    },
    {
      "cell_type": "code",
      "execution_count": 16,
      "source": [
        "pipPred.columns = ['mpip']"
      ],
      "outputs": [],
      "metadata": {
        "id": "vM3H8cyzbs2u"
      }
    },
    {
      "cell_type": "code",
      "execution_count": 17,
      "source": [
        "pipPred"
      ],
      "outputs": [
        {
          "output_type": "execute_result",
          "data": {
            "text/plain": [
              "        mpip\n",
              "0          4\n",
              "1          4\n",
              "2          4\n",
              "3          4\n",
              "4          4\n",
              "...      ...\n",
              "317221     4\n",
              "317222     4\n",
              "317223     4\n",
              "317224     4\n",
              "317225     4\n",
              "\n",
              "[317226 rows x 1 columns]"
            ],
            "text/html": [
              "<div>\n",
              "<style scoped>\n",
              "    .dataframe tbody tr th:only-of-type {\n",
              "        vertical-align: middle;\n",
              "    }\n",
              "\n",
              "    .dataframe tbody tr th {\n",
              "        vertical-align: top;\n",
              "    }\n",
              "\n",
              "    .dataframe thead th {\n",
              "        text-align: right;\n",
              "    }\n",
              "</style>\n",
              "<table border=\"1\" class=\"dataframe\">\n",
              "  <thead>\n",
              "    <tr style=\"text-align: right;\">\n",
              "      <th></th>\n",
              "      <th>mpip</th>\n",
              "    </tr>\n",
              "  </thead>\n",
              "  <tbody>\n",
              "    <tr>\n",
              "      <th>0</th>\n",
              "      <td>4</td>\n",
              "    </tr>\n",
              "    <tr>\n",
              "      <th>1</th>\n",
              "      <td>4</td>\n",
              "    </tr>\n",
              "    <tr>\n",
              "      <th>2</th>\n",
              "      <td>4</td>\n",
              "    </tr>\n",
              "    <tr>\n",
              "      <th>3</th>\n",
              "      <td>4</td>\n",
              "    </tr>\n",
              "    <tr>\n",
              "      <th>4</th>\n",
              "      <td>4</td>\n",
              "    </tr>\n",
              "    <tr>\n",
              "      <th>...</th>\n",
              "      <td>...</td>\n",
              "    </tr>\n",
              "    <tr>\n",
              "      <th>317221</th>\n",
              "      <td>4</td>\n",
              "    </tr>\n",
              "    <tr>\n",
              "      <th>317222</th>\n",
              "      <td>4</td>\n",
              "    </tr>\n",
              "    <tr>\n",
              "      <th>317223</th>\n",
              "      <td>4</td>\n",
              "    </tr>\n",
              "    <tr>\n",
              "      <th>317224</th>\n",
              "      <td>4</td>\n",
              "    </tr>\n",
              "    <tr>\n",
              "      <th>317225</th>\n",
              "      <td>4</td>\n",
              "    </tr>\n",
              "  </tbody>\n",
              "</table>\n",
              "<p>317226 rows × 1 columns</p>\n",
              "</div>"
            ]
          },
          "metadata": {},
          "execution_count": 17
        }
      ],
      "metadata": {}
    },
    {
      "cell_type": "code",
      "execution_count": null,
      "source": [],
      "outputs": [],
      "metadata": {}
    }
  ]
}