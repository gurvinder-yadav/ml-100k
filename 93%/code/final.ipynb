{
 "cells": [
  {
   "cell_type": "code",
   "execution_count": 1,
   "source": [
    "import pandas as pd\r\n",
    "import numpy as np\r\n",
    "import sklearn.metrics as skm\r\n"
   ],
   "outputs": [],
   "metadata": {}
  },
  {
   "cell_type": "code",
   "execution_count": 3,
   "source": [
    "errors = pd.read_csv('../errors.csv')\r\n",
    "errors.index = ['Cosine','Jaccard','Pearson','PIP','MPIP']\r\n",
    "errors.columns = ['MAE','RMSE','Precision','Recall','f1-score']\r\n",
    "errors"
   ],
   "outputs": [
    {
     "output_type": "execute_result",
     "data": {
      "text/plain": [
       "              MAE      RMSE  Precision    Recall  f1-score\n",
       "Cosine   1.370069  1.914075   0.335744  0.273264  0.245345\n",
       "Jaccard  0.942397  1.205746   0.243128  0.302515  0.217494\n",
       "Pearson  1.095055  5.084220   0.299624  0.328616  0.270832\n",
       "PIP      0.887194  1.174997   0.365533  0.331017  0.266181\n",
       "MPIP     0.849342  1.137702   0.325495  0.343917  0.271720"
      ],
      "text/html": [
       "<div>\n",
       "<style scoped>\n",
       "    .dataframe tbody tr th:only-of-type {\n",
       "        vertical-align: middle;\n",
       "    }\n",
       "\n",
       "    .dataframe tbody tr th {\n",
       "        vertical-align: top;\n",
       "    }\n",
       "\n",
       "    .dataframe thead th {\n",
       "        text-align: right;\n",
       "    }\n",
       "</style>\n",
       "<table border=\"1\" class=\"dataframe\">\n",
       "  <thead>\n",
       "    <tr style=\"text-align: right;\">\n",
       "      <th></th>\n",
       "      <th>MAE</th>\n",
       "      <th>RMSE</th>\n",
       "      <th>Precision</th>\n",
       "      <th>Recall</th>\n",
       "      <th>f1-score</th>\n",
       "    </tr>\n",
       "  </thead>\n",
       "  <tbody>\n",
       "    <tr>\n",
       "      <th>Cosine</th>\n",
       "      <td>1.370069</td>\n",
       "      <td>1.914075</td>\n",
       "      <td>0.335744</td>\n",
       "      <td>0.273264</td>\n",
       "      <td>0.245345</td>\n",
       "    </tr>\n",
       "    <tr>\n",
       "      <th>Jaccard</th>\n",
       "      <td>0.942397</td>\n",
       "      <td>1.205746</td>\n",
       "      <td>0.243128</td>\n",
       "      <td>0.302515</td>\n",
       "      <td>0.217494</td>\n",
       "    </tr>\n",
       "    <tr>\n",
       "      <th>Pearson</th>\n",
       "      <td>1.095055</td>\n",
       "      <td>5.084220</td>\n",
       "      <td>0.299624</td>\n",
       "      <td>0.328616</td>\n",
       "      <td>0.270832</td>\n",
       "    </tr>\n",
       "    <tr>\n",
       "      <th>PIP</th>\n",
       "      <td>0.887194</td>\n",
       "      <td>1.174997</td>\n",
       "      <td>0.365533</td>\n",
       "      <td>0.331017</td>\n",
       "      <td>0.266181</td>\n",
       "    </tr>\n",
       "    <tr>\n",
       "      <th>MPIP</th>\n",
       "      <td>0.849342</td>\n",
       "      <td>1.137702</td>\n",
       "      <td>0.325495</td>\n",
       "      <td>0.343917</td>\n",
       "      <td>0.271720</td>\n",
       "    </tr>\n",
       "  </tbody>\n",
       "</table>\n",
       "</div>"
      ]
     },
     "metadata": {},
     "execution_count": 3
    }
   ],
   "metadata": {}
  },
  {
   "cell_type": "code",
   "execution_count": 2,
   "source": [
    "cosine = pd.read_csv('../cosine.csv').to_numpy()\r\n",
    "pearson = pd.read_csv('../pearson.csv').to_numpy()\r\n",
    "jaccard = pd.read_csv('../jaccard.csv').to_numpy()\r\n",
    "pip = pd.read_csv('../pip.csv').to_numpy()\r\n",
    "mpip =pd.read_csv('../mpip.csv',delimiter=',').to_numpy()\r\n",
    "train_data = pd.read_csv('../train.data',delimiter=',')\r\n",
    "test_data = pd.read_csv('../test.data',delimiter=',').to_numpy()\r\n",
    "matrix = np.zeros((943,1682),dtype=int)\r\n",
    "users = test_data.transpose()[0]\r\n",
    "items = test_data.transpose()[1]\r\n",
    "ratings = test_data.transpose()[2]\r\n",
    "for row in train_data.to_numpy():\r\n",
    "    matrix[row[0]-1,row[1]-1] = row[2]"
   ],
   "outputs": [],
   "metadata": {}
  },
  {
   "cell_type": "code",
   "execution_count": 6,
   "source": [
    "def PredRating(user,item,similarity):\r\n",
    "    try:\r\n",
    "        top = similarity[user].argsort()[1:100]\r\n",
    "    except IndexError:\r\n",
    "        sum,count = 0,0\r\n",
    "        for j in range(1682):\r\n",
    "            if matrix[user,j] != 0:\r\n",
    "                count+=1\r\n",
    "                sum+=1\r\n",
    "        return sum/count\r\n",
    "    temp,avgUh,simi = [],[],[]\r\n",
    "    for i in top:\r\n",
    "        if matrix[i,item] !=0:\r\n",
    "            temp.append(i)\r\n",
    "            simi.append(similarity[user,i])\r\n",
    "    temp.append(user)\r\n",
    "    for i in temp:\r\n",
    "        sum,count = 0,0\r\n",
    "        for j in range(1682):\r\n",
    "            if matrix[i,j] != 0:\r\n",
    "                count+=1\r\n",
    "                sum+=matrix[i,j]\r\n",
    "        avgUh.append(sum/count)\r\n",
    "    avgU = np.nan_to_num(np.array(avgUh.pop()))\r\n",
    "    temp.pop()\r\n",
    "    if len(temp)==0:\r\n",
    "        return avgU\r\n",
    "    simi = np.nan_to_num(np.array(simi))\r\n",
    "    num = (simi*(avgUh-avgU)).sum()\r\n",
    "    den = simi.sum()\r\n",
    "    # for i in range(len(temp)):\r\n",
    "    #     num+=similarity[user,temp[i]]*avgUh[i]\r\n",
    "    #     den+=similarity[user,temp[i]]\r\n",
    "    try:\r\n",
    "        result = (round((avgU+num/den),0))\r\n",
    "    except ZeroDivisionError:\r\n",
    "        result = 0\r\n",
    "    return result\r\n"
   ],
   "outputs": [],
   "metadata": {}
  },
  {
   "cell_type": "code",
   "execution_count": 7,
   "source": [
    "cosinePred = []\r\n",
    "jaccardPred,pearsonPred,pipPred,mpipPred = [],[],[],[]\r\n",
    "user = []\r\n",
    "item = []\r\n",
    "rating = []\r\n",
    "for i in range(len(users)):\r\n",
    "    temp = PredRating(users[i]-1,items[i]-1,cosine)\r\n",
    "    jaccardPred.append(PredRating(users[i]-1,items[i]-1,jaccard))\r\n",
    "    pearsonPred.append(PredRating(users[i]-1,items[i]-1,pearson))\r\n",
    "    pipPred.append(PredRating(users[i]-1,items[i]-1,pip))\r\n",
    "    mpipPred.append(PredRating(users[i]-1,items[i]-1,mpip))\r\n",
    "    cosinePred.append(temp)\r\n",
    "    user.append(users[i])\r\n",
    "    item.append(items[i])\r\n",
    "    rating.append(ratings[i])"
   ],
   "outputs": [
    {
     "output_type": "stream",
     "name": "stderr",
     "text": [
      "<ipython-input-6-b320d13bfef8>:35: RuntimeWarning: invalid value encountered in double_scalars\n",
      "  result = (round((avgU+num/den),0))\n"
     ]
    }
   ],
   "metadata": {}
  },
  {
   "cell_type": "code",
   "execution_count": 8,
   "source": [
    "result = pd.DataFrame({'user':user,\r\n",
    "                        'item':item,\r\n",
    "                        'rating':rating,\r\n",
    "                        'cosine':cosinePred,\r\n",
    "                        'jaccard':jaccardPred,\r\n",
    "                        'pearson':pearsonPred,\r\n",
    "                        'pip':pipPred,\r\n",
    "                        'mpip':mpipPred\r\n",
    "                        }).fillna(0)"
   ],
   "outputs": [],
   "metadata": {}
  },
  {
   "cell_type": "code",
   "execution_count": 16,
   "source": [
    "result['cosine'] = round(result['cosine'],0)\r\n",
    "result['jaccard'] = round(result['jaccard'],0)\r\n",
    "result['pearson'] = round(result['pearson'],0)\r\n",
    "result['pip'] = round(result['pip'],0)\r\n",
    "result['mpip'] = round(result['mpip'],0)\r\n",
    "result.to_csv('../results.csv',sep=',',index=False)"
   ],
   "outputs": [],
   "metadata": {}
  },
  {
   "cell_type": "code",
   "execution_count": null,
   "source": [],
   "outputs": [],
   "metadata": {}
  },
  {
   "cell_type": "code",
   "execution_count": 18,
   "source": [
    "resTrans=result.to_numpy().transpose()\r\n",
    "f1_score,mae,recall,precision,rmse = [],[],[],[],[]\r\n"
   ],
   "outputs": [],
   "metadata": {}
  },
  {
   "cell_type": "code",
   "execution_count": 19,
   "source": [
    "for i in range(3,8):\r\n",
    "    f1_score.append(skm.f1_score(resTrans[2],resTrans[i],average='weighted'))\r\n",
    "    mae.append(skm.mean_absolute_error(resTrans[2],resTrans[i]))\r\n",
    "    rmse.append(skm.mean_squared_error(resTrans[2],resTrans[i],squared=False))\r\n",
    "    recall.append(skm.recall_score(resTrans[2],resTrans[i],average='weighted'))\r\n",
    "    precision.append(skm.precision_score(resTrans[2],resTrans[i],average='weighted'))"
   ],
   "outputs": [
    {
     "output_type": "stream",
     "name": "stderr",
     "text": [
      "C:\\Users\\gurvi\\anaconda3\\lib\\site-packages\\sklearn\\metrics\\_classification.py:1248: UndefinedMetricWarning: Recall is ill-defined and being set to 0.0 in labels with no true samples. Use `zero_division` parameter to control this behavior.\n",
      "  _warn_prf(average, modifier, msg_start, len(result))\n",
      "C:\\Users\\gurvi\\anaconda3\\lib\\site-packages\\sklearn\\metrics\\_classification.py:1248: UndefinedMetricWarning: Precision is ill-defined and being set to 0.0 in labels with no predicted samples. Use `zero_division` parameter to control this behavior.\n",
      "  _warn_prf(average, modifier, msg_start, len(result))\n",
      "C:\\Users\\gurvi\\anaconda3\\lib\\site-packages\\sklearn\\metrics\\_classification.py:1248: UndefinedMetricWarning: Recall is ill-defined and being set to 0.0 in labels with no true samples. Use `zero_division` parameter to control this behavior.\n",
      "  _warn_prf(average, modifier, msg_start, len(result))\n"
     ]
    }
   ],
   "metadata": {}
  },
  {
   "cell_type": "code",
   "execution_count": 20,
   "source": [
    "errors = pd.DataFrame({'MAE':mae,'RMSE':rmse,'Precision':precision,'Recall':recall,'f1-score':f1_score})\r\n"
   ],
   "outputs": [],
   "metadata": {}
  },
  {
   "cell_type": "code",
   "execution_count": 23,
   "source": [
    "errors.index = ['Cosine','Jaccard','Pearson','PIP','MPIP']\r\n",
    "errors"
   ],
   "outputs": [
    {
     "output_type": "execute_result",
     "data": {
      "text/plain": [
       "              mae      rmse  precision    recall  f1-score\n",
       "cosine   1.370069  1.914075   0.335744  0.273264  0.245345\n",
       "jaccard  0.942397  1.205746   0.243128  0.302515  0.217494\n",
       "pearson  1.095055  5.084220   0.299624  0.328616  0.270832\n",
       "pip      0.887194  1.174997   0.365533  0.331017  0.266181\n",
       "mpip     0.849342  1.137702   0.325495  0.343917  0.271720"
      ],
      "text/html": [
       "<div>\n",
       "<style scoped>\n",
       "    .dataframe tbody tr th:only-of-type {\n",
       "        vertical-align: middle;\n",
       "    }\n",
       "\n",
       "    .dataframe tbody tr th {\n",
       "        vertical-align: top;\n",
       "    }\n",
       "\n",
       "    .dataframe thead th {\n",
       "        text-align: right;\n",
       "    }\n",
       "</style>\n",
       "<table border=\"1\" class=\"dataframe\">\n",
       "  <thead>\n",
       "    <tr style=\"text-align: right;\">\n",
       "      <th></th>\n",
       "      <th>mae</th>\n",
       "      <th>rmse</th>\n",
       "      <th>precision</th>\n",
       "      <th>recall</th>\n",
       "      <th>f1-score</th>\n",
       "    </tr>\n",
       "  </thead>\n",
       "  <tbody>\n",
       "    <tr>\n",
       "      <th>cosine</th>\n",
       "      <td>1.370069</td>\n",
       "      <td>1.914075</td>\n",
       "      <td>0.335744</td>\n",
       "      <td>0.273264</td>\n",
       "      <td>0.245345</td>\n",
       "    </tr>\n",
       "    <tr>\n",
       "      <th>jaccard</th>\n",
       "      <td>0.942397</td>\n",
       "      <td>1.205746</td>\n",
       "      <td>0.243128</td>\n",
       "      <td>0.302515</td>\n",
       "      <td>0.217494</td>\n",
       "    </tr>\n",
       "    <tr>\n",
       "      <th>pearson</th>\n",
       "      <td>1.095055</td>\n",
       "      <td>5.084220</td>\n",
       "      <td>0.299624</td>\n",
       "      <td>0.328616</td>\n",
       "      <td>0.270832</td>\n",
       "    </tr>\n",
       "    <tr>\n",
       "      <th>pip</th>\n",
       "      <td>0.887194</td>\n",
       "      <td>1.174997</td>\n",
       "      <td>0.365533</td>\n",
       "      <td>0.331017</td>\n",
       "      <td>0.266181</td>\n",
       "    </tr>\n",
       "    <tr>\n",
       "      <th>mpip</th>\n",
       "      <td>0.849342</td>\n",
       "      <td>1.137702</td>\n",
       "      <td>0.325495</td>\n",
       "      <td>0.343917</td>\n",
       "      <td>0.271720</td>\n",
       "    </tr>\n",
       "  </tbody>\n",
       "</table>\n",
       "</div>"
      ]
     },
     "metadata": {},
     "execution_count": 23
    }
   ],
   "metadata": {}
  },
  {
   "cell_type": "code",
   "execution_count": 22,
   "source": [
    "errors.to_csv('../errors.csv',sep=',',index=False)"
   ],
   "outputs": [],
   "metadata": {}
  },
  {
   "cell_type": "code",
   "execution_count": 46,
   "source": [
    "def recommendtion(user,similarity,matrix):\r\n",
    "    items = pd.read_csv('../u.item',delimiter='|',names=[str(i) for i in range(1,25)]).to_numpy()\r\n",
    "    items = items[:,1]\r\n",
    "    topuser = similarity[user-1].argsort()[:10]\r\n",
    "    #print(topuser)\r\n",
    "    movies = []\r\n",
    "    for i in topuser:\r\n",
    "        topmovUI = matrix[i].argsort()[:10]\r\n",
    "        #print(topmovUI)\r\n",
    "        for j in topmovUI:\r\n",
    "            if matrix[user-1,j] == 0  and (matrix[i,j] != 0 or matrix[i,j] != 1):\r\n",
    "                #print(j)\r\n",
    "                #print(items[j])\r\n",
    "                movies.append(items[j])\r\n",
    "    return movies"
   ],
   "outputs": [],
   "metadata": {}
  },
  {
   "cell_type": "code",
   "execution_count": 47,
   "source": [
    "cosine = pd.read_csv('../cosine.csv',delimiter=',').to_numpy()\r\n",
    "res = recommendtion(1,cosine,matrix)"
   ],
   "outputs": [],
   "metadata": {}
  },
  {
   "cell_type": "code",
   "execution_count": 48,
   "source": [
    "res"
   ],
   "outputs": [
    {
     "output_type": "execute_result",
     "data": {
      "text/plain": [
       "['Chungking Express (1994)',\n",
       " 'Heidi Fleiss: Hollywood Madam (1995) ',\n",
       " 'Truman Show, The (1998)',\n",
       " 'Old Man and the Sea, The (1958)',\n",
       " 'Innocents, The (1961)',\n",
       " 'Farewell to Arms, A (1932)',\n",
       " 'Last Time I Saw Paris, The (1954)',\n",
       " 'They Made Me a Criminal (1939)',\n",
       " 'Umbrellas of Cherbourg, The (Parapluies de Cherbourg, Les) (1964)',\n",
       " 'Truman Show, The (1998)',\n",
       " 'Old Man and the Sea, The (1958)',\n",
       " 'Innocents, The (1961)',\n",
       " 'Farewell to Arms, A (1932)',\n",
       " 'Last Time I Saw Paris, The (1954)',\n",
       " 'They Made Me a Criminal (1939)',\n",
       " 'Umbrellas of Cherbourg, The (Parapluies de Cherbourg, Les) (1964)',\n",
       " \"I'm Not Rappaport (1996)\",\n",
       " 'Some Kind of Wonderful (1987)',\n",
       " 'Chungking Express (1994)',\n",
       " 'Heidi Fleiss: Hollywood Madam (1995) ',\n",
       " 'Truman Show, The (1998)',\n",
       " 'Old Man and the Sea, The (1958)',\n",
       " 'Innocents, The (1961)',\n",
       " 'Farewell to Arms, A (1932)',\n",
       " 'Last Time I Saw Paris, The (1954)',\n",
       " 'They Made Me a Criminal (1939)',\n",
       " 'Umbrellas of Cherbourg, The (Parapluies de Cherbourg, Les) (1964)',\n",
       " 'Heidi Fleiss: Hollywood Madam (1995) ',\n",
       " 'Truman Show, The (1998)',\n",
       " 'Old Man and the Sea, The (1958)',\n",
       " 'Innocents, The (1961)',\n",
       " 'Farewell to Arms, A (1932)',\n",
       " 'Last Time I Saw Paris, The (1954)',\n",
       " 'They Made Me a Criminal (1939)',\n",
       " 'Umbrellas of Cherbourg, The (Parapluies de Cherbourg, Les) (1964)',\n",
       " \"I'm Not Rappaport (1996)\",\n",
       " 'Glimmer Man, The (1996)',\n",
       " 'Heidi Fleiss: Hollywood Madam (1995) ',\n",
       " 'Truman Show, The (1998)',\n",
       " 'Old Man and the Sea, The (1958)',\n",
       " 'Innocents, The (1961)',\n",
       " 'Farewell to Arms, A (1932)',\n",
       " 'Last Time I Saw Paris, The (1954)',\n",
       " 'They Made Me a Criminal (1939)',\n",
       " 'Umbrellas of Cherbourg, The (Parapluies de Cherbourg, Les) (1964)',\n",
       " \"I'm Not Rappaport (1996)\",\n",
       " 'Chungking Express (1994)',\n",
       " 'Heidi Fleiss: Hollywood Madam (1995) ',\n",
       " 'Truman Show, The (1998)',\n",
       " 'Old Man and the Sea, The (1958)',\n",
       " 'Innocents, The (1961)',\n",
       " 'Farewell to Arms, A (1932)',\n",
       " 'Last Time I Saw Paris, The (1954)',\n",
       " 'They Made Me a Criminal (1939)',\n",
       " 'Umbrellas of Cherbourg, The (Parapluies de Cherbourg, Les) (1964)',\n",
       " 'Heidi Fleiss: Hollywood Madam (1995) ',\n",
       " 'Truman Show, The (1998)',\n",
       " 'Old Man and the Sea, The (1958)',\n",
       " 'Innocents, The (1961)',\n",
       " 'Farewell to Arms, A (1932)',\n",
       " 'Last Time I Saw Paris, The (1954)',\n",
       " 'They Made Me a Criminal (1939)',\n",
       " 'Umbrellas of Cherbourg, The (Parapluies de Cherbourg, Les) (1964)',\n",
       " \"I'm Not Rappaport (1996)\",\n",
       " 'Glimmer Man, The (1996)',\n",
       " 'Chungking Express (1994)',\n",
       " 'Heidi Fleiss: Hollywood Madam (1995) ',\n",
       " 'Truman Show, The (1998)',\n",
       " 'Old Man and the Sea, The (1958)',\n",
       " 'Innocents, The (1961)',\n",
       " 'Farewell to Arms, A (1932)',\n",
       " 'Last Time I Saw Paris, The (1954)',\n",
       " 'They Made Me a Criminal (1939)',\n",
       " 'Umbrellas of Cherbourg, The (Parapluies de Cherbourg, Les) (1964)',\n",
       " 'Truman Show, The (1998)',\n",
       " 'Old Man and the Sea, The (1958)',\n",
       " 'Innocents, The (1961)',\n",
       " 'Farewell to Arms, A (1932)',\n",
       " 'Last Time I Saw Paris, The (1954)',\n",
       " 'They Made Me a Criminal (1939)',\n",
       " 'Umbrellas of Cherbourg, The (Parapluies de Cherbourg, Les) (1964)',\n",
       " \"I'm Not Rappaport (1996)\",\n",
       " 'Some Kind of Wonderful (1987)',\n",
       " 'Heidi Fleiss: Hollywood Madam (1995) ',\n",
       " 'Truman Show, The (1998)',\n",
       " 'Old Man and the Sea, The (1958)',\n",
       " 'Innocents, The (1961)',\n",
       " 'Farewell to Arms, A (1932)',\n",
       " 'Last Time I Saw Paris, The (1954)',\n",
       " 'They Made Me a Criminal (1939)',\n",
       " 'Umbrellas of Cherbourg, The (Parapluies de Cherbourg, Les) (1964)',\n",
       " \"I'm Not Rappaport (1996)\"]"
      ]
     },
     "metadata": {},
     "execution_count": 48
    }
   ],
   "metadata": {}
  },
  {
   "cell_type": "code",
   "execution_count": 6,
   "source": [
    "items = pd.read_csv('../u.item',delimiter='|',names=[str(i) for i in range(29)],encoding='latin-1')['1'].to_numpy()\r\n",
    "filterwords = pd.read_csv('../offensive word.txt').to_numpy()\r\n",
    "def top(user,similarity,matrix,items):\r\n",
    "    topMovies = []\r\n",
    "    simUsers = similarity[user].argsort()[:5]+1\r\n",
    "    topMovies = matrix[simUsers[:]].argsort()[:10]\r\n",
    "    titles = []\r\n",
    "    years = []\r\n",
    "    for i in topMovies:\r\n",
    "        for j in i:\r\n",
    "            itemsTemp = (str(items[j])).split('(')\r\n",
    "            titles.append(itemsTemp[0])\r\n",
    "            years.append(itemsTemp[1].rstrip(')'))\r\n",
    "            if(len(titles)>20):\r\n",
    "              break\r\n",
    "        if(len(titles)>20):\r\n",
    "              break\r\n",
    "    years = np.array(years).argsort()\r\n",
    "    titles = np.array(titles)\r\n",
    "    titles = titles[years[:]]\r\n",
    "    for i in range(len(titles)):\r\n",
    "      temp = str(titles[i]).split()\r\n",
    "      if temp in filterwords:\r\n",
    "        titles.pop(index=i)\r\n",
    "    return titles"
   ],
   "outputs": [],
   "metadata": {}
  },
  {
   "cell_type": "code",
   "execution_count": 7,
   "source": [
    "print(top(660,cosine,matrix,items))\r\n",
    "print(top(660,jaccard,matrix,items))\r\n",
    "print(top(660,pearson,matrix,items))\r\n"
   ],
   "outputs": [
    {
     "output_type": "stream",
     "name": "stdout",
     "text": [
      "['Farewell to Arms, A ' 'They Made Me a Criminal ' 'Mark of Zorro, The '\n",
      " 'Last Time I Saw Paris, The ' 'Old Man and the Sea, The '\n",
      " 'Innocents, The ' 'Up in Smoke ' 'Some Kind of Wonderful '\n",
      " 'Double Happiness ' 'Cobb ' 'Mrs. Parker and the Vicious Circle '\n",
      " 'Death and the Maiden ' 'Chungking Express ' 'Tank Girl ' 'Toy Story '\n",
      " 'Heidi Fleiss: Hollywood Madam ' \"I'm Not Rappaport \" 'Twelfth Night '\n",
      " 'Faithful ' 'Truman Show, The ' 'Umbrellas of Cherbourg, The ']\n",
      "['Farewell to Arms, A ' 'They Made Me a Criminal ' 'Mark of Zorro, The '\n",
      " 'Last Time I Saw Paris, The ' 'Innocents, The ' 'Some Kind of Wonderful '\n",
      " \"Jupiter's Wife \" 'Chungking Express ' 'Cobb ' 'Double Happiness '\n",
      " 'Mrs. Parker and the Vicious Circle ' 'Tank Girl ' 'Safe '\n",
      " 'Heidi Fleiss: Hollywood Madam ' 'Faithful ' 'Glimmer Man, The '\n",
      " 'Surviving Picasso ' \"I'm Not Rappaport \" 'Twelfth Night '\n",
      " 'Truman Show, The ' 'Umbrellas of Cherbourg, The ']\n",
      "['Farewell to Arms, A ' 'They Made Me a Criminal ' 'Mark of Zorro, The '\n",
      " 'Last Time I Saw Paris, The ' 'Innocents, The ' 'Some Kind of Wonderful '\n",
      " \"Jupiter's Wife \" 'Chungking Express ' 'Cobb ' 'Double Happiness '\n",
      " 'Mrs. Parker and the Vicious Circle ' 'Tank Girl ' 'Safe '\n",
      " 'Heidi Fleiss: Hollywood Madam ' 'Faithful ' 'Glimmer Man, The '\n",
      " 'Surviving Picasso ' \"I'm Not Rappaport \" 'Twelfth Night '\n",
      " 'Truman Show, The ' 'Umbrellas of Cherbourg, The ']\n"
     ]
    }
   ],
   "metadata": {}
  },
  {
   "cell_type": "code",
   "execution_count": 8,
   "source": [
    "print(top(660,pip,matrix,items))\r\n",
    "print(top(660,mpip,matrix,items))"
   ],
   "outputs": [
    {
     "output_type": "stream",
     "name": "stdout",
     "text": [
      "['Farewell to Arms, A ' 'They Made Me a Criminal ' 'Mark of Zorro, The '\n",
      " 'Last Time I Saw Paris, The ' 'Old Man and the Sea, The '\n",
      " 'Innocents, The ' 'Escape to Witch Mountain ' 'Up in Smoke '\n",
      " \"Jupiter's Wife \" 'Chungking Express ' 'Safe '\n",
      " 'Heidi Fleiss: Hollywood Madam ' 'Surviving Picasso '\n",
      " \"I'm Not Rappaport \" 'Glimmer Man, The ' 'Twelfth Night '\n",
      " 'Feeling Minnesota ' 'Get on the Bus ' 'Faithful ' 'Truman Show, The '\n",
      " 'Umbrellas of Cherbourg, The ']\n",
      "['Farewell to Arms, A ' 'They Made Me a Criminal ' 'Mark of Zorro, The '\n",
      " 'Last Time I Saw Paris, The ' 'Old Man and the Sea, The '\n",
      " 'Innocents, The ' 'Some Kind of Wonderful ' 'Chungking Express ' 'Cobb '\n",
      " 'Mrs. Parker and the Vicious Circle ' 'Double Happiness '\n",
      " \"Jupiter's Wife \" 'Tank Girl ' 'Heidi Fleiss: Hollywood Madam '\n",
      " 'Faithful ' 'Glimmer Man, The ' 'Surviving Picasso ' 'Twelfth Night '\n",
      " \"I'm Not Rappaport \" 'Truman Show, The ' 'Umbrellas of Cherbourg, The ']\n"
     ]
    }
   ],
   "metadata": {}
  },
  {
   "cell_type": "code",
   "execution_count": null,
   "source": [],
   "outputs": [],
   "metadata": {}
  }
 ],
 "metadata": {
  "orig_nbformat": 4,
  "language_info": {
   "name": "python",
   "version": "3.8.8",
   "mimetype": "text/x-python",
   "codemirror_mode": {
    "name": "ipython",
    "version": 3
   },
   "pygments_lexer": "ipython3",
   "nbconvert_exporter": "python",
   "file_extension": ".py"
  },
  "kernelspec": {
   "name": "python3",
   "display_name": "Python 3.8.8 64-bit ('base': conda)"
  },
  "interpreter": {
   "hash": "3de2d02b11921545bf1816bc45552ddc366ed99bb60e73ad62fb9cbd6f53e5b0"
  }
 },
 "nbformat": 4,
 "nbformat_minor": 2
}