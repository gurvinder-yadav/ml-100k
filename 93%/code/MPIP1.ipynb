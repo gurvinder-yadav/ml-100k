{
 "cells": [
  {
   "cell_type": "code",
   "execution_count": 1,
   "source": [
    "import numpy as np\r\n",
    "import pandas as pd\r\n",
    "from statistics import median\r\n",
    "\r\n",
    "import math\r\n",
    "\r\n",
    "from sklearn.preprocessing import MinMaxScaler"
   ],
   "outputs": [],
   "metadata": {}
  },
  {
   "cell_type": "code",
   "execution_count": 15,
   "source": [
    "train_data = pd.read_csv('../train.data',delimiter=',')\r\n",
    "matrix = np.zeros((943,1682),dtype=int)\r\n",
    "for row in train_data.to_numpy():\r\n",
    "    matrix[row[0]-1,row[1]-1] = row[2]\r\n",
    "test = pd.read_csv('../test.data').to_numpy()\r\n",
    "users = test.transpose()[0,:10]\r\n",
    "users"
   ],
   "outputs": [],
   "metadata": {}
  },
  {
   "cell_type": "code",
   "execution_count": 3,
   "source": [
    "Rmin = 1\r\n",
    "Rmax = 5\r\n",
    "Rmid = int((5+1)/2)\r\n",
    "\r\n",
    "def med(arr1,arr2):\r\n",
    "    midup = []\r\n",
    "    middown = []\r\n",
    "    for item in range(len(arr1)):\r\n",
    "        if arr1[item]<Rmid:\r\n",
    "            middown.append(arr1[item])\r\n",
    "        if arr1[item] >= Rmid:\r\n",
    "            midup.append(arr1[item])\r\n",
    "        if arr2[item] < Rmid:\r\n",
    "            middown.append(arr2[item])\r\n",
    "        if  arr2[item] >= Rmid:\r\n",
    "            midup.append(arr2[item])\r\n",
    "    return median(midup),median(middown)\r\n",
    "\r\n",
    "def proximity(r1,r2,midplus,midminus):\r\n",
    "    if (r1>=Rmid and r2>=Rmid) or (r1<Rmid and r2<Rmid):\r\n",
    "        prox = (((abs(r1-r2))-(midminus+midplus)/2)/(Rmax-Rmin))**2\r\n",
    "    else:\r\n",
    "        dst = abs(r1-r2)\r\n",
    "        if dst > Rmid:\r\n",
    "            delta = 0.75\r\n",
    "        elif dst == Rmid:\r\n",
    "            delta = 0.5\r\n",
    "        else:\r\n",
    "            delta = 0.25\r\n",
    "        prox = delta*(((Rmax-Rmin)/delta)**2)\r\n",
    "    return prox\r\n",
    "\r\n",
    "def impact(r1,r2,midplus,midminus):\r\n",
    "    if (r1>=Rmid and r2>=Rmid) or (r1<Rmid and r2<Rmid):\r\n",
    "        imp = math.pow(math.e,-(1/(abs(r1-Rmid)+1)*(abs(r2-Rmid)+1)))\r\n",
    "    else:\r\n",
    "        imp = 1/(abs(r1-Rmid)+1)*(abs(r2-Rmid)+1)\r\n",
    "    return imp\r\n",
    "\r\n",
    "def popularity(r1,r2,col_no):\r\n",
    "    avg = matrix.mean(axis=0)\r\n",
    "    if (r1>=Rmid and r2>=Rmid) or (r1<Rmid and r2<Rmid):\r\n",
    "        pop = math.log10((2+(((r1+r2)/2)-avg[col_no])**2))\r\n",
    "    else:\r\n",
    "        pop = 0.3010\r\n",
    "    return pop\r\n",
    "\r\n",
    "def MPIP(u1,u2,item):\r\n",
    "    midplus,midminus = med(matrix[u1],matrix[u2])\r\n",
    "    prox = proximity(matrix[u1,item],matrix[u2,item],midplus,midminus)\r\n",
    "    imp = impact(matrix[u1,item],matrix[u2,item],midplus,midminus)\r\n",
    "    pop = popularity(matrix[u1,item],matrix[u2,item],item)\r\n",
    "    return prox*imp*pop\r\n",
    "\r\n",
    "def sim(u1,u2):\r\n",
    "    sum=0\r\n",
    "    for i in range(0,1678,4):\r\n",
    "        t1 =MPIP(u1,u2,i)\r\n",
    "        t2 =MPIP(u1,u2,i+1)\r\n",
    "        t3 =MPIP(u1,u2,i+2)\r\n",
    "        t4 =MPIP(u1,u2,i+3)\r\n",
    "        sum+=(t1+t2+t3+t4)\r\n",
    "\r\n",
    "    return sum"
   ],
   "outputs": [],
   "metadata": {}
  },
  {
   "cell_type": "code",
   "execution_count": 4,
   "source": [
    "Mpip = np.zeros((943,943))\r\n",
    "for i in range(943):\r\n",
    "    if i in users1:\r\n",
    "        for j in range(943):\r\n",
    "            if i==j:\r\n",
    "                Mpip[i,j]=654.298\r\n",
    "                continue\r\n",
    "            Mpip[i,j] = sim(i,j)"
   ],
   "outputs": [],
   "metadata": {}
  },
  {
   "cell_type": "code",
   "execution_count": 5,
   "source": [
    "with open('../mpip1.csv','w') as f:\r\n",
    "        for i in Mpip:\r\n",
    "            count=0\r\n",
    "            for j in i:\r\n",
    "                f.write(str(j))\r\n",
    "                if count<942:\r\n",
    "                    f.write(',')\r\n",
    "                count+=1\r\n",
    "            f.write('\\n')\r\n"
   ],
   "outputs": [],
   "metadata": {}
  },
  {
   "cell_type": "code",
   "execution_count": 17,
   "source": [
    "Mpip1 = pd.read_csv('../mpip1.csv',delimiter=',',names=[str(i) for i in range(1,944)]).to_numpy()"
   ],
   "outputs": [],
   "metadata": {}
  },
  {
   "cell_type": "code",
   "execution_count": 19,
   "source": [
    "users = users[:5]\r\n",
    "Mpip1[users[:]]"
   ],
   "outputs": [
    {
     "output_type": "execute_result",
     "data": {
      "text/plain": [
       "array([[2857.0284282 , 3173.6325693 , 3209.50166453, ..., 3135.4490432 ,\n",
       "        3151.54425851, 3045.64175663],\n",
       "       [1210.37206686, 1004.35704824, 1061.21158753, ...,  855.43893043,\n",
       "        1206.58026242, 1066.67613979],\n",
       "       [ 915.65264204,  587.22828393,  513.0713679 , ...,  504.68175252,\n",
       "         630.62648582,  733.44232586],\n",
       "       [ 983.09238658,  386.86245001,  425.87105445, ...,  416.13026514,\n",
       "         605.73447256,  708.44656   ],\n",
       "       [1948.22919879, 2347.36469034, 2383.65173565, ..., 2375.12075908,\n",
       "        2284.31833597, 2263.61811126]])"
      ]
     },
     "metadata": {},
     "execution_count": 19
    }
   ],
   "metadata": {}
  },
  {
   "cell_type": "code",
   "execution_count": 20,
   "source": [
    "users"
   ],
   "outputs": [
    {
     "output_type": "execute_result",
     "data": {
      "text/plain": [
       "array([804, 524, 207, 807,   5], dtype=int64)"
      ]
     },
     "metadata": {},
     "execution_count": 20
    }
   ],
   "metadata": {}
  },
  {
   "cell_type": "code",
   "execution_count": 21,
   "source": [
    "mpip = np.zeros((943,943))"
   ],
   "outputs": [],
   "metadata": {}
  },
  {
   "cell_type": "code",
   "execution_count": 23,
   "source": [
    "for i in users:\r\n",
    "    mpip[i-1] = Mpip1[i]"
   ],
   "outputs": [],
   "metadata": {}
  },
  {
   "cell_type": "code",
   "execution_count": 28,
   "source": [
    "users = test.transpose()[0,:10]\r\n",
    "users = users[5:10]"
   ],
   "outputs": [],
   "metadata": {}
  },
  {
   "cell_type": "code",
   "execution_count": null,
   "source": [
    "for i in users:\r\n",
    "    mpip[i-1] = Mpip1[i]"
   ],
   "outputs": [],
   "metadata": {}
  },
  {
   "cell_type": "code",
   "execution_count": 27,
   "source": [
    "df = pd.DataFrame(mpip)\r\n",
    "df.to_csv('../mpip.csv',sep=',',index=False)"
   ],
   "outputs": [],
   "metadata": {}
  },
  {
   "cell_type": "code",
   "execution_count": null,
   "source": [],
   "outputs": [],
   "metadata": {}
  }
 ],
 "metadata": {
  "orig_nbformat": 4,
  "language_info": {
   "name": "python",
   "version": "3.8.10",
   "mimetype": "text/x-python",
   "codemirror_mode": {
    "name": "ipython",
    "version": 3
   },
   "pygments_lexer": "ipython3",
   "nbconvert_exporter": "python",
   "file_extension": ".py"
  },
  "kernelspec": {
   "name": "python3",
   "display_name": "Python 3.8.10 64-bit ('base': conda)"
  },
  "interpreter": {
   "hash": "3de2d02b11921545bf1816bc45552ddc366ed99bb60e73ad62fb9cbd6f53e5b0"
  }
 },
 "nbformat": 4,
 "nbformat_minor": 2
}