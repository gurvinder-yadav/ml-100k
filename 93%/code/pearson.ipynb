{
 "cells": [
  {
   "cell_type": "code",
   "execution_count": 3,
   "source": [
    "import pandas as pd\r\n",
    "import numpy as np\r\n",
    "import sklearn as sk\r\n",
    "import scipy"
   ],
   "outputs": [],
   "metadata": {}
  },
  {
   "cell_type": "code",
   "execution_count": 2,
   "source": [
    "train_data = pd.read_csv('../train.data',delimiter=',')\r\n",
    "matrix = np.zeros((943,1682),dtype=int)\r\n",
    "for row in train_data.to_numpy():\r\n",
    "    matrix[row[0]-1,row[1]-1] = row[2]"
   ],
   "outputs": [],
   "metadata": {}
  },
  {
   "cell_type": "code",
   "execution_count": 9,
   "source": [
    "pipUser = np.ones((943,943))\r\n",
    "for i in range(943):\r\n",
    "    for j in range(943):\r\n",
    "        if i==j:\r\n",
    "            break\r\n",
    "        pipUser[i,j] = scipy.stats.pearsonr(matrix[i],matrix[j])[0]\r\n",
    "        pipUser[j,i] = pipUser[i,j]"
   ],
   "outputs": [],
   "metadata": {}
  },
  {
   "cell_type": "code",
   "execution_count": 10,
   "source": [
    "with open('../pearson.csv','w') as f:\r\n",
    "    for i in pipUser:\r\n",
    "        count=0\r\n",
    "        for j in i:\r\n",
    "            f.write(str(j))\r\n",
    "            if count<942:\r\n",
    "                f.write(',')\r\n",
    "            count+=1\r\n",
    "        f.write('\\n')"
   ],
   "outputs": [],
   "metadata": {}
  },
  {
   "cell_type": "code",
   "execution_count": 12,
   "source": [],
   "outputs": [
    {
     "output_type": "execute_result",
     "data": {
      "text/plain": [
       "array([[ 1.        ,  0.07212346, -0.01851952, ...,  0.03743793,\n",
       "         0.07661584,  0.26258967],\n",
       "       [ 0.07212346,  1.        ,  0.07537745, ...,  0.1421915 ,\n",
       "         0.11389945,  0.0238305 ],\n",
       "       [-0.01851952,  0.07537745,  1.        , ...,  0.05533735,\n",
       "         0.07199507, -0.02381951],\n",
       "       ...,\n",
       "       [ 0.03743793,  0.1421915 ,  0.05533735, ...,  1.        ,\n",
       "         0.07926179,  0.0559901 ],\n",
       "       [ 0.07661584,  0.11389945,  0.07199507, ...,  0.07926179,\n",
       "         1.        ,  0.0741257 ],\n",
       "       [ 0.26258967,  0.0238305 , -0.02381951, ...,  0.0559901 ,\n",
       "         0.0741257 ,  1.        ]])"
      ]
     },
     "metadata": {},
     "execution_count": 12
    }
   ],
   "metadata": {}
  },
  {
   "cell_type": "code",
   "execution_count": null,
   "source": [],
   "outputs": [],
   "metadata": {}
  }
 ],
 "metadata": {
  "orig_nbformat": 4,
  "language_info": {
   "name": "python",
   "version": "3.8.10",
   "mimetype": "text/x-python",
   "codemirror_mode": {
    "name": "ipython",
    "version": 3
   },
   "pygments_lexer": "ipython3",
   "nbconvert_exporter": "python",
   "file_extension": ".py"
  },
  "kernelspec": {
   "name": "python3",
   "display_name": "Python 3.8.10 64-bit ('base': conda)"
  },
  "interpreter": {
   "hash": "3de2d02b11921545bf1816bc45552ddc366ed99bb60e73ad62fb9cbd6f53e5b0"
  }
 },
 "nbformat": 4,
 "nbformat_minor": 2
}