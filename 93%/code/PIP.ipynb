{
 "cells": [
  {
   "cell_type": "code",
   "execution_count": 1,
   "source": [
    "\r\n",
    "import pandas as pd\r\n",
    "import numpy as np\r\n",
    "from sklearn.preprocessing import MinMaxScaler"
   ],
   "outputs": [],
   "metadata": {}
  },
  {
   "cell_type": "code",
   "execution_count": 2,
   "source": [
    "train_data = pd.read_csv('../train.data',delimiter=',')\r\n",
    "train_data = train_data.fillna(0)"
   ],
   "outputs": [],
   "metadata": {}
  },
  {
   "cell_type": "code",
   "execution_count": 3,
   "source": [
    "matrix = np.zeros((943,1682),dtype=int)\r\n",
    "for row in train_data.to_numpy():\r\n",
    "    matrix[row[0]-1,row[1]-1] = row[2]\r\n",
    "    "
   ],
   "outputs": [],
   "metadata": {}
  },
  {
   "cell_type": "code",
   "execution_count": 4,
   "source": [
    "Rm = 3\r\n",
    "Rmin = 1\r\n",
    "Rmax = 5\r\n",
    "def Agreement(r1,r2):\r\n",
    "    if ((r1>Rm and r2<Rm) or (r1<Rm or r2<Rm)):\r\n",
    "        return True\r\n",
    "    else :\r\n",
    "        return False\r\n",
    "def Distance(r1,r2):\r\n",
    "    if Agreement(r1,r2):\r\n",
    "        return abs(r1-r2)\r\n",
    "    else:\r\n",
    "        return 2*(abs(r1-r2))\r\n",
    "def Proximity(r1,r2):\r\n",
    "    return ((2*(Rmax-Rmin)+1)-Distance(r1,r2))**2\r\n",
    "def Impact(r1,r2):\r\n",
    "    result = (abs(r1-Rm)+1)*(abs(r2-Rm)+1)\r\n",
    "    if Agreement(r1,r2):\r\n",
    "        return result\r\n",
    "    elif not(Agreement(r1,r2)) and result!=0:\r\n",
    "        return 1/result\r\n",
    "def AvgRating(item):\r\n",
    "    sum = matrix[:,item].sum()\r\n",
    "    n = np.count_nonzero(matrix[:,item])\r\n",
    "    return sum/n\r\n",
    "def Popularity(r1,r2,uk):\r\n",
    "    if (r1>uk and r2>uk) or (r1<uk or r2<uk):\r\n",
    "        return (1+(((r1+r2)/2)-uk)**2)\r\n",
    "    else:\r\n",
    "        return 1\r\n",
    "def PIP(r1,r2,item):\r\n",
    "    Rm = 3\r\n",
    "    Rmin = 1\r\n",
    "    Rmax = 5\r\n",
    "    proximity = Proximity(r1,r2)\r\n",
    "    impact = Impact(r1,r2)\r\n",
    "    item_avg= AvgRating(item)\r\n",
    "    popularity = Popularity(r1,r2,item_avg)\r\n",
    "    return proximity*impact*popularity\r\n",
    "def agPIP(u1,u2,matrix):\r\n",
    "    sum=0\r\n",
    "    for i in range(1682):\r\n",
    "        sum+=PIP(matrix[u1,i],matrix[u2,i],i)\r\n",
    "    return sum"
   ],
   "outputs": [],
   "metadata": {}
  },
  {
   "cell_type": "code",
   "execution_count": 5,
   "source": [
    "pipUser = np.ones((943,943))"
   ],
   "outputs": [],
   "metadata": {}
  },
  {
   "cell_type": "code",
   "execution_count": 6,
   "source": [
    "for i in range(943):\r\n",
    "    for j in range(943):\r\n",
    "        if i==j:\r\n",
    "            break\r\n",
    "        pipUser[i,j] = agPIP(i,j,matrix)\r\n",
    "        pipUser[j,i] = pipUser[i,j]"
   ],
   "outputs": [],
   "metadata": {}
  },
  {
   "cell_type": "code",
   "execution_count": 7,
   "source": [
    "# with open('../pip.csv','w') as f:\r\n",
    "#     for i in pipUser:\r\n",
    "#         count=0\r\n",
    "#         for j in i:\r\n",
    "#             f.write(str(j))\r\n",
    "#             if count<942:\r\n",
    "#                 f.write(',')\r\n",
    "#             count+=1\r\n",
    "#         f.write('\\n')\r\n"
   ],
   "outputs": [],
   "metadata": {}
  },
  {
   "cell_type": "code",
   "execution_count": 14,
   "source": [
    "scaler = MinMaxScaler()\r\n",
    "scaler.fit(pipUser)\r\n",
    "with open('../pip.csv','w') as f:\r\n",
    "        for i in scaler.transform(pipUser):\r\n",
    "            count=0\r\n",
    "            for j in i:\r\n",
    "                f.write(str(j))\r\n",
    "                if count<942:\r\n",
    "                    f.write(',')\r\n",
    "                count+=1\r\n",
    "            f.write('\\n')"
   ],
   "outputs": [],
   "metadata": {}
  },
  {
   "cell_type": "code",
   "execution_count": null,
   "source": [],
   "outputs": [],
   "metadata": {}
  }
 ],
 "metadata": {
  "orig_nbformat": 4,
  "language_info": {
   "name": "python",
   "version": "3.8.10",
   "mimetype": "text/x-python",
   "codemirror_mode": {
    "name": "ipython",
    "version": 3
   },
   "pygments_lexer": "ipython3",
   "nbconvert_exporter": "python",
   "file_extension": ".py"
  },
  "kernelspec": {
   "name": "python3",
   "display_name": "Python 3.8.10 64-bit ('base': conda)"
  },
  "interpreter": {
   "hash": "3de2d02b11921545bf1816bc45552ddc366ed99bb60e73ad62fb9cbd6f53e5b0"
  }
 },
 "nbformat": 4,
 "nbformat_minor": 2
}