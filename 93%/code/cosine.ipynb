{
 "cells": [
  {
   "cell_type": "code",
   "execution_count": 2,
   "source": [
    "import pandas as pd\r\n",
    "import numpy as np\r\n",
    "from sklearn.metrics.pairwise import cosine_similarity"
   ],
   "outputs": [],
   "metadata": {}
  },
  {
   "cell_type": "code",
   "execution_count": 3,
   "source": [
    "train_data = pd.read_csv('../train.data',delimiter=',')"
   ],
   "outputs": [],
   "metadata": {}
  },
  {
   "cell_type": "code",
   "execution_count": 7,
   "source": [
    "matrix = np.zeros((943,1682),dtype=int)\r\n",
    "for row in train_data.to_numpy():\r\n",
    "    matrix[row[0]-1,row[1]-1] = row[2]\r\n"
   ],
   "outputs": [],
   "metadata": {}
  },
  {
   "cell_type": "code",
   "execution_count": 8,
   "source": [
    "cosine = cosine_similarity(matrix,matrix)"
   ],
   "outputs": [],
   "metadata": {}
  },
  {
   "cell_type": "code",
   "execution_count": 9,
   "source": [
    "with open('../cosine.csv','w') as f:\r\n",
    "    for i in cosine:\r\n",
    "        count=0\r\n",
    "        for j in i:\r\n",
    "            f.write(str(j))\r\n",
    "            if count<942:\r\n",
    "                f.write(',')\r\n",
    "            count+=1\r\n",
    "        f.write('\\n')"
   ],
   "outputs": [],
   "metadata": {}
  },
  {
   "cell_type": "code",
   "execution_count": 10,
   "source": [
    "cosine"
   ],
   "outputs": [
    {
     "output_type": "execute_result",
     "data": {
      "text/plain": [
       "array([[1.        , 0.13510884, 0.04568493, ..., 0.16747203, 0.14011876,\n",
       "        0.32222933],\n",
       "       [0.13510884, 1.        , 0.09840072, ..., 0.1234121 , 0.10740543,\n",
       "        0.06905083],\n",
       "       [0.04568493, 0.09840072, 1.        , ..., 0.02612873, 0.08034731,\n",
       "        0.01574396],\n",
       "       ...,\n",
       "       [0.16747203, 0.1234121 , 0.02612873, ..., 1.        , 0.09981924,\n",
       "        0.09646621],\n",
       "       [0.14011876, 0.10740543, 0.08034731, ..., 0.09981924, 1.        ,\n",
       "        0.20115652],\n",
       "       [0.32222933, 0.06905083, 0.01574396, ..., 0.09646621, 0.20115652,\n",
       "        1.        ]])"
      ]
     },
     "metadata": {},
     "execution_count": 10
    }
   ],
   "metadata": {}
  },
  {
   "cell_type": "code",
   "execution_count": null,
   "source": [],
   "outputs": [],
   "metadata": {}
  }
 ],
 "metadata": {
  "orig_nbformat": 4,
  "language_info": {
   "name": "python",
   "version": "3.8.10",
   "mimetype": "text/x-python",
   "codemirror_mode": {
    "name": "ipython",
    "version": 3
   },
   "pygments_lexer": "ipython3",
   "nbconvert_exporter": "python",
   "file_extension": ".py"
  },
  "kernelspec": {
   "name": "python3",
   "display_name": "Python 3.8.10 64-bit ('base': conda)"
  },
  "interpreter": {
   "hash": "3de2d02b11921545bf1816bc45552ddc366ed99bb60e73ad62fb9cbd6f53e5b0"
  }
 },
 "nbformat": 4,
 "nbformat_minor": 2
}