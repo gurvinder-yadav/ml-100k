{
  "nbformat": 4,
  "nbformat_minor": 0,
  "metadata": {
    "orig_nbformat": 4,
    "language_info": {
      "name": "python",
      "version": "3.8.10",
      "mimetype": "text/x-python",
      "codemirror_mode": {
        "name": "ipython",
        "version": 3
      },
      "pygments_lexer": "ipython3",
      "nbconvert_exporter": "python",
      "file_extension": ".py"
    },
    "kernelspec": {
      "name": "python3",
      "display_name": "Python 3.8.10 64-bit ('base': conda)"
    },
    "interpreter": {
      "hash": "3de2d02b11921545bf1816bc45552ddc366ed99bb60e73ad62fb9cbd6f53e5b0"
    },
    "colab": {
      "name": "test.ipynb",
      "provenance": [],
      "include_colab_link": true
    }
  },
  "cells": [
    {
      "cell_type": "markdown",
      "metadata": {
        "id": "view-in-github",
        "colab_type": "text"
      },
      "source": [
        "<a href=\"https://colab.research.google.com/github/gurvinder-yadav/ml-100k/blob/main/test.ipynb\" target=\"_parent\"><img src=\"https://colab.research.google.com/assets/colab-badge.svg\" alt=\"Open In Colab\"/></a>"
      ]
    },
    {
      "cell_type": "code",
      "metadata": {
        "id": "E-lFgs-CMQuY"
      },
      "source": [
        "import pandas as pd\n",
        "import numpy as np\n",
        "# import sklearn.model_selection as sks\n",
        "# from sklearn.metrics.pairwise import cosine_similarity\n",
        "# from scipy.stats import pearsonr\n",
        "import sklearn.metrics as skm\n",
        "# from time import time"
      ],
      "execution_count": 1,
      "outputs": []
    },
    {
      "cell_type": "code",
      "metadata": {
        "id": "F3Rry7HQMQub"
      },
      "source": [
        "# data = pd.read_csv('100K_mean_dataset.csv',delimiter='\\t',names=['iId','uId','rating'])\n",
        "# train,test = sks.train_test_split(data,test_size=0.2)\n",
        "# train.to_csv('train.csv',sep=',',index=False)\n",
        "# test.to_csv('test.csv',sep=',',index=False)\n",
        "# train,test = train.sort_values(['uId','iId']),test.sort_values(['uId','iId'])\n",
        "# train['rating'],test['rating'] = round(train['rating'],0),round(test['rating'],0)\n",
        "# Ntrain ,Ntest = train.to_numpy(dtype=int),test.to_numpy(dtype=int)"
      ],
      "execution_count": 2,
      "outputs": []
    },
    {
      "cell_type": "code",
      "metadata": {
        "id": "ZCNxqujkMQub"
      },
      "source": [
        "\n",
        "# matrix = np.zeros((943,1682),dtype=int)\n",
        "# for i in Ntrain:\n",
        "#     matrix[i[1]-1,i[0]-1] = i[2]"
      ],
      "execution_count": 3,
      "outputs": []
    },
    {
      "cell_type": "code",
      "metadata": {
        "id": "N8rVdT7kMQub"
      },
      "source": [
        "# cosine = cosine_similarity(matrix)\n",
        "# pearson = np.zeros((943,943))\n",
        "# jaccard = np.zeros((943,943))\n",
        "# for i in range(len(matrix)):\n",
        "#     for j in range(len(matrix)):\n",
        "#         pearson[i,j] = pearsonr(matrix[i],matrix[j])[0]\n",
        "#         jaccard[i,j] = skm.jaccard_score(matrix[i],matrix[j],average='weighted')\n",
        "\n",
        "# pd.DataFrame(cosine).to_csv('cosine.csv',sep=',',index=False)\n",
        "# pd.DataFrame(pearson).to_csv('pearson.csv',sep=',',index=False)\n",
        "# pd.DataFrame(jaccard).to_csv('jaccard.csv',sep=',',index=False)\n"
      ],
      "execution_count": 4,
      "outputs": []
    },
    {
      "cell_type": "code",
      "metadata": {
        "id": "67evyCXXMQub"
      },
      "source": [
        "cosine = pd.read_csv('cosine.csv').to_numpy()\n",
        "pearson = pd.read_csv('pearson.csv').to_numpy()\n",
        "jaccard = pd.read_csv('jaccard.csv').to_numpy()\n",
        "pip = pd.read_csv('pip.csv').to_numpy()\n",
        "mpip = pd.read_csv('mpip.csv').to_numpy()\n",
        "train = pd.read_csv('train.csv').to_numpy()\n",
        "test = pd.read_csv('test.csv').to_numpy()\n",
        "matrix = np.zeros((943,1682),dtype=int)\n",
        "for row in train:\n",
        "    matrix[int(row[1])-1,int(row[0])-1] = row[2]\n",
        "    \n"
      ],
      "execution_count": 5,
      "outputs": []
    },
    {
      "cell_type": "code",
      "metadata": {
        "id": "t172PTg9MQuc"
      },
      "source": [
        "# Rm = 3\n",
        "# Rmin = 1\n",
        "# Rmax = 5\n",
        "# def Agreement(r1,r2):\n",
        "#     if ((r1>Rm and r2<Rm) or (r1<Rm or r2<Rm)):\n",
        "#         return True\n",
        "#     else :\n",
        "#         return False\n",
        "# def Distance(r1,r2):\n",
        "#     if Agreement(r1,r2):\n",
        "#         return abs(r1-r2)\n",
        "#     else:\n",
        "#         return 2*(abs(r1-r2))\n",
        "# def Proximity(r1,r2):\n",
        "#     return ((2*(Rmax-Rmin)+1)-Distance(r1,r2))**2\n",
        "# def Impact(r1,r2):\n",
        "#     result = (abs(r1-Rm)+1)*(abs(r2-Rm)+1)\n",
        "#     if Agreement(r1,r2):\n",
        "#         return result\n",
        "#     elif not(Agreement(r1,r2)) and result!=0:\n",
        "#         return 1/result\n",
        "# def AvgRating(item):\n",
        "#     sum = matrix[:,item].sum()\n",
        "#     n = np.count_nonzero(matrix[:,item])\n",
        "#     return sum/n\n",
        "# def Popularity(r1,r2,uk):\n",
        "#     if (r1>uk and r2>uk) or (r1<uk or r2<uk):\n",
        "#         return (1+(((r1+r2)/2)-uk)**2)\n",
        "#     else:\n",
        "#         return 1\n",
        "# def PIP(r1,r2,item):\n",
        "#     Rm = 3\n",
        "#     Rmin = 1\n",
        "#     Rmax = 5\n",
        "#     proximity = Proximity(r1,r2)\n",
        "#     impact = Impact(r1,r2)\n",
        "#     item_avg= AvgRating(item)\n",
        "#     popularity = Popularity(r1,r2,item_avg)\n",
        "#     return proximity*impact*popularity\n",
        "# def agPIP(u1,u2,matrix):\n",
        "#     sum=0\n",
        "#     for i in range(1682):\n",
        "#         sum+=PIP(matrix[u1,i],matrix[u2,i],i)\n",
        "#     return sum\n",
        "\n"
      ],
      "execution_count": 6,
      "outputs": []
    },
    {
      "cell_type": "code",
      "metadata": {
        "id": "bajqv0n9MQuc"
      },
      "source": [
        "# %time agPIP(1,1,matrix)"
      ],
      "execution_count": 7,
      "outputs": []
    },
    {
      "cell_type": "code",
      "metadata": {
        "id": "69BTUd4vMQuc"
      },
      "source": [
        "# pip = np.zeros((943,943))\n",
        "# for i in range(943):\n",
        "#     for j in range(943):\n",
        "#         if i==j:\n",
        "#             pip[i,j] = 3437235\n",
        "#             break\n",
        "#       #  print(agPIP(i,j,matrix))\n",
        "#         pip[i,j] = agPIP(i,j,matrix)\n",
        "#         pip[j,i] = pip[i,j]\n",
        "    "
      ],
      "execution_count": 8,
      "outputs": []
    },
    {
      "cell_type": "code",
      "metadata": {
        "id": "zLEvndYjMQud"
      },
      "source": [
        "# pip_df = pd.DataFrame(pip)\n",
        "# pip_df.to_csv('pip.csv',sep=',',index=False)"
      ],
      "execution_count": 9,
      "outputs": []
    },
    {
      "cell_type": "code",
      "metadata": {
        "id": "dou5-Jk9MQud"
      },
      "source": [
        "# def PredRating(user,item,similarity):\n",
        "#     try:\n",
        "#         top = similarity[user].argsort()[1:100]\n",
        "#     except IndexError:\n",
        "#         sum,count = 0,0\n",
        "#         for j in range(1682):\n",
        "#             if matrix[user,j] != 0:\n",
        "#                 count+=1\n",
        "#                 sum+=1\n",
        "#         return sum/count\n",
        "#     temp,avgUh,simi = [],[],[]\n",
        "#     for i in top:\n",
        "#         if matrix[i,item] !=0:\n",
        "#             temp.append(i)\n",
        "#             simi.append(similarity[user,i])\n",
        "#     temp.append(user)\n",
        "#     for i in temp:\n",
        "#         sum,count = 0,0\n",
        "#         for j in range(1682):\n",
        "#             if matrix[i,j] != 0:\n",
        "#                 count+=1\n",
        "#                 sum+=matrix[i,j]\n",
        "#         avgUh.append(sum/count)\n",
        "#     avgU = np.nan_to_num(np.array(avgUh.pop()))\n",
        "#     temp.pop()\n",
        "#     if len(temp)==0:\n",
        "#         return avgU\n",
        "#     simi = np.nan_to_num(np.array(simi))\n",
        "#     num = (simi*(avgUh-avgU)).sum()\n",
        "#     den = simi.sum()\n",
        "#     # for i in range(len(temp)):\n",
        "#     #     num+=similarity[user,temp[i]]*avgUh[i]\n",
        "#     #     den+=similarity[user,temp[i]]\n",
        "#     try:\n",
        "#         result = (round((avgU+num/den),0))\n",
        "#     except ZeroDivisionError:\n",
        "#         result = 0\n",
        "#     return result\n",
        "\n"
      ],
      "execution_count": 10,
      "outputs": []
    },
    {
      "cell_type": "code",
      "metadata": {
        "id": "xTU_igp5MQud"
      },
      "source": [
        "# len(test.transpose()[1])"
      ],
      "execution_count": 11,
      "outputs": []
    },
    {
      "cell_type": "code",
      "metadata": {
        "id": "TjVH9MSSMQud"
      },
      "source": [
        "\n",
        "# users = test.transpose()[1]\n",
        "# items = test.transpose()[0]\n",
        "# ratings = test.transpose()[2]\n",
        "# cosinePred,jaccardPred,pearsonPred,pipPred,mpipPred = np.zeros(len(users)),np.zeros(len(users)),np.zeros(len(users)),np.zeros(len(users)),np.zeros(len(users))\n",
        "# user = np.zeros(len(users))\n",
        "# item = np.zeros(len(users))\n",
        "# rating = np.zeros(len(users))\n",
        "# for i in range(len(users)):\n",
        "#     temp = PredRating(int(users[i])-1,int(items[i])-1,cosine)\n",
        "#     jaccardPred[i] = (PredRating(int(users[i])-1,int(items[i])-1,jaccard))\n",
        "#     pearsonPred[i] = (PredRating(int(users[i])-1,int(items[i])-1,pearson))\n",
        "#     pipPred[i] = (PredRating(int(users[i])-1,int(items[i])-1,pip))\n",
        "#     mpipPred[i] = PredRating(int(users[i])-1,int(items[i])-1,mpip)\n",
        "#     cosinePred[i] = (temp)\n",
        "        "
      ],
      "execution_count": 12,
      "outputs": []
    },
    {
      "cell_type": "code",
      "metadata": {
        "id": "rMv-Q7ayMQue"
      },
      "source": [
        "# mpip"
      ],
      "execution_count": 13,
      "outputs": []
    },
    {
      "cell_type": "code",
      "metadata": {
        "id": "FYfNrcKMMQue"
      },
      "source": [
        "# result = pd.DataFrame({'user':users,\n",
        "#                         'item':items,\n",
        "#                         'rating':ratings,\n",
        "#                         'cosine':cosinePred,\n",
        "#                         'jaccard':jaccardPred,\n",
        "#                         'pearson':pearsonPred,\n",
        "#                         'pip':pipPred,\n",
        "#                         'mpip':mpipPred\n",
        "#                         }).fillna(0)"
      ],
      "execution_count": 14,
      "outputs": []
    },
    {
      "cell_type": "code",
      "metadata": {
        "id": "32Y3uO2aMQue"
      },
      "source": [
        "# result.to_csv('rating predictions.csv',sep=',',index=False)\n",
        "# resTrans=result.to_numpy().transpose()\n",
        "# f1_score,mae,recall,precision,rmse = np.zeros(5),np.zeros(5),np.zeros(5),np.zeros(5),np.zeros(5)\n",
        "# resTrans[0]"
      ],
      "execution_count": 15,
      "outputs": []
    },
    {
      "cell_type": "code",
      "metadata": {
        "id": "ug2OpLTRMQue"
      },
      "source": [
        "# resTrans[2]"
      ],
      "execution_count": 16,
      "outputs": []
    },
    {
      "cell_type": "code",
      "metadata": {
        "id": "vujdZsSVMQue"
      },
      "source": [
        "# result.to_csv('result',index=False,sep='\\t')"
      ],
      "execution_count": 17,
      "outputs": []
    },
    {
      "cell_type": "code",
      "metadata": {
        "id": "pI7dHYvnMQue"
      },
      "source": [
        "# import numpy as np\n",
        "# import pandas as pd\n",
        "# import sklearn.metrics as skm\n"
      ],
      "execution_count": 18,
      "outputs": []
    },
    {
      "cell_type": "code",
      "metadata": {
        "id": "UDE2n-kfMQue"
      },
      "source": [
        "# ratings = pd.read_csv('rating predictions.csv',sep=',')"
      ],
      "execution_count": 19,
      "outputs": []
    },
    {
      "cell_type": "code",
      "metadata": {
        "id": "bSovbH6qMQuf"
      },
      "source": [
        "# ratings['user'] = ratings['user'].astype(int)\n",
        "# ratings['item'] = ratings['item'].astype(int)\n",
        "# ratings['rating'] = ratings['rating'].round(decimals=0).astype(int)\n",
        "# ratings['cosine'] = ratings['cosine'].astype(int)\n",
        "# ratings['jaccard'] = ratings['jaccard'].astype(int)\n",
        "# ratings['pearson'] = ratings['pearson'].astype(int)\n",
        "# ratings['pip'] = ratings['pip'].astype(int)\n",
        "# ratings['mpip'] = ratings['mpip'].astype(int)\n"
      ],
      "execution_count": 20,
      "outputs": []
    },
    {
      "cell_type": "code",
      "metadata": {
        "id": "hVUnyBB9MQuf"
      },
      "source": [
        "# ratings"
      ],
      "execution_count": 21,
      "outputs": []
    },
    {
      "cell_type": "code",
      "metadata": {
        "id": "cuWaIaRpMQuf"
      },
      "source": [
        "# count = 0\n",
        "# resTrans = ratings.transpose().to_numpy()\n",
        "# f1_score,mae,rmse,recall,precision = np.zeros(5,dtype=float),np.zeros(5,dtype=float),np.zeros(5,dtype=float),np.zeros(5,dtype=float),np.zeros(5,dtype=float)\n",
        "# for i in range(3,8):\n",
        "#     f1_score[count] = (skm.f1_score(resTrans[2],resTrans[i],average='weighted'))\n",
        "#     mae[count] = (skm.mean_absolute_error(resTrans[2],resTrans[i]))\n",
        "#     rmse[count] = (skm.mean_squared_error(resTrans[2],resTrans[i],squared=True))\n",
        "#     recall[count] = (skm.recall_score(resTrans[2],resTrans[i],average='weighted'))\n",
        "#     precision[count] = (skm.precision_score(resTrans[2],resTrans[i],average='weighted'))\n",
        "#     count+=1"
      ],
      "execution_count": 22,
      "outputs": []
    },
    {
      "cell_type": "code",
      "metadata": {
        "id": "b3jTm94MMQuf"
      },
      "source": [
        "# errors = pd.DataFrame({'mae':mae,'rmse':rmse,'precision':precision,'recall':recall,'f1-score':f1_score})\n",
        "# errors.index = ['cosine','jaccard','pearson','pip','mpip']\n",
        "# errors"
      ],
      "execution_count": 23,
      "outputs": []
    },
    {
      "cell_type": "code",
      "metadata": {
        "id": "ojGm8_AZMQuf"
      },
      "source": [
        "# errors.to_csv('results.csv',sep=',')"
      ],
      "execution_count": 24,
      "outputs": []
    },
    {
      "cell_type": "code",
      "metadata": {
        "id": "WRTxqWPxMQuf"
      },
      "source": [
        "items = pd.read_csv('u.item',delimiter='|',names=[str(i) for i in range(29)],encoding='latin-1')['1'].to_numpy()\n",
        "filterwords = pd.read_csv('offensive word.txt').to_numpy()\n",
        "def top(user,similarity,matrix,items):\n",
        "    topMovies = []\n",
        "    simUsers = similarity[user].argsort()[:5]+1\n",
        "    topMovies = matrix[simUsers[:]].argsort()[:10]\n",
        "    titles = []\n",
        "    years = []\n",
        "    for i in topMovies:\n",
        "        for j in i:\n",
        "            itemsTemp = (str(items[j])).split('(')\n",
        "            titles.append(itemsTemp[0])\n",
        "            years.append(itemsTemp[1].rstrip(')'))\n",
        "            if(len(titles)>20):\n",
        "              break\n",
        "        if(len(titles)>20):\n",
        "              break\n",
        "    years = np.array(years).argsort()\n",
        "    titles = np.array(titles)\n",
        "    titles = titles[years[:]]\n",
        "    for i in range(len(titles)):\n",
        "      temp = str(titles[i]).split()\n",
        "      if temp in filterwords:\n",
        "        titles.pop(index=i)\n",
        "    return titles"
      ],
      "execution_count": 61,
      "outputs": []
    },
    {
      "cell_type": "code",
      "metadata": {
        "colab": {
          "base_uri": "https://localhost:8080/"
        },
        "id": "kV4cXMahMQug",
        "outputId": "8662df82-1a89-48c0-85c6-85fd3d83776d"
      },
      "source": [
        "\n",
        "top(1,cosine,matrix,items)"
      ],
      "execution_count": 62,
      "outputs": [
        {
          "output_type": "execute_result",
          "data": {
            "text/plain": [
              "array(['His Girl Friday ', \"It's a Wonderful Life \", 'Notorious ',\n",
              "       'Band Wagon, The ', 'Sabrina ', 'Around the World in 80 Days ',\n",
              "       'North by Northwest ', 'Apartment, The ', 'Burnt Offerings ',\n",
              "       'Carrie ', 'Red Rock West ', 'Rudy ',\n",
              "       'Carmen Miranda: Bananas Is My Business ', 'Delta of Venus ',\n",
              "       'Loaded ', 'Vanya on 42nd Street ', 'Toy Story ',\n",
              "       'Crude Oasis, The ', 'Pompatus of Love, The ', 'Matilda ',\n",
              "       'Like Water For Chocolate '], dtype='<U39')"
            ]
          },
          "metadata": {
            "tags": []
          },
          "execution_count": 62
        }
      ]
    },
    {
      "cell_type": "code",
      "metadata": {
        "id": "c-QYmYt9MQuh"
      },
      "source": [
        ""
      ],
      "execution_count": null,
      "outputs": []
    }
  ]
}