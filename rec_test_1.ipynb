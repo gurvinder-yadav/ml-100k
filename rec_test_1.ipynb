{
 "metadata": {
  "language_info": {
   "codemirror_mode": {
    "name": "ipython",
    "version": 3
   },
   "file_extension": ".py",
   "mimetype": "text/x-python",
   "name": "python",
   "nbconvert_exporter": "python",
   "pygments_lexer": "ipython3",
   "version": "3.8.10"
  },
  "orig_nbformat": 4,
  "kernelspec": {
   "name": "python3",
   "display_name": "Python 3.8.10 64-bit ('dask-tutorial': conda)"
  },
  "interpreter": {
   "hash": "bb28f2472729520aa5f6be9d3abdc9414e5eb696338c9256de14b25b85abbf35"
  }
 },
 "nbformat": 4,
 "nbformat_minor": 2,
 "cells": [
  {
   "cell_type": "code",
   "execution_count": 6,
   "source": [
    "import pandas as pd \r\n",
    "import numpy as np\r\n",
    "import scipy.stats as stats\r\n",
    "from numba import jit\r\n",
    "import scipy\r\n",
    "from sklearn.metrics import jaccard_score\r\n",
    "import time"
   ],
   "outputs": [],
   "metadata": {}
  },
  {
   "cell_type": "code",
   "execution_count": 8,
   "source": [
    "u_data = pd.read_csv('u.data',names=['userId','itemId','rating','timestamp'],delimiter='\\t')\r\n",
    "u_genre = pd.read_csv('u.genre',names=['genre','genreId'],delimiter='|')\r\n",
    "u_occupation = pd.read_csv('u.occupation',names=['occupation'])\r\n",
    "u_user = pd.read_csv('u.user',names=['userId','age','gender','occupation','zipcode'],delimiter='|')\r\n",
    "#u_item = pd.read_csv('u.item',names=['movieId','movieTitle','releaseDate','videoReleaseDate','IMDbId','unknown','action','adventure','animation','children','comedy','crime','documentary','drama','fantasy','filmNoir','horror','musical','mystery','romance','sciFi','thriller','war','western'],delimiter='|')"
   ],
   "outputs": [],
   "metadata": {}
  },
  {
   "cell_type": "code",
   "execution_count": 9,
   "source": [
    "def split_data_ml100k(data, num_users, num_items, split_mode='random',\r\n",
    "                      test_ratio=0.1):\r\n",
    "    \"\"\"Split the dataset in random mode or seq-aware mode.\"\"\"\r\n",
    "    if split_mode == 'seq-aware':\r\n",
    "        train_items, test_items, train_list = {}, {}, []\r\n",
    "        for line in data.itertuples():\r\n",
    "            u, i, rating, time = line[1], line[2], line[3], line[4]\r\n",
    "            train_items.setdefault(u, []).append((u, i, rating, time))\r\n",
    "            if u not in test_items or test_items[u][-1] < time:\r\n",
    "                test_items[u] = (i, rating, time)\r\n",
    "        for u in range(1, num_users + 1):\r\n",
    "            train_list.extend(sorted(train_items[u], key=lambda k: k[3]))\r\n",
    "        test_data = [(key, *value) for key, value in test_items.items()]\r\n",
    "        train_data = [item for item in train_list if item not in test_data]\r\n",
    "        train_data = pd.DataFrame(train_data)\r\n",
    "        test_data = pd.DataFrame(test_data)\r\n",
    "    else:\r\n",
    "        mask = [\r\n",
    "            True if x == 1 else False\r\n",
    "            for x in np.random.uniform(0, 1, (len(data))) < 1 - test_ratio]\r\n",
    "        neg_mask = [not x for x in mask]\r\n",
    "        train_data, test_data = data[mask], data[neg_mask]\r\n",
    "    return train_data, test_data\r\n",
    "train_data , test_data = split_data_ml100k(u_data,943,1682,test_ratio=0.2)"
   ],
   "outputs": [],
   "metadata": {}
  },
  {
   "cell_type": "code",
   "execution_count": 10,
   "source": [
    "# master_record = pd.merge(u_data,u_user,on='userId')\r\n",
    "# master_record_1 = pd.merge(master_record,u_item,left_on='itemId',right_on='movieId')\r\n",
    "# master_record_1.sort_values(by=['userId','itemId'])"
   ],
   "outputs": [],
   "metadata": {}
  },
  {
   "cell_type": "code",
   "execution_count": 11,
   "source": [
    "matrix = np.zeros((1682,943),dtype=int)\r\n",
    "#u_data = pd.DataFrame(train_data).sort_values(by=[0,1]).to_numpy()\r\n",
    "\r\n",
    "for i in train_data.to_numpy():\r\n",
    "    matrix[i[1]-1][i[0]-1]=float(i[2])\r\n",
    "    #print(i[2])\r\n",
    "rated_unrated_mat = np.zeros((1682,943))\r\n",
    "row_index = 0\r\n",
    "col_index = 0\r\n",
    "for i in matrix:\r\n",
    "    for j in i:\r\n",
    "        if j!=0:\r\n",
    "            rated_unrated_mat[row_index][col_index]=1\r\n",
    "        col_index+=1\r\n",
    "    row_index+=1\r\n",
    "    col_index = 0\r\n",
    "matrix = matrix.transpose()\r\n",
    "matrix.shape"
   ],
   "outputs": [
    {
     "output_type": "execute_result",
     "data": {
      "text/plain": [
       "(943, 1682)"
      ]
     },
     "metadata": {},
     "execution_count": 11
    }
   ],
   "metadata": {
    "tags": []
   }
  },
  {
   "cell_type": "code",
   "execution_count": 7,
   "source": [
    "pearson = np.ones((matrix.shape[0],matrix.shape[0]))\r\n",
    "start = time.time()\r\n",
    "r,p = stats.pearsonr(matrix[2],matrix[1])\r\n",
    "#pearson[0][1] = r\r\n",
    "end = time.time()\r\n",
    "print(end-start)"
   ],
   "outputs": [
    {
     "output_type": "stream",
     "name": "stdout",
     "text": [
      "0.01295018196105957\n"
     ]
    }
   ],
   "metadata": {}
  },
  {
   "cell_type": "code",
   "execution_count": null,
   "source": [
    "\r\n",
    "def coef(matrix):\r\n",
    "    pearson = np.ones((matrix.shape[0],matrix.shape[0]))\r\n",
    "    cosine = np.ones((matrix.shape[0],matrix.shape[0]))\r\n",
    "    jaccard = np.ones((matrix.shape[0],matrix.shape[0]))\r\n",
    "    row = 0\r\n",
    "    for i in matrix:\r\n",
    "        col = 0\r\n",
    "        for j in matrix:\r\n",
    "            #realation = np.corrcoef(i,j)            \r\n",
    "            r,p = stats.pearsonr(i,j)\r\n",
    "            pearson[row,col] = r\r\n",
    "            cosine[row,col] = 1 - scipy.spatial.distance.cosine(i,j)\r\n",
    "            jaccard[row,col] = jaccard_score(i,j,average='macro')\r\n",
    "            col+=1\r\n",
    "        row+=1\r\n",
    "    return pearson,cosine,jaccard"
   ],
   "outputs": [],
   "metadata": {}
  },
  {
   "cell_type": "code",
   "execution_count": null,
   "source": [
    "pearson,cosine,jaccard = coef(matrix)\r\n",
    "# pearson = pd.read_csv('pearson.csv')\r\n",
    "# jaccard = pd.read_csv('jaccard.csv')\r\n",
    "# cosine = pd.read_csv('cosine.csv')"
   ],
   "outputs": [],
   "metadata": {}
  },
  {
   "cell_type": "code",
   "execution_count": null,
   "source": [
    "# with open('pearson.csv','w') as f:\r\n",
    "#     for i in pearson:\r\n",
    "#         for j in i:\r\n",
    "#             f.write(str(j))\r\n",
    "#             f.write(',')\r\n",
    "#         f.write('\\n')\r\n",
    "# with open('cosine.csv','w') as f:\r\n",
    "#     for i in cosine:\r\n",
    "#         for j in i:\r\n",
    "#             f.write(str(j))\r\n",
    "#             f.write(',')\r\n",
    "#         f.write('\\n')\r\n",
    "# with open('jaccard.csv','w') as f:\r\n",
    "#     for i in pearson:\r\n",
    "#         for j in i:\r\n",
    "#             f.write(str(j))\r\n",
    "#             f.write(',')\r\n",
    "#         f.write('\\n')"
   ],
   "outputs": [],
   "metadata": {}
  },
  {
   "cell_type": "code",
   "execution_count": null,
   "source": [
    "# print('enter the user with whom most similar users are to be shown')\r\n",
    "# user = input()\r\n",
    "# users_pearson = pearson[int(user)-1]\r\n",
    "# users_cosine = cosine[int(user)-1]\r\n",
    "# users_jaccard = jaccard[int(user)-1]"
   ],
   "outputs": [],
   "metadata": {}
  },
  {
   "cell_type": "code",
   "execution_count": null,
   "source": [
    "# bestFitUsers_pearson = (-users_pearson).argsort()[:10] +1\r\n",
    "# bestFitUsers_cosine = (-users_cosine).argsort()[:10] +1\r\n",
    "# bestFitUsers_jaccard = (-users_jaccard).argsort()[:10] +1"
   ],
   "outputs": [],
   "metadata": {}
  },
  {
   "cell_type": "code",
   "execution_count": null,
   "source": [
    "# print(\" pearson = \",bestFitUsers_pearson,'\\n',\r\n",
    "#     'cosine similarity',bestFitUsers_cosine,'\\n'\r\n",
    "#     ' jaccard',bestFitUsers_jaccard)"
   ],
   "outputs": [],
   "metadata": {}
  },
  {
   "cell_type": "code",
   "execution_count": null,
   "source": [
    "np_test = test_data.to_numpy()\r\n",
    "np_test.shape"
   ],
   "outputs": [],
   "metadata": {}
  },
  {
   "cell_type": "code",
   "execution_count": null,
   "source": [
    "def rating_predictor(cosine,np_test,matrix,final):\r\n",
    "    index=0\r\n",
    "    for i in np_test:\r\n",
    "        best_fit = (-cosine[i[0]-1]).argsort()[0:100]\r\n",
    "        sum = 0\r\n",
    "        n = 0\r\n",
    "        for j in best_fit:\r\n",
    "            # print(j)\r\n",
    "            # print(i[1])\r\n",
    "            if matrix[j,i[1]-1] != 0:\r\n",
    "                sum+=matrix[j,i[1]-1]\r\n",
    "                n+=1\r\n",
    "        if n==0:\r\n",
    "            for k in matrix[i[0]-1]:\r\n",
    "                sum+=k\r\n",
    "                n+=1\r\n",
    "        # print(i[0],i[1],i[2],i[3])\r\n",
    "        final[index,3]=(sum/n)\r\n",
    "        final[index,0]=i[0]\r\n",
    "        final[index,1]=i[1]\r\n",
    "        final[index,2]=i[2]\r\n",
    "        index+=1"
   ],
   "outputs": [],
   "metadata": {}
  },
  {
   "cell_type": "code",
   "execution_count": null,
   "source": [
    "# with open('prediction.csv','w') as f:\r\n",
    "#     for i in final:\r\n",
    "#         for j in i:\r\n",
    "#             f.write(str(j))\r\n",
    "#             f.write(',')\r\n",
    "#         f.write('\\n')"
   ],
   "outputs": [],
   "metadata": {}
  },
  {
   "cell_type": "code",
   "execution_count": null,
   "source": [
    "final_cos = np.zeros((20010,4),dtype=int)\r\n",
    "rating_predictor(cosine,np_test,matrix,final_cos)\r\n",
    "mae,rmse,n = 0,0,0\r\n",
    "for i in final_cos:\r\n",
    "    mae += abs(i[2]-i[3])\r\n",
    "    rmse += (i[2]-i[3])**2\r\n",
    "    n+=1\r\n",
    "print('mean absolute error = ',mae/n)\r\n",
    "print('root mean square error = ',(rmse/n)**0.5)"
   ],
   "outputs": [],
   "metadata": {}
  },
  {
   "cell_type": "code",
   "execution_count": null,
   "source": [
    "final_jac = np.zeros((20010,4),dtype=int)\r\n",
    "rating_predictor(pearson,np_test,matrix,final_jac)\r\n",
    "mae,rmse,n = 0,0,0\r\n",
    "for i in final_jac:\r\n",
    "    mae += abs(i[2]-i[3])\r\n",
    "    rmse += (i[2]-i[3])**2\r\n",
    "    n+=1\r\n",
    "print('mean absolute error = ',mae/n)\r\n",
    "print('root mean square error = ',(rmse/n)**0.5)"
   ],
   "outputs": [],
   "metadata": {}
  },
  {
   "cell_type": "code",
   "execution_count": null,
   "source": [
    "final_pear = np.zeros((20010,4),dtype=int)\r\n",
    "rating_predictor(jaccard,np_test,matrix,final_pear)\r\n",
    "mae,rmse,n = 0,0,0\r\n",
    "for i in final_pear:\r\n",
    "    mae += abs(i[2]-i[3])\r\n",
    "    rmse += (i[2]-i[3])**2\r\n",
    "    n+=1\r\n",
    "print('mean absolute error = ',mae/n)\r\n",
    "print('root mean square error = ',(rmse/n)**0.5)"
   ],
   "outputs": [],
   "metadata": {}
  },
  {
   "cell_type": "code",
   "execution_count": null,
   "source": [],
   "outputs": [],
   "metadata": {}
  },
  {
   "cell_type": "code",
   "execution_count": 115,
   "source": [
    "matrix = matrix.transpose()\r\n",
    "from dask import delayed\r\n",
    "def cosine_item(r1,r2):\r\n",
    "    p1 = delayed(np.sum)(r1*r2)\r\n",
    "    r1sq = delayed(np.sum)(r1**2)\r\n",
    "    r2sq = delayed(np.sum)(r2**2)\r\n",
    "    den = (r1sq**0.5)*(r2sq**0.5)\r\n",
    "    return p1/den\r\n",
    "def item_based(matrix):\r\n",
    "    sim = np.zeros((1682,1682))\r\n",
    "    row = 0\r\n",
    "    for i in matrix:\r\n",
    "        col = 0\r\n",
    "        for j in matrix:\r\n",
    "            if(i%2==0):\r\n",
    "                sim[i,j] = cosine_item(i,j)\r\n",
    "            else:\r\n",
    "                sim[i,j] = cosine_item(i,j)\r\n",
    "            col+=1\r\n",
    "        row+=1\r\n",
    "\r\n"
   ],
   "outputs": [],
   "metadata": {}
  },
  {
   "cell_type": "code",
   "execution_count": 116,
   "source": [
    "total=delayed(item_based)(matrix)\r\n"
   ],
   "outputs": [],
   "metadata": {}
  },
  {
   "cell_type": "markdown",
   "source": [],
   "metadata": {}
  },
  {
   "cell_type": "code",
   "execution_count": 117,
   "source": [
    "temp = cosine_item(matrix[1],matrix[2])"
   ],
   "outputs": [],
   "metadata": {}
  },
  {
   "cell_type": "code",
   "execution_count": 118,
   "source": [
    "temp.visualize()"
   ],
   "outputs": [
    {
     "output_type": "execute_result",
     "data": {
      "text/plain": [
       "<IPython.core.display.Image object>"
      ],
      "image/png": "[encoded data removed]"
     },
     "metadata": {},
     "execution_count": 118
    }
   ],
   "metadata": {}
  },
  {
   "cell_type": "code",
   "execution_count": 119,
   "source": [
    "total.visualize()"
   ],
   "outputs": [
    {
     "output_type": "execute_result",
     "data": {
      "text/plain": [
       "<IPython.core.display.Image object>"
      ],
      "image/png": "[encoded data removed]"
     },
     "metadata": {},
     "execution_count": 119
    }
   ],
   "metadata": {}
  },
  {
   "cell_type": "code",
   "execution_count": 114,
   "source": [
    "%time total.compute()"
   ],
   "outputs": [
    {
     "output_type": "error",
     "ename": "KeyboardInterrupt",
     "evalue": "",
     "traceback": [
      "\u001b[1;31m---------------------------------------------------------------------------\u001b[0m",
      "\u001b[1;31mKeyboardInterrupt\u001b[0m                         Traceback (most recent call last)",
      "\u001b[1;32m<timed eval>\u001b[0m in \u001b[0;36m<module>\u001b[1;34m\u001b[0m\n",
      "\u001b[1;32m~\\anaconda3\\envs\\dask-tutorial\\lib\\site-packages\\dask\\base.py\u001b[0m in \u001b[0;36mcompute\u001b[1;34m(self, **kwargs)\u001b[0m\n\u001b[0;32m    164\u001b[0m         \u001b[0mdask\u001b[0m\u001b[1;33m.\u001b[0m\u001b[0mbase\u001b[0m\u001b[1;33m.\u001b[0m\u001b[0mcompute\u001b[0m\u001b[1;33m\u001b[0m\u001b[1;33m\u001b[0m\u001b[0m\n\u001b[0;32m    165\u001b[0m         \"\"\"\n\u001b[1;32m--> 166\u001b[1;33m         \u001b[1;33m(\u001b[0m\u001b[0mresult\u001b[0m\u001b[1;33m,\u001b[0m\u001b[1;33m)\u001b[0m \u001b[1;33m=\u001b[0m \u001b[0mcompute\u001b[0m\u001b[1;33m(\u001b[0m\u001b[0mself\u001b[0m\u001b[1;33m,\u001b[0m \u001b[0mtraverse\u001b[0m\u001b[1;33m=\u001b[0m\u001b[1;32mFalse\u001b[0m\u001b[1;33m,\u001b[0m \u001b[1;33m**\u001b[0m\u001b[0mkwargs\u001b[0m\u001b[1;33m)\u001b[0m\u001b[1;33m\u001b[0m\u001b[1;33m\u001b[0m\u001b[0m\n\u001b[0m\u001b[0;32m    167\u001b[0m         \u001b[1;32mreturn\u001b[0m \u001b[0mresult\u001b[0m\u001b[1;33m\u001b[0m\u001b[1;33m\u001b[0m\u001b[0m\n\u001b[0;32m    168\u001b[0m \u001b[1;33m\u001b[0m\u001b[0m\n",
      "\u001b[1;32m~\\anaconda3\\envs\\dask-tutorial\\lib\\site-packages\\dask\\base.py\u001b[0m in \u001b[0;36mcompute\u001b[1;34m(*args, **kwargs)\u001b[0m\n\u001b[0;32m    442\u001b[0m         \u001b[0mpostcomputes\u001b[0m\u001b[1;33m.\u001b[0m\u001b[0mappend\u001b[0m\u001b[1;33m(\u001b[0m\u001b[0mx\u001b[0m\u001b[1;33m.\u001b[0m\u001b[0m__dask_postcompute__\u001b[0m\u001b[1;33m(\u001b[0m\u001b[1;33m)\u001b[0m\u001b[1;33m)\u001b[0m\u001b[1;33m\u001b[0m\u001b[1;33m\u001b[0m\u001b[0m\n\u001b[0;32m    443\u001b[0m \u001b[1;33m\u001b[0m\u001b[0m\n\u001b[1;32m--> 444\u001b[1;33m     \u001b[0mresults\u001b[0m \u001b[1;33m=\u001b[0m \u001b[0mschedule\u001b[0m\u001b[1;33m(\u001b[0m\u001b[0mdsk\u001b[0m\u001b[1;33m,\u001b[0m \u001b[0mkeys\u001b[0m\u001b[1;33m,\u001b[0m \u001b[1;33m**\u001b[0m\u001b[0mkwargs\u001b[0m\u001b[1;33m)\u001b[0m\u001b[1;33m\u001b[0m\u001b[1;33m\u001b[0m\u001b[0m\n\u001b[0m\u001b[0;32m    445\u001b[0m     \u001b[1;32mreturn\u001b[0m \u001b[0mrepack\u001b[0m\u001b[1;33m(\u001b[0m\u001b[1;33m[\u001b[0m\u001b[0mf\u001b[0m\u001b[1;33m(\u001b[0m\u001b[0mr\u001b[0m\u001b[1;33m,\u001b[0m \u001b[1;33m*\u001b[0m\u001b[0ma\u001b[0m\u001b[1;33m)\u001b[0m \u001b[1;32mfor\u001b[0m \u001b[0mr\u001b[0m\u001b[1;33m,\u001b[0m \u001b[1;33m(\u001b[0m\u001b[0mf\u001b[0m\u001b[1;33m,\u001b[0m \u001b[0ma\u001b[0m\u001b[1;33m)\u001b[0m \u001b[1;32min\u001b[0m \u001b[0mzip\u001b[0m\u001b[1;33m(\u001b[0m\u001b[0mresults\u001b[0m\u001b[1;33m,\u001b[0m \u001b[0mpostcomputes\u001b[0m\u001b[1;33m)\u001b[0m\u001b[1;33m]\u001b[0m\u001b[1;33m)\u001b[0m\u001b[1;33m\u001b[0m\u001b[1;33m\u001b[0m\u001b[0m\n\u001b[0;32m    446\u001b[0m \u001b[1;33m\u001b[0m\u001b[0m\n",
      "\u001b[1;32m~\\anaconda3\\envs\\dask-tutorial\\lib\\site-packages\\dask\\threaded.py\u001b[0m in \u001b[0;36mget\u001b[1;34m(dsk, result, cache, num_workers, pool, **kwargs)\u001b[0m\n\u001b[0;32m     74\u001b[0m                 \u001b[0mpools\u001b[0m\u001b[1;33m[\u001b[0m\u001b[0mthread\u001b[0m\u001b[1;33m]\u001b[0m\u001b[1;33m[\u001b[0m\u001b[0mnum_workers\u001b[0m\u001b[1;33m]\u001b[0m \u001b[1;33m=\u001b[0m \u001b[0mpool\u001b[0m\u001b[1;33m\u001b[0m\u001b[1;33m\u001b[0m\u001b[0m\n\u001b[0;32m     75\u001b[0m \u001b[1;33m\u001b[0m\u001b[0m\n\u001b[1;32m---> 76\u001b[1;33m     results = get_async(\n\u001b[0m\u001b[0;32m     77\u001b[0m         \u001b[0mpool\u001b[0m\u001b[1;33m.\u001b[0m\u001b[0mapply_async\u001b[0m\u001b[1;33m,\u001b[0m\u001b[1;33m\u001b[0m\u001b[1;33m\u001b[0m\u001b[0m\n\u001b[0;32m     78\u001b[0m         \u001b[0mlen\u001b[0m\u001b[1;33m(\u001b[0m\u001b[0mpool\u001b[0m\u001b[1;33m.\u001b[0m\u001b[0m_pool\u001b[0m\u001b[1;33m)\u001b[0m\u001b[1;33m,\u001b[0m\u001b[1;33m\u001b[0m\u001b[1;33m\u001b[0m\u001b[0m\n",
      "\u001b[1;32m~\\anaconda3\\envs\\dask-tutorial\\lib\\site-packages\\dask\\local.py\u001b[0m in \u001b[0;36mget_async\u001b[1;34m(apply_async, num_workers, dsk, result, cache, get_id, rerun_exceptions_locally, pack_exception, raise_exception, callbacks, dumps, loads, **kwargs)\u001b[0m\n\u001b[0;32m    473\u001b[0m             \u001b[1;31m# Main loop, wait on tasks to finish, insert new ones\u001b[0m\u001b[1;33m\u001b[0m\u001b[1;33m\u001b[0m\u001b[1;33m\u001b[0m\u001b[0m\n\u001b[0;32m    474\u001b[0m             \u001b[1;32mwhile\u001b[0m \u001b[0mstate\u001b[0m\u001b[1;33m[\u001b[0m\u001b[1;34m\"waiting\"\u001b[0m\u001b[1;33m]\u001b[0m \u001b[1;32mor\u001b[0m \u001b[0mstate\u001b[0m\u001b[1;33m[\u001b[0m\u001b[1;34m\"ready\"\u001b[0m\u001b[1;33m]\u001b[0m \u001b[1;32mor\u001b[0m \u001b[0mstate\u001b[0m\u001b[1;33m[\u001b[0m\u001b[1;34m\"running\"\u001b[0m\u001b[1;33m]\u001b[0m\u001b[1;33m:\u001b[0m\u001b[1;33m\u001b[0m\u001b[1;33m\u001b[0m\u001b[0m\n\u001b[1;32m--> 475\u001b[1;33m                 \u001b[0mkey\u001b[0m\u001b[1;33m,\u001b[0m \u001b[0mres_info\u001b[0m\u001b[1;33m,\u001b[0m \u001b[0mfailed\u001b[0m \u001b[1;33m=\u001b[0m \u001b[0mqueue_get\u001b[0m\u001b[1;33m(\u001b[0m\u001b[0mqueue\u001b[0m\u001b[1;33m)\u001b[0m\u001b[1;33m\u001b[0m\u001b[1;33m\u001b[0m\u001b[0m\n\u001b[0m\u001b[0;32m    476\u001b[0m                 \u001b[1;32mif\u001b[0m \u001b[0mfailed\u001b[0m\u001b[1;33m:\u001b[0m\u001b[1;33m\u001b[0m\u001b[1;33m\u001b[0m\u001b[0m\n\u001b[0;32m    477\u001b[0m                     \u001b[0mexc\u001b[0m\u001b[1;33m,\u001b[0m \u001b[0mtb\u001b[0m \u001b[1;33m=\u001b[0m \u001b[0mloads\u001b[0m\u001b[1;33m(\u001b[0m\u001b[0mres_info\u001b[0m\u001b[1;33m)\u001b[0m\u001b[1;33m\u001b[0m\u001b[1;33m\u001b[0m\u001b[0m\n",
      "\u001b[1;32m~\\anaconda3\\envs\\dask-tutorial\\lib\\site-packages\\dask\\local.py\u001b[0m in \u001b[0;36mqueue_get\u001b[1;34m(q)\u001b[0m\n\u001b[0;32m    123\u001b[0m         \u001b[1;32mwhile\u001b[0m \u001b[1;32mTrue\u001b[0m\u001b[1;33m:\u001b[0m\u001b[1;33m\u001b[0m\u001b[1;33m\u001b[0m\u001b[0m\n\u001b[0;32m    124\u001b[0m             \u001b[1;32mtry\u001b[0m\u001b[1;33m:\u001b[0m\u001b[1;33m\u001b[0m\u001b[1;33m\u001b[0m\u001b[0m\n\u001b[1;32m--> 125\u001b[1;33m                 \u001b[1;32mreturn\u001b[0m \u001b[0mq\u001b[0m\u001b[1;33m.\u001b[0m\u001b[0mget\u001b[0m\u001b[1;33m(\u001b[0m\u001b[0mblock\u001b[0m\u001b[1;33m=\u001b[0m\u001b[1;32mTrue\u001b[0m\u001b[1;33m,\u001b[0m \u001b[0mtimeout\u001b[0m\u001b[1;33m=\u001b[0m\u001b[1;36m0.1\u001b[0m\u001b[1;33m)\u001b[0m\u001b[1;33m\u001b[0m\u001b[1;33m\u001b[0m\u001b[0m\n\u001b[0m\u001b[0;32m    126\u001b[0m             \u001b[1;32mexcept\u001b[0m \u001b[0mEmpty\u001b[0m\u001b[1;33m:\u001b[0m\u001b[1;33m\u001b[0m\u001b[1;33m\u001b[0m\u001b[0m\n\u001b[0;32m    127\u001b[0m                 \u001b[1;32mpass\u001b[0m\u001b[1;33m\u001b[0m\u001b[1;33m\u001b[0m\u001b[0m\n",
      "\u001b[1;32m~\\anaconda3\\envs\\dask-tutorial\\lib\\queue.py\u001b[0m in \u001b[0;36mget\u001b[1;34m(self, block, timeout)\u001b[0m\n\u001b[0;32m    177\u001b[0m                     \u001b[1;32mif\u001b[0m \u001b[0mremaining\u001b[0m \u001b[1;33m<=\u001b[0m \u001b[1;36m0.0\u001b[0m\u001b[1;33m:\u001b[0m\u001b[1;33m\u001b[0m\u001b[1;33m\u001b[0m\u001b[0m\n\u001b[0;32m    178\u001b[0m                         \u001b[1;32mraise\u001b[0m \u001b[0mEmpty\u001b[0m\u001b[1;33m\u001b[0m\u001b[1;33m\u001b[0m\u001b[0m\n\u001b[1;32m--> 179\u001b[1;33m                     \u001b[0mself\u001b[0m\u001b[1;33m.\u001b[0m\u001b[0mnot_empty\u001b[0m\u001b[1;33m.\u001b[0m\u001b[0mwait\u001b[0m\u001b[1;33m(\u001b[0m\u001b[0mremaining\u001b[0m\u001b[1;33m)\u001b[0m\u001b[1;33m\u001b[0m\u001b[1;33m\u001b[0m\u001b[0m\n\u001b[0m\u001b[0;32m    180\u001b[0m             \u001b[0mitem\u001b[0m \u001b[1;33m=\u001b[0m \u001b[0mself\u001b[0m\u001b[1;33m.\u001b[0m\u001b[0m_get\u001b[0m\u001b[1;33m(\u001b[0m\u001b[1;33m)\u001b[0m\u001b[1;33m\u001b[0m\u001b[1;33m\u001b[0m\u001b[0m\n\u001b[0;32m    181\u001b[0m             \u001b[0mself\u001b[0m\u001b[1;33m.\u001b[0m\u001b[0mnot_full\u001b[0m\u001b[1;33m.\u001b[0m\u001b[0mnotify\u001b[0m\u001b[1;33m(\u001b[0m\u001b[1;33m)\u001b[0m\u001b[1;33m\u001b[0m\u001b[1;33m\u001b[0m\u001b[0m\n",
      "\u001b[1;32m~\\anaconda3\\envs\\dask-tutorial\\lib\\threading.py\u001b[0m in \u001b[0;36mwait\u001b[1;34m(self, timeout)\u001b[0m\n\u001b[0;32m    304\u001b[0m             \u001b[1;32melse\u001b[0m\u001b[1;33m:\u001b[0m\u001b[1;33m\u001b[0m\u001b[1;33m\u001b[0m\u001b[0m\n\u001b[0;32m    305\u001b[0m                 \u001b[1;32mif\u001b[0m \u001b[0mtimeout\u001b[0m \u001b[1;33m>\u001b[0m \u001b[1;36m0\u001b[0m\u001b[1;33m:\u001b[0m\u001b[1;33m\u001b[0m\u001b[1;33m\u001b[0m\u001b[0m\n\u001b[1;32m--> 306\u001b[1;33m                     \u001b[0mgotit\u001b[0m \u001b[1;33m=\u001b[0m \u001b[0mwaiter\u001b[0m\u001b[1;33m.\u001b[0m\u001b[0macquire\u001b[0m\u001b[1;33m(\u001b[0m\u001b[1;32mTrue\u001b[0m\u001b[1;33m,\u001b[0m \u001b[0mtimeout\u001b[0m\u001b[1;33m)\u001b[0m\u001b[1;33m\u001b[0m\u001b[1;33m\u001b[0m\u001b[0m\n\u001b[0m\u001b[0;32m    307\u001b[0m                 \u001b[1;32melse\u001b[0m\u001b[1;33m:\u001b[0m\u001b[1;33m\u001b[0m\u001b[1;33m\u001b[0m\u001b[0m\n\u001b[0;32m    308\u001b[0m                     \u001b[0mgotit\u001b[0m \u001b[1;33m=\u001b[0m \u001b[0mwaiter\u001b[0m\u001b[1;33m.\u001b[0m\u001b[0macquire\u001b[0m\u001b[1;33m(\u001b[0m\u001b[1;32mFalse\u001b[0m\u001b[1;33m)\u001b[0m\u001b[1;33m\u001b[0m\u001b[1;33m\u001b[0m\u001b[0m\n",
      "\u001b[1;31mKeyboardInterrupt\u001b[0m: "
     ]
    }
   ],
   "metadata": {}
  },
  {
   "cell_type": "code",
   "execution_count": null,
   "source": [],
   "outputs": [],
   "metadata": {}
  },
  {
   "cell_type": "code",
   "execution_count": null,
   "source": [],
   "outputs": [],
   "metadata": {}
  }
 ]
}