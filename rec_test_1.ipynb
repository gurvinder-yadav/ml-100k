{
 "metadata": {
  "language_info": {
   "codemirror_mode": {
    "name": "ipython",
    "version": 3
   },
   "file_extension": ".py",
   "mimetype": "text/x-python",
   "name": "python",
   "nbconvert_exporter": "python",
   "pygments_lexer": "ipython3",
   "version": "3.8.10"
  },
  "orig_nbformat": 4,
  "kernelspec": {
   "name": "python3",
   "display_name": "Python 3.8.8 64-bit ('base': conda)"
  },
  "interpreter": {
   "hash": "3de2d02b11921545bf1816bc45552ddc366ed99bb60e73ad62fb9cbd6f53e5b0"
  }
 },
 "nbformat": 4,
 "nbformat_minor": 2,
 "cells": [
  {
   "cell_type": "code",
   "execution_count": 1,
   "metadata": {},
   "outputs": [],
   "source": [
    "import pandas as pd \n",
    "import numpy as np\n",
    "import scipy.stats as stats\n",
    "import numba\n",
    "import scipy\n",
    "from sklearn.metrics import jaccard_score"
   ]
  },
  {
   "cell_type": "code",
   "execution_count": 2,
   "metadata": {},
   "outputs": [],
   "source": [
    "u_data = pd.read_csv('u.data',names=['userId','itemId','rating','timestamp'],delimiter='\\t')\n",
    "u_genre = pd.read_csv('u.genre',names=['genre','genreId'],delimiter='|')\n",
    "u_occupation = pd.read_csv('u.occupation',names=['occupation'])\n",
    "u_user = pd.read_csv('u.user',names=['userId','age','gender','occupation','zipcode'],delimiter='|')\n",
    "u_item = pd.read_csv('u.item',names=['movieId','movieTitle','releaseDate','videoReleaseDate','IMDbId','unknown','action','adventure','animation','children','comedy','crime','documentary','drama','fantasy','filmNoir','horror','musical','mystery','romance','sciFi','thriller','war','western'],delimiter='|')"
   ]
  },
  {
   "cell_type": "code",
   "execution_count": 3,
   "metadata": {},
   "outputs": [
    {
     "output_type": "execute_result",
     "data": {
      "text/plain": [
       "       userId  itemId  rating  timestamp\n",
       "0         196     242       3  881250949\n",
       "1         186     302       3  891717742\n",
       "2          22     377       1  878887116\n",
       "3         244      51       2  880606923\n",
       "4         166     346       1  886397596\n",
       "...       ...     ...     ...        ...\n",
       "99995     880     476       3  880175444\n",
       "99996     716     204       5  879795543\n",
       "99997     276    1090       1  874795795\n",
       "99998      13     225       2  882399156\n",
       "99999      12     203       3  879959583\n",
       "\n",
       "[79920 rows x 4 columns]"
      ],
      "text/html": "<div>\n<style scoped>\n    .dataframe tbody tr th:only-of-type {\n        vertical-align: middle;\n    }\n\n    .dataframe tbody tr th {\n        vertical-align: top;\n    }\n\n    .dataframe thead th {\n        text-align: right;\n    }\n</style>\n<table border=\"1\" class=\"dataframe\">\n  <thead>\n    <tr style=\"text-align: right;\">\n      <th></th>\n      <th>userId</th>\n      <th>itemId</th>\n      <th>rating</th>\n      <th>timestamp</th>\n    </tr>\n  </thead>\n  <tbody>\n    <tr>\n      <th>0</th>\n      <td>196</td>\n      <td>242</td>\n      <td>3</td>\n      <td>881250949</td>\n    </tr>\n    <tr>\n      <th>1</th>\n      <td>186</td>\n      <td>302</td>\n      <td>3</td>\n      <td>891717742</td>\n    </tr>\n    <tr>\n      <th>2</th>\n      <td>22</td>\n      <td>377</td>\n      <td>1</td>\n      <td>878887116</td>\n    </tr>\n    <tr>\n      <th>3</th>\n      <td>244</td>\n      <td>51</td>\n      <td>2</td>\n      <td>880606923</td>\n    </tr>\n    <tr>\n      <th>4</th>\n      <td>166</td>\n      <td>346</td>\n      <td>1</td>\n      <td>886397596</td>\n    </tr>\n    <tr>\n      <th>...</th>\n      <td>...</td>\n      <td>...</td>\n      <td>...</td>\n      <td>...</td>\n    </tr>\n    <tr>\n      <th>99995</th>\n      <td>880</td>\n      <td>476</td>\n      <td>3</td>\n      <td>880175444</td>\n    </tr>\n    <tr>\n      <th>99996</th>\n      <td>716</td>\n      <td>204</td>\n      <td>5</td>\n      <td>879795543</td>\n    </tr>\n    <tr>\n      <th>99997</th>\n      <td>276</td>\n      <td>1090</td>\n      <td>1</td>\n      <td>874795795</td>\n    </tr>\n    <tr>\n      <th>99998</th>\n      <td>13</td>\n      <td>225</td>\n      <td>2</td>\n      <td>882399156</td>\n    </tr>\n    <tr>\n      <th>99999</th>\n      <td>12</td>\n      <td>203</td>\n      <td>3</td>\n      <td>879959583</td>\n    </tr>\n  </tbody>\n</table>\n<p>79920 rows × 4 columns</p>\n</div>"
     },
     "metadata": {},
     "execution_count": 3
    }
   ],
   "source": [
    "def split_data_ml100k(data, num_users, num_items, split_mode='random',\n",
    "                      test_ratio=0.1):\n",
    "    \"\"\"Split the dataset in random mode or seq-aware mode.\"\"\"\n",
    "    if split_mode == 'seq-aware':\n",
    "        train_items, test_items, train_list = {}, {}, []\n",
    "        for line in data.itertuples():\n",
    "            u, i, rating, time = line[1], line[2], line[3], line[4]\n",
    "            train_items.setdefault(u, []).append((u, i, rating, time))\n",
    "            if u not in test_items or test_items[u][-1] < time:\n",
    "                test_items[u] = (i, rating, time)\n",
    "        for u in range(1, num_users + 1):\n",
    "            train_list.extend(sorted(train_items[u], key=lambda k: k[3]))\n",
    "        test_data = [(key, *value) for key, value in test_items.items()]\n",
    "        train_data = [item for item in train_list if item not in test_data]\n",
    "        train_data = pd.DataFrame(train_data)\n",
    "        test_data = pd.DataFrame(test_data)\n",
    "    else:\n",
    "        mask = [\n",
    "            True if x == 1 else False\n",
    "            for x in np.random.uniform(0, 1, (len(data))) < 1 - test_ratio]\n",
    "        neg_mask = [not x for x in mask]\n",
    "        train_data, test_data = data[mask], data[neg_mask]\n",
    "    return train_data, test_data\n",
    "train_data , test_data = split_data_ml100k(u_data,943,1682,test_ratio=0.2)\n",
    "train_data"
   ]
  },
  {
   "cell_type": "code",
   "execution_count": 4,
   "metadata": {},
   "outputs": [
    {
     "output_type": "execute_result",
     "data": {
      "text/plain": [
       "       userId  itemId  rating  timestamp  age gender  occupation zipcode  \\\n",
       "50341       1       1       5  874965758   24      M  technician   85711   \n",
       "30753       1       2       3  876893171   24      M  technician   85711   \n",
       "47930       1       3       4  878542960   24      M  technician   85711   \n",
       "32499       1       4       3  876893119   24      M  technician   85711   \n",
       "89376       1       5       3  889751712   24      M  technician   85711   \n",
       "...       ...     ...     ...        ...  ...    ...         ...     ...   \n",
       "64364     943    1067       2  875501756   22      M     student   77841   \n",
       "40854     943    1074       4  888640250   22      M     student   77841   \n",
       "50089     943    1188       3  888640250   22      M     student   77841   \n",
       "83377     943    1228       3  888640275   22      M     student   77841   \n",
       "93741     943    1330       3  888692465   22      M     student   77841   \n",
       "\n",
       "       movieId                            movieTitle  ... fantasy  filmNoir  \\\n",
       "50341        1                      Toy Story (1995)  ...       0         0   \n",
       "30753        2                      GoldenEye (1995)  ...       0         0   \n",
       "47930        3                     Four Rooms (1995)  ...       0         0   \n",
       "32499        4                     Get Shorty (1995)  ...       0         0   \n",
       "89376        5                        Copycat (1995)  ...       0         0   \n",
       "...        ...                                   ...  ...     ...       ...   \n",
       "64364     1067                  Bottle Rocket (1996)  ...       0         0   \n",
       "40854     1074                  Reality Bites (1994)  ...       0         0   \n",
       "50089     1188                  Young Guns II (1990)  ...       0         0   \n",
       "83377     1228  Under Siege 2: Dark Territory (1995)  ...       0         0   \n",
       "93741     1330        An Unforgettable Summer (1994)  ...       0         0   \n",
       "\n",
       "      horror  musical  mystery  romance  sciFi  thriller  war  western  \n",
       "50341      0        0        0        0      0         0    0        0  \n",
       "30753      0        0        0        0      0         1    0        0  \n",
       "47930      0        0        0        0      0         1    0        0  \n",
       "32499      0        0        0        0      0         0    0        0  \n",
       "89376      0        0        0        0      0         1    0        0  \n",
       "...      ...      ...      ...      ...    ...       ...  ...      ...  \n",
       "64364      0        0        0        0      0         0    0        0  \n",
       "40854      0        0        0        0      0         0    0        0  \n",
       "50089      0        0        0        0      0         0    0        1  \n",
       "83377      0        0        0        0      0         0    0        0  \n",
       "93741      0        0        0        0      0         0    0        0  \n",
       "\n",
       "[100000 rows x 32 columns]"
      ],
      "text/html": "<div>\n<style scoped>\n    .dataframe tbody tr th:only-of-type {\n        vertical-align: middle;\n    }\n\n    .dataframe tbody tr th {\n        vertical-align: top;\n    }\n\n    .dataframe thead th {\n        text-align: right;\n    }\n</style>\n<table border=\"1\" class=\"dataframe\">\n  <thead>\n    <tr style=\"text-align: right;\">\n      <th></th>\n      <th>userId</th>\n      <th>itemId</th>\n      <th>rating</th>\n      <th>timestamp</th>\n      <th>age</th>\n      <th>gender</th>\n      <th>occupation</th>\n      <th>zipcode</th>\n      <th>movieId</th>\n      <th>movieTitle</th>\n      <th>...</th>\n      <th>fantasy</th>\n      <th>filmNoir</th>\n      <th>horror</th>\n      <th>musical</th>\n      <th>mystery</th>\n      <th>romance</th>\n      <th>sciFi</th>\n      <th>thriller</th>\n      <th>war</th>\n      <th>western</th>\n    </tr>\n  </thead>\n  <tbody>\n    <tr>\n      <th>50341</th>\n      <td>1</td>\n      <td>1</td>\n      <td>5</td>\n      <td>874965758</td>\n      <td>24</td>\n      <td>M</td>\n      <td>technician</td>\n      <td>85711</td>\n      <td>1</td>\n      <td>Toy Story (1995)</td>\n      <td>...</td>\n      <td>0</td>\n      <td>0</td>\n      <td>0</td>\n      <td>0</td>\n      <td>0</td>\n      <td>0</td>\n      <td>0</td>\n      <td>0</td>\n      <td>0</td>\n      <td>0</td>\n    </tr>\n    <tr>\n      <th>30753</th>\n      <td>1</td>\n      <td>2</td>\n      <td>3</td>\n      <td>876893171</td>\n      <td>24</td>\n      <td>M</td>\n      <td>technician</td>\n      <td>85711</td>\n      <td>2</td>\n      <td>GoldenEye (1995)</td>\n      <td>...</td>\n      <td>0</td>\n      <td>0</td>\n      <td>0</td>\n      <td>0</td>\n      <td>0</td>\n      <td>0</td>\n      <td>0</td>\n      <td>1</td>\n      <td>0</td>\n      <td>0</td>\n    </tr>\n    <tr>\n      <th>47930</th>\n      <td>1</td>\n      <td>3</td>\n      <td>4</td>\n      <td>878542960</td>\n      <td>24</td>\n      <td>M</td>\n      <td>technician</td>\n      <td>85711</td>\n      <td>3</td>\n      <td>Four Rooms (1995)</td>\n      <td>...</td>\n      <td>0</td>\n      <td>0</td>\n      <td>0</td>\n      <td>0</td>\n      <td>0</td>\n      <td>0</td>\n      <td>0</td>\n      <td>1</td>\n      <td>0</td>\n      <td>0</td>\n    </tr>\n    <tr>\n      <th>32499</th>\n      <td>1</td>\n      <td>4</td>\n      <td>3</td>\n      <td>876893119</td>\n      <td>24</td>\n      <td>M</td>\n      <td>technician</td>\n      <td>85711</td>\n      <td>4</td>\n      <td>Get Shorty (1995)</td>\n      <td>...</td>\n      <td>0</td>\n      <td>0</td>\n      <td>0</td>\n      <td>0</td>\n      <td>0</td>\n      <td>0</td>\n      <td>0</td>\n      <td>0</td>\n      <td>0</td>\n      <td>0</td>\n    </tr>\n    <tr>\n      <th>89376</th>\n      <td>1</td>\n      <td>5</td>\n      <td>3</td>\n      <td>889751712</td>\n      <td>24</td>\n      <td>M</td>\n      <td>technician</td>\n      <td>85711</td>\n      <td>5</td>\n      <td>Copycat (1995)</td>\n      <td>...</td>\n      <td>0</td>\n      <td>0</td>\n      <td>0</td>\n      <td>0</td>\n      <td>0</td>\n      <td>0</td>\n      <td>0</td>\n      <td>1</td>\n      <td>0</td>\n      <td>0</td>\n    </tr>\n    <tr>\n      <th>...</th>\n      <td>...</td>\n      <td>...</td>\n      <td>...</td>\n      <td>...</td>\n      <td>...</td>\n      <td>...</td>\n      <td>...</td>\n      <td>...</td>\n      <td>...</td>\n      <td>...</td>\n      <td>...</td>\n      <td>...</td>\n      <td>...</td>\n      <td>...</td>\n      <td>...</td>\n      <td>...</td>\n      <td>...</td>\n      <td>...</td>\n      <td>...</td>\n      <td>...</td>\n      <td>...</td>\n    </tr>\n    <tr>\n      <th>64364</th>\n      <td>943</td>\n      <td>1067</td>\n      <td>2</td>\n      <td>875501756</td>\n      <td>22</td>\n      <td>M</td>\n      <td>student</td>\n      <td>77841</td>\n      <td>1067</td>\n      <td>Bottle Rocket (1996)</td>\n      <td>...</td>\n      <td>0</td>\n      <td>0</td>\n      <td>0</td>\n      <td>0</td>\n      <td>0</td>\n      <td>0</td>\n      <td>0</td>\n      <td>0</td>\n      <td>0</td>\n      <td>0</td>\n    </tr>\n    <tr>\n      <th>40854</th>\n      <td>943</td>\n      <td>1074</td>\n      <td>4</td>\n      <td>888640250</td>\n      <td>22</td>\n      <td>M</td>\n      <td>student</td>\n      <td>77841</td>\n      <td>1074</td>\n      <td>Reality Bites (1994)</td>\n      <td>...</td>\n      <td>0</td>\n      <td>0</td>\n      <td>0</td>\n      <td>0</td>\n      <td>0</td>\n      <td>0</td>\n      <td>0</td>\n      <td>0</td>\n      <td>0</td>\n      <td>0</td>\n    </tr>\n    <tr>\n      <th>50089</th>\n      <td>943</td>\n      <td>1188</td>\n      <td>3</td>\n      <td>888640250</td>\n      <td>22</td>\n      <td>M</td>\n      <td>student</td>\n      <td>77841</td>\n      <td>1188</td>\n      <td>Young Guns II (1990)</td>\n      <td>...</td>\n      <td>0</td>\n      <td>0</td>\n      <td>0</td>\n      <td>0</td>\n      <td>0</td>\n      <td>0</td>\n      <td>0</td>\n      <td>0</td>\n      <td>0</td>\n      <td>1</td>\n    </tr>\n    <tr>\n      <th>83377</th>\n      <td>943</td>\n      <td>1228</td>\n      <td>3</td>\n      <td>888640275</td>\n      <td>22</td>\n      <td>M</td>\n      <td>student</td>\n      <td>77841</td>\n      <td>1228</td>\n      <td>Under Siege 2: Dark Territory (1995)</td>\n      <td>...</td>\n      <td>0</td>\n      <td>0</td>\n      <td>0</td>\n      <td>0</td>\n      <td>0</td>\n      <td>0</td>\n      <td>0</td>\n      <td>0</td>\n      <td>0</td>\n      <td>0</td>\n    </tr>\n    <tr>\n      <th>93741</th>\n      <td>943</td>\n      <td>1330</td>\n      <td>3</td>\n      <td>888692465</td>\n      <td>22</td>\n      <td>M</td>\n      <td>student</td>\n      <td>77841</td>\n      <td>1330</td>\n      <td>An Unforgettable Summer (1994)</td>\n      <td>...</td>\n      <td>0</td>\n      <td>0</td>\n      <td>0</td>\n      <td>0</td>\n      <td>0</td>\n      <td>0</td>\n      <td>0</td>\n      <td>0</td>\n      <td>0</td>\n      <td>0</td>\n    </tr>\n  </tbody>\n</table>\n<p>100000 rows × 32 columns</p>\n</div>"
     },
     "metadata": {},
     "execution_count": 4
    }
   ],
   "source": [
    "master_record = pd.merge(u_data,u_user,on='userId')\n",
    "master_record_1 = pd.merge(master_record,u_item,left_on='itemId',right_on='movieId')\n",
    "master_record_1.sort_values(by=['userId','itemId'])"
   ]
  },
  {
   "cell_type": "code",
   "execution_count": 5,
   "metadata": {
    "tags": []
   },
   "outputs": [
    {
     "output_type": "execute_result",
     "data": {
      "text/plain": [
       "(943, 1682)"
      ]
     },
     "metadata": {},
     "execution_count": 5
    }
   ],
   "source": [
    "matrix = np.zeros((1682,943))\n",
    "#u_data = pd.DataFrame(train_data).sort_values(by=[0,1]).to_numpy()\n",
    "\n",
    "for i in train_data.to_numpy():\n",
    "    matrix[i[1]-1][i[0]-1]=float(i[2])\n",
    "    #print(i[2])\n",
    "rated_unrated_mat = np.zeros((1682,943))\n",
    "row_index = 0\n",
    "col_index = 0\n",
    "for i in matrix:\n",
    "    for j in i:\n",
    "        if j!=0:\n",
    "            rated_unrated_mat[row_index][col_index]=1\n",
    "        col_index+=1\n",
    "    row_index+=1\n",
    "    col_index = 0\n",
    "matrix = matrix.transpose()\n",
    "matrix.shape"
   ]
  },
  {
   "cell_type": "code",
   "execution_count": 14,
   "metadata": {},
   "outputs": [],
   "source": [
    "\n",
    "def coef(matrix):\n",
    "    pearson = np.ones((matrix.shape[0],matrix.shape[0]))\n",
    "    cosine = np.ones((matrix.shape[0],matrix.shape[0]))\n",
    "    jaccard = np.ones((matrix.shape[0],matrix.shape[0]))\n",
    "    row = 0\n",
    "    for i in matrix:\n",
    "        col = 0\n",
    "        for j in matrix:\n",
    "            #realation = np.corrcoef(i,j)\n",
    "            r,p = stats.pearsonr(i,j)\n",
    "            pearson[row,col] = r\n",
    "            cosine[row,col] = 1 - scipy.spatial.distance.cosine(i,j)\n",
    "            jaccard[row,col] = jaccard_score(i,j,average='macro')\n",
    "            col+=1\n",
    "        row+=1\n",
    "    return pearson,cosine,jaccard"
   ]
  },
  {
   "cell_type": "code",
   "execution_count": 15,
   "metadata": {},
   "outputs": [],
   "source": [
    "pearson,cosine,jaccard = coef(matrix)"
   ]
  },
  {
   "cell_type": "code",
   "execution_count": 40,
   "metadata": {},
   "outputs": [],
   "source": [
    "with open('pearson.csv','w') as f:\n",
    "    for i in pearson:\n",
    "        for j in i:\n",
    "            f.write(str(j))\n",
    "            f.write(',')\n",
    "with open('cosine.csv','w') as f:\n",
    "    for i in cosine:\n",
    "        for j in i:\n",
    "            f.write(str(j))\n",
    "            f.write(',')\n",
    "with open('jaccard.csv','w') as f:\n",
    "    for i in pearson:\n",
    "        for j in i:\n",
    "            f.write(str(j))\n",
    "            f.write(',')"
   ]
  },
  {
   "cell_type": "code",
   "execution_count": 28,
   "metadata": {},
   "outputs": [
    {
     "output_type": "stream",
     "name": "stdout",
     "text": [
      "enter the user with whom most similar users are to be shown\n"
     ]
    }
   ],
   "source": [
    "print('enter the user with whom most similar users are to be shown')\n",
    "user = input()\n",
    "users_pearson = pearson[int(user)-1]\n",
    "users_cosine = cosine[int(user)-1]\n",
    "users_jaccard = jaccard[int(user)-1]"
   ]
  },
  {
   "cell_type": "code",
   "execution_count": 29,
   "metadata": {},
   "outputs": [],
   "source": [
    "bestFitUsers_pearson = (-users_pearson).argsort()[:10] +1\n",
    "bestFitUsers_cosine = (-users_cosine).argsort()[:10] +1\n",
    "bestFitUsers_jaccard = (-users_jaccard).argsort()[:10] +1"
   ]
  },
  {
   "cell_type": "code",
   "execution_count": 30,
   "metadata": {},
   "outputs": [
    {
     "output_type": "stream",
     "name": "stdout",
     "text": [
      " pearson =  [  5 648 545 307  22 922  44 660 738  70] \n cosine similarity [  5 648 545 660  44 307  22 922 407 738] \n jaccard [  5  70 545  28 746 307  22 847 933 727]\n"
     ]
    }
   ],
   "source": [
    "print(\" pearson = \",bestFitUsers_pearson,'\\n',\n",
    "    'cosine similarity',bestFitUsers_cosine,'\\n'\n",
    "    ' jaccard',bestFitUsers_jaccard)"
   ]
  },
  {
   "cell_type": "code",
   "execution_count": 31,
   "metadata": {},
   "outputs": [
    {
     "output_type": "stream",
     "name": "stdout",
     "text": [
      "5\n648\n545\n660\n44\n307\n22\n922\n407\n738\n"
     ]
    }
   ],
   "source": []
  },
  {
   "cell_type": "code",
   "execution_count": null,
   "metadata": {},
   "outputs": [],
   "source": []
  }
 ]
}