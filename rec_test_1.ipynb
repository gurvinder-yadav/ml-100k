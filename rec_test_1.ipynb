{
 "metadata": {
  "language_info": {
   "codemirror_mode": {
    "name": "ipython",
    "version": 3
   },
   "file_extension": ".py",
   "mimetype": "text/x-python",
   "name": "python",
   "nbconvert_exporter": "python",
   "pygments_lexer": "ipython3",
   "version": "3.8.8"
  },
  "orig_nbformat": 4,
  "kernelspec": {
   "name": "python3",
   "display_name": "Python 3.8.8 64-bit ('base': conda)"
  },
  "interpreter": {
   "hash": "13eb042686c59d5277c9538bf70a17f9b47295d55c76e0e5ec7181df9397203d"
  }
 },
 "nbformat": 4,
 "nbformat_minor": 2,
 "cells": [
  {
   "cell_type": "code",
   "execution_count": 1,
   "metadata": {},
   "outputs": [],
   "source": [
    "import pandas as pd \n",
    "import numpy as np"
   ]
  },
  {
   "cell_type": "code",
   "execution_count": 2,
   "metadata": {},
   "outputs": [],
   "source": [
    "u_data = pd.read_csv('u.data',delimiter='\\t',names=['userId','movieId','rating','timestamp'])\n",
    "u_data_sorted = u_data.sort_values(['userId','movieId'])\n",
    "matrix = np.zeros((1682,943),dtype=int)\n",
    "u_data_sorted_array = u_data_sorted.to_numpy()\n",
    "for i in u_data_sorted_array:\n",
    "    if i[2]!='NaN' and i[2]!=None:\n",
    "        matrix[i[1]-1][i[0]-1]=i[2]"
   ]
  },
  {
   "cell_type": "code",
   "execution_count": 3,
   "metadata": {},
   "outputs": [],
   "source": [
    "def jacc(l1,l2):\n",
    "    intersection = len(list(set(l1).intersection(l2)))\n",
    "    union = (len(l1)+len(l2))-intersection\n",
    "    return float (intersection/union)\n",
    "def cos(l1,l2):\n",
    "    xy = [l1[i]*l2[i] for i in range(1682)]\n",
    "    l1 = [l1[i]*l1[i] for i in range(1682)]\n",
    "    l2 = [l2[i]*l2[i] for i in range(1682)]\n",
    "    return float (sum(xy)/(((sum(l1))**(0.5))*((sum(l2))**(0.5))))\n",
    "def coeff(l1,l2):\n",
    "    l1_mean = statistics.mean(l1)\n",
    "    l2_mean = statistics.mean(l2)\n",
    "    xy = [(l1[i]-l1_mean)*(l2[i]-l2_mean) for i in range(6)]\n",
    "    l1 = [(l1[i]-l1_mean)**2 for i in range(6)]\n",
    "    l2 = [(l2[i]-l2_mean)**2 for i in range(6)]\n",
    "    denominator = (sum(l1)**(0.5))*(sum(l2)**0.5)\n",
    "    numerator = sum(xy)\n",
    "    return float (numerator/denominator)"
   ]
  },
  {
   "cell_type": "code",
   "execution_count": 8,
   "metadata": {},
   "outputs": [
    {
     "output_type": "stream",
     "name": "stdout",
     "text": [
      "(943, 1682)\n"
     ]
    }
   ],
   "source": [
    "trans_mat = matrix.transpose()\n",
    "print(trans_mat.shape)\n"
   ]
  },
  {
   "cell_type": "code",
   "execution_count": 5,
   "metadata": {},
   "outputs": [
    {
     "output_type": "error",
     "ename": "IndexError",
     "evalue": "index 943 is out of bounds for axis 0 with size 943",
     "traceback": [
      "\u001b[1;31m---------------------------------------------------------------------------\u001b[0m",
      "\u001b[1;31mIndexError\u001b[0m                                Traceback (most recent call last)",
      "\u001b[1;32m<ipython-input-5-a158dc5a4656>\u001b[0m in \u001b[0;36m<module>\u001b[1;34m\u001b[0m\n\u001b[0;32m      4\u001b[0m \u001b[1;32mfor\u001b[0m \u001b[0mi\u001b[0m \u001b[1;32min\u001b[0m \u001b[0mtrans_mat\u001b[0m\u001b[1;33m:\u001b[0m\u001b[1;33m\u001b[0m\u001b[1;33m\u001b[0m\u001b[0m\n\u001b[0;32m      5\u001b[0m     \u001b[1;32mfor\u001b[0m \u001b[0mj\u001b[0m \u001b[1;32min\u001b[0m \u001b[0mtrans_mat\u001b[0m\u001b[1;33m:\u001b[0m\u001b[1;33m\u001b[0m\u001b[1;33m\u001b[0m\u001b[0m\n\u001b[1;32m----> 6\u001b[1;33m         \u001b[0mcosine_matrix\u001b[0m\u001b[1;33m[\u001b[0m\u001b[0mindex_row\u001b[0m\u001b[1;33m]\u001b[0m\u001b[1;33m[\u001b[0m\u001b[0mindex_col\u001b[0m\u001b[1;33m]\u001b[0m\u001b[1;33m=\u001b[0m\u001b[0mcos\u001b[0m\u001b[1;33m(\u001b[0m\u001b[0mi\u001b[0m\u001b[1;33m,\u001b[0m\u001b[0mj\u001b[0m\u001b[1;33m)\u001b[0m\u001b[1;33m\u001b[0m\u001b[1;33m\u001b[0m\u001b[0m\n\u001b[0m\u001b[0;32m      7\u001b[0m         \u001b[0mindex_col\u001b[0m\u001b[1;33m+=\u001b[0m\u001b[1;36m1\u001b[0m\u001b[1;33m\u001b[0m\u001b[1;33m\u001b[0m\u001b[0m\n\u001b[0;32m      8\u001b[0m         \u001b[1;32mif\u001b[0m \u001b[0mindex_col\u001b[0m\u001b[1;33m>\u001b[0m\u001b[1;36m942\u001b[0m\u001b[1;33m:\u001b[0m\u001b[1;33m\u001b[0m\u001b[1;33m\u001b[0m\u001b[0m\n",
      "\u001b[1;31mIndexError\u001b[0m: index 943 is out of bounds for axis 0 with size 943"
     ]
    }
   ],
   "source": [
    "cosine_matrix = np.zeros((943,943),dtype=float)\n",
    "index_row = 0\n",
    "index_col = 0\n",
    "for i in trans_mat:\n",
    "    for j in trans_mat:\n",
    "        cosine_matrix[index_row][index_col]=cos(i,j)\n",
    "        index_col+=1\n",
    "        if index_col>942:\n",
    "            break\n",
    "    index_row+=1\n",
    "    if index_row>942:\n",
    "        break"
   ]
  },
  {
   "cell_type": "code",
   "execution_count": null,
   "metadata": {},
   "outputs": [],
   "source": []
  }
 ]
}