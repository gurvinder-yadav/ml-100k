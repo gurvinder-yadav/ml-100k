{
 "metadata": {
  "language_info": {
   "codemirror_mode": {
    "name": "ipython",
    "version": 3
   },
   "file_extension": ".py",
   "mimetype": "text/x-python",
   "name": "python",
   "nbconvert_exporter": "python",
   "pygments_lexer": "ipython3",
   "version": "3.8.10"
  },
  "orig_nbformat": 4,
  "kernelspec": {
   "name": "python3",
   "display_name": "Python 3.8.10 64-bit ('base': conda)"
  },
  "interpreter": {
   "hash": "3de2d02b11921545bf1816bc45552ddc366ed99bb60e73ad62fb9cbd6f53e5b0"
  }
 },
 "nbformat": 4,
 "nbformat_minor": 2,
 "cells": [
  {
   "cell_type": "code",
   "execution_count": 2,
   "metadata": {},
   "outputs": [],
   "source": [
    "import pandas as pd \n",
    "import numpy as np\n",
    "import scipy.stats as stats\n",
    "import numba\n",
    "import scipy\n",
    "from sklearn.metrics import jaccard_score\n",
    "import time"
   ]
  },
  {
   "cell_type": "code",
   "execution_count": 3,
   "metadata": {},
   "outputs": [],
   "source": [
    "u_data = pd.read_csv('u.data',names=['userId','itemId','rating','timestamp'],delimiter='\\t')\n",
    "u_genre = pd.read_csv('u.genre',names=['genre','genreId'],delimiter='|')\n",
    "u_occupation = pd.read_csv('u.occupation',names=['occupation'])\n",
    "u_user = pd.read_csv('u.user',names=['userId','age','gender','occupation','zipcode'],delimiter='|')\n",
    "u_item = pd.read_csv('u.item',names=['movieId','movieTitle','releaseDate','videoReleaseDate','IMDbId','unknown','action','adventure','animation','children','comedy','crime','documentary','drama','fantasy','filmNoir','horror','musical','mystery','romance','sciFi','thriller','war','western'],delimiter='|')"
   ]
  },
  {
   "cell_type": "code",
   "execution_count": 4,
   "metadata": {},
   "outputs": [],
   "source": [
    "def split_data_ml100k(data, num_users, num_items, split_mode='random',\n",
    "                      test_ratio=0.1):\n",
    "    \"\"\"Split the dataset in random mode or seq-aware mode.\"\"\"\n",
    "    if split_mode == 'seq-aware':\n",
    "        train_items, test_items, train_list = {}, {}, []\n",
    "        for line in data.itertuples():\n",
    "            u, i, rating, time = line[1], line[2], line[3], line[4]\n",
    "            train_items.setdefault(u, []).append((u, i, rating, time))\n",
    "            if u not in test_items or test_items[u][-1] < time:\n",
    "                test_items[u] = (i, rating, time)\n",
    "        for u in range(1, num_users + 1):\n",
    "            train_list.extend(sorted(train_items[u], key=lambda k: k[3]))\n",
    "        test_data = [(key, *value) for key, value in test_items.items()]\n",
    "        train_data = [item for item in train_list if item not in test_data]\n",
    "        train_data = pd.DataFrame(train_data)\n",
    "        test_data = pd.DataFrame(test_data)\n",
    "    else:\n",
    "        mask = [\n",
    "            True if x == 1 else False\n",
    "            for x in np.random.uniform(0, 1, (len(data))) < 1 - test_ratio]\n",
    "        neg_mask = [not x for x in mask]\n",
    "        train_data, test_data = data[mask], data[neg_mask]\n",
    "    return train_data, test_data\n",
    "train_data , test_data = split_data_ml100k(u_data,943,1682,test_ratio=0.2)"
   ]
  },
  {
   "cell_type": "code",
   "execution_count": 5,
   "metadata": {},
   "outputs": [],
   "source": [
    "# master_record = pd.merge(u_data,u_user,on='userId')\n",
    "# master_record_1 = pd.merge(master_record,u_item,left_on='itemId',right_on='movieId')\n",
    "# master_record_1.sort_values(by=['userId','itemId'])"
   ]
  },
  {
   "cell_type": "code",
   "execution_count": 6,
   "metadata": {
    "tags": []
   },
   "outputs": [
    {
     "output_type": "execute_result",
     "data": {
      "text/plain": [
       "(943, 1682)"
      ]
     },
     "metadata": {},
     "execution_count": 6
    }
   ],
   "source": [
    "matrix = np.zeros((1682,943))\n",
    "#u_data = pd.DataFrame(train_data).sort_values(by=[0,1]).to_numpy()\n",
    "\n",
    "for i in train_data.to_numpy():\n",
    "    matrix[i[1]-1][i[0]-1]=float(i[2])\n",
    "    #print(i[2])\n",
    "rated_unrated_mat = np.zeros((1682,943))\n",
    "row_index = 0\n",
    "col_index = 0\n",
    "for i in matrix:\n",
    "    for j in i:\n",
    "        if j!=0:\n",
    "            rated_unrated_mat[row_index][col_index]=1\n",
    "        col_index+=1\n",
    "    row_index+=1\n",
    "    col_index = 0\n",
    "matrix = matrix.transpose()\n",
    "matrix.shape"
   ]
  },
  {
   "cell_type": "code",
   "execution_count": 7,
   "metadata": {},
   "outputs": [
    {
     "output_type": "stream",
     "name": "stdout",
     "text": [
      "0.0\n"
     ]
    }
   ],
   "source": [
    "pearson = np.ones((matrix.shape[0],matrix.shape[0]))\n",
    "start = time.time()\n",
    "r,p = stats.pearsonr(matrix[2],matrix[1])\n",
    "#pearson[0][1] = r\n",
    "end = time.time()\n",
    "print(end-start)"
   ]
  },
  {
   "source": [
    "\n",
    "def coef(matrix):\n",
    "    pearson = np.ones((matrix.shape[0],matrix.shape[0]))\n",
    "    cosine = np.ones((matrix.shape[0],matrix.shape[0]))\n",
    "    jaccard = np.ones((matrix.shape[0],matrix.shape[0]))\n",
    "    row = 0\n",
    "    for i in matrix:\n",
    "        col = 0\n",
    "        for j in matrix:\n",
    "            #realation = np.corrcoef(i,j)            \n",
    "            r,p = stats.pearsonr(i,j)\n",
    "            pearson[row,col] = r\n",
    "            cosine[row,col] = 1 - scipy.spatial.distance.cosine(i,j)\n",
    "            jaccard[row,col] = jaccard_score(i,j,average='macro')\n",
    "            col+=1\n",
    "        row+=1\n",
    "    return pearson,cosine,jaccard"
   ],
   "cell_type": "code",
   "metadata": {},
   "execution_count": 8,
   "outputs": []
  },
  {
   "cell_type": "code",
   "execution_count": 14,
   "metadata": {},
   "outputs": [],
   "source": [
    "pearson,cosine,jaccard = coef(matrix)\n",
    "# pearson = pd.read_csv('pearson.csv')\n",
    "# jaccard = pd.read_csv('jaccard.csv')\n",
    "# cosine = pd.read_csv('cosine.csv')"
   ]
  },
  {
   "cell_type": "code",
   "execution_count": 65,
   "metadata": {},
   "outputs": [],
   "source": [
    "# with open('pearson.csv','w') as f:\n",
    "#     for i in pearson:\n",
    "#         for j in i:\n",
    "#             f.write(str(j))\n",
    "#             f.write(',')\n",
    "#         f.write('\\n')\n",
    "# with open('cosine.csv','w') as f:\n",
    "#     for i in cosine:\n",
    "#         for j in i:\n",
    "#             f.write(str(j))\n",
    "#             f.write(',')\n",
    "#         f.write('\\n')\n",
    "# with open('jaccard.csv','w') as f:\n",
    "#     for i in pearson:\n",
    "#         for j in i:\n",
    "#             f.write(str(j))\n",
    "#             f.write(',')\n",
    "#         f.write('\\n')"
   ]
  },
  {
   "cell_type": "code",
   "execution_count": 18,
   "metadata": {},
   "outputs": [],
   "source": [
    "# print('enter the user with whom most similar users are to be shown')\n",
    "# user = input()\n",
    "# users_pearson = pearson[int(user)-1]\n",
    "# users_cosine = cosine[int(user)-1]\n",
    "# users_jaccard = jaccard[int(user)-1]"
   ]
  },
  {
   "cell_type": "code",
   "execution_count": 19,
   "metadata": {},
   "outputs": [],
   "source": [
    "# bestFitUsers_pearson = (-users_pearson).argsort()[:10] +1\n",
    "# bestFitUsers_cosine = (-users_cosine).argsort()[:10] +1\n",
    "# bestFitUsers_jaccard = (-users_jaccard).argsort()[:10] +1"
   ]
  },
  {
   "cell_type": "code",
   "execution_count": 20,
   "metadata": {},
   "outputs": [],
   "source": [
    "# print(\" pearson = \",bestFitUsers_pearson,'\\n',\n",
    "#     'cosine similarity',bestFitUsers_cosine,'\\n'\n",
    "#     ' jaccard',bestFitUsers_jaccard)"
   ]
  },
  {
   "cell_type": "code",
   "execution_count": 15,
   "metadata": {},
   "outputs": [
    {
     "output_type": "execute_result",
     "data": {
      "text/plain": [
       "(19991, 4)"
      ]
     },
     "metadata": {},
     "execution_count": 15
    }
   ],
   "source": [
    "np_test = test_data.to_numpy()\n",
    "np_test.shape"
   ]
  },
  {
   "cell_type": "code",
   "execution_count": 30,
   "metadata": {},
   "outputs": [],
   "source": [
    "def rating_predictor(cosine,np_test,matrix,final):\n",
    "    index=0\n",
    "    for i in np_test:\n",
    "        best_fit = (-cosine[i[0]-1]).argsort()[0:100]\n",
    "        sum = 0\n",
    "        n = 0\n",
    "        for j in best_fit:\n",
    "            # print(j)\n",
    "            # print(i[1])\n",
    "            if matrix[j,i[1]-1] != 0:\n",
    "                sum+=matrix[j,i[1]-1]\n",
    "                n+=1\n",
    "        if n==0:\n",
    "            for k in matrix[i[0]-1]:\n",
    "                sum+=k\n",
    "                n+=1\n",
    "        # print(i[0],i[1],i[2],i[3])\n",
    "        final[index,3]=(sum/n)\n",
    "        final[index,0]=i[0]\n",
    "        final[index,1]=i[1]\n",
    "        final[index,2]=i[2]\n",
    "        index+=1"
   ]
  },
  {
   "cell_type": "code",
   "execution_count": 32,
   "metadata": {},
   "outputs": [],
   "source": [
    "# with open('prediction.csv','w') as f:\n",
    "#     for i in final:\n",
    "#         for j in i:\n",
    "#             f.write(str(j))\n",
    "#             f.write(',')\n",
    "#         f.write('\\n')"
   ]
  },
  {
   "cell_type": "code",
   "execution_count": 38,
   "metadata": {},
   "outputs": [
    {
     "output_type": "stream",
     "name": "stdout",
     "text": [
      "mean absolute error =  0.9172913543228386\nroot mean square error =  1.1907313212728847\n"
     ]
    }
   ],
   "source": [
    "final_cos = np.zeros((20010,4),dtype=int)\n",
    "rating_predictor(cosine,np_test,matrix,final_cos)\n",
    "mae,rmse,n = 0,0,0\n",
    "for i in final_cos:\n",
    "    mae += abs(i[2]-i[3])\n",
    "    rmse += (i[2]-i[3])**2\n",
    "    n+=1\n",
    "print('mean absolute error = ',mae/n)\n",
    "print('root mean square error = ',(rmse/n)**0.5)"
   ]
  },
  {
   "cell_type": "code",
   "execution_count": 39,
   "metadata": {},
   "outputs": [
    {
     "output_type": "stream",
     "name": "stdout",
     "text": [
      "mean absolute error =  0.9190904547726136\nroot mean square error =  1.1997625952068898\n"
     ]
    }
   ],
   "source": [
    "final_jac = np.zeros((20010,4),dtype=int)\n",
    "rating_predictor(pearson,np_test,matrix,final_jac)\n",
    "mae,rmse,n = 0,0,0\n",
    "for i in final_jac:\n",
    "    mae += abs(i[2]-i[3])\n",
    "    rmse += (i[2]-i[3])**2\n",
    "    n+=1\n",
    "print('mean absolute error = ',mae/n)\n",
    "print('root mean square error = ',(rmse/n)**0.5)"
   ]
  },
  {
   "cell_type": "code",
   "execution_count": 40,
   "metadata": {},
   "outputs": [
    {
     "output_type": "stream",
     "name": "stdout",
     "text": [
      "mean absolute error =  0.9006996501749125\nroot mean square error =  1.2024670625350864\n"
     ]
    }
   ],
   "source": [
    "final_pear = np.zeros((20010,4),dtype=int)\n",
    "rating_predictor(jaccard,np_test,matrix,final_pear)\n",
    "mae,rmse,n = 0,0,0\n",
    "for i in final_pear:\n",
    "    mae += abs(i[2]-i[3])\n",
    "    rmse += (i[2]-i[3])**2\n",
    "    n+=1\n",
    "print('mean absolute error = ',mae/n)\n",
    "print('root mean square error = ',(rmse/n)**0.5)"
   ]
  },
  {
   "cell_type": "code",
   "execution_count": null,
   "metadata": {},
   "outputs": [],
   "source": []
  }
 ]
}